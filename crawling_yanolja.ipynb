{
 "cells": [
  {
   "cell_type": "markdown",
   "metadata": {},
   "source": [
    "### 야놀자 크롤링"
   ]
  },
  {
   "cell_type": "code",
   "execution_count": 14,
   "metadata": {},
   "outputs": [],
   "source": [
    "#진행순서\n",
    "# 1. location ,name, level, score, review_count, link 에 대한 spider.py 모듈 생성\n",
    "# 2. price, room_type 은 selenium 으로 가져오기 -> why? 쿠키정보를 headers 값으로 사용해야하는 문제때문에 scrapy 불가능"
   ]
  },
  {
   "cell_type": "code",
   "execution_count": 15,
   "metadata": {},
   "outputs": [],
   "source": [
    "import scrapy, requests\n",
    "from scrapy.http import TextResponse\n",
    "import pandas as pd\n",
    "import json"
   ]
  },
  {
   "cell_type": "markdown",
   "metadata": {},
   "source": [
    "### 1.room_type, price 제외 한 컬럼 spider.py"
   ]
  },
  {
   "cell_type": "code",
   "execution_count": 16,
   "metadata": {},
   "outputs": [],
   "source": [
    "# 1. 프로젝트 생성"
   ]
  },
  {
   "cell_type": "code",
   "execution_count": 6,
   "metadata": {
    "scrolled": true
   },
   "outputs": [
    {
     "name": "stdout",
     "output_type": "stream",
     "text": [
      "New Scrapy project 'yanolja_hotel', using template directory '/home/ubuntu/.pyenv/versions/3.6.9/envs/python3/lib/python3.6/site-packages/scrapy/templates/project', created in:\r\n",
      "    /home/ubuntu/python3/notebook/project/crawling/crawling-repo-2/yanolja_hotel\r\n",
      "\r\n",
      "You can start your first spider with:\r\n",
      "    cd yanolja_hotel\r\n",
      "    scrapy genspider example example.com\r\n"
     ]
    }
   ],
   "source": [
    "!scrapy startproject yanolja_hotel"
   ]
  },
  {
   "cell_type": "code",
   "execution_count": 8,
   "metadata": {},
   "outputs": [
    {
     "name": "stdout",
     "output_type": "stream",
     "text": [
      "\u001b[01;34myanolja_hotel\u001b[00m\r\n",
      "├── scrapy.cfg\r\n",
      "├── yanolja.csv\r\n",
      "├── \u001b[01;34myanolja_hotel\u001b[00m\r\n",
      "│   ├── __init__.py\r\n",
      "│   ├── \u001b[01;34m__pycache__\u001b[00m\r\n",
      "│   │   ├── __init__.cpython-36.pyc\r\n",
      "│   │   ├── items.cpython-36.pyc\r\n",
      "│   │   └── settings.cpython-36.pyc\r\n",
      "│   ├── items.py\r\n",
      "│   ├── middlewares.py\r\n",
      "│   ├── pipelines.py\r\n",
      "│   ├── settings.py\r\n",
      "│   └── \u001b[01;34mspiders\u001b[00m\r\n",
      "│       ├── __init__.py\r\n",
      "│       ├── \u001b[01;34m__pycache__\u001b[00m\r\n",
      "│       │   ├── __init__.cpython-36.pyc\r\n",
      "│       │   └── spider.cpython-36.pyc\r\n",
      "│       └── spider.py\r\n",
      "└── yanolja_hotel.csv\r\n",
      "\r\n",
      "4 directories, 15 files\r\n"
     ]
    }
   ],
   "source": [
    "!tree yanolja_hotel"
   ]
  },
  {
   "cell_type": "code",
   "execution_count": null,
   "metadata": {},
   "outputs": [],
   "source": [
    "# 2. xpath 찾기 : headers 설정"
   ]
  },
  {
   "cell_type": "code",
   "execution_count": 8,
   "metadata": {},
   "outputs": [],
   "source": [
    "#link"
   ]
  },
  {
   "cell_type": "code",
   "execution_count": 5,
   "metadata": {},
   "outputs": [
    {
     "data": {
      "text/plain": [
       "415"
      ]
     },
     "execution_count": 5,
     "metadata": {},
     "output_type": "execute_result"
    }
   ],
   "source": [
    "#호텔 key값 가져오기\n",
    "headers = {\"User-Agent\": \"Mozilla/5.0 (Macintosh; Intel Mac OS X 10_15_7) AppleWebKit/537.36 (KHTML, like Gecko) Chrome/88.0.4324.192 Safari/537.36\", \n",
    "       \"X-Requested-With\": \"XMLHttpRequest\"\n",
    "          }\n",
    "checkin_date = \"2021-03-04\"\n",
    "checkout_date = \"2021-03-05\"\n",
    "region = \"서울\"\n",
    "num=0\n",
    "page = 1\n",
    "key_info = []\n",
    "while True:\n",
    "    parent_url = f\"https://www.yanolja.com/api/v1/contents/search?advert=KEYWORD&capacityAdult=2&capacityChild=0\\\n",
    "&checkinDate={checkin_date}&checkoutDate={checkout_date}&hotel=1&keyword=서울&lat=37.50681&lng=127.06624&page={page}&limit=20&\\\n",
    "searchKeyword={region}&searchType=hotel&sort=100&pathDivision=keyword-hotel&themes=\"\n",
    "    req = requests.get(parent_url, headers=headers)\n",
    "    response = req.json()\n",
    "    #print('page=', str(page))\n",
    "    page += 1\n",
    "    \n",
    "    if response[\"motels\"][\"counts\"] > 0:\n",
    "        key = response[\"motels\"]\n",
    "        key_info.append(key)\n",
    "    else:\n",
    "        break\n",
    "hotel_keys = []\n",
    "for i in key_info:\n",
    "    for j in i['lists']:\n",
    "        hotel_keys.append(j['key'])        \n",
    "len(hotel_keys)"
   ]
  },
  {
   "cell_type": "code",
   "execution_count": 7,
   "metadata": {},
   "outputs": [
    {
     "data": {
      "text/plain": [
       "(415, 'https://www.yanolja.com/hotel/3013410')"
      ]
     },
     "execution_count": 7,
     "metadata": {},
     "output_type": "execute_result"
    }
   ],
   "source": [
    "#랑크 모으기\n",
    "links=[]\n",
    "for hotel_key in hotel_keys:\n",
    "    url = \"https://www.yanolja.com/hotel/\" + hotel_key\n",
    "    links.append(url)\n",
    "len(links), links[0]"
   ]
  },
  {
   "cell_type": "code",
   "execution_count": 8,
   "metadata": {},
   "outputs": [
    {
     "data": {
      "text/plain": [
       "<200 https://www.yanolja.com/hotel/3013410>"
      ]
     },
     "execution_count": 8,
     "metadata": {},
     "output_type": "execute_result"
    }
   ],
   "source": [
    "# 상세 페이지\n",
    "link = links[0]\n",
    "headers = {\"user-agent\": \"Mozilla/5.0 (Macintosh; Intel Mac OS X 10_15_7) AppleWebKit/537.36 (KHTML, like Gecko) Chrome/88.0.4324.192 Safari/537.36\"}\n",
    "req = requests.get(link, headers=headers)\n",
    "response = TextResponse(req.url, body=req.text, encoding=\"utf-8\")\n",
    "response"
   ]
  },
  {
   "cell_type": "code",
   "execution_count": 9,
   "metadata": {},
   "outputs": [
    {
     "data": {
      "text/plain": [
       "('서울특별시 영등포구 경인로 870', '페어필드 바이 메리어트 서울', '4성급', '4.7', '8,695')"
      ]
     },
     "execution_count": 9,
     "metadata": {},
     "output_type": "execute_result"
    }
   ],
   "source": [
    "try:\n",
    "    location = response.xpath('//*[@id=\"__NEXT_DATA__\"]/text()')[0].extract()\n",
    "    location = json.loads(location)[\"props\"][\"pageProps\"][\"placeInfo\"][\"address\"]\n",
    "    name = response.xpath('//*[@id=\"__next\"]/main/div[1]/section[2]/h1/text()')[0].extract()\n",
    "    level = response.xpath('//*[@id=\"__next\"]/main/div[1]/section[2]/div[1]/div[1]/text()')[0].extract()\n",
    "    score = response.xpath('//*[@id=\"__next\"]/main/div[1]/section[2]/a/div/span[1]/text()')[0].extract()\n",
    "    review_count = response.xpath('//*[@id=\"__next\"]/main/div[1]/section[2]/a/span/b/text()')[0].extract()   \n",
    "except:\n",
    "    location = [\"페이지 없음\"]\n",
    "    location = [\"페이지 없음\"]\n",
    "    name = [\"페이지 없음\"]\n",
    "    level = [\"페이지 없음\"]\n",
    "    score = [\"페이지 없음\"]\n",
    "    review_count = [\"페이지 없음\"]\n",
    "\n",
    "location ,name, level, score, review_count"
   ]
  },
  {
   "cell_type": "code",
   "execution_count": 10,
   "metadata": {
    "scrolled": true
   },
   "outputs": [
    {
     "name": "stdout",
     "output_type": "stream",
     "text": [
      "1 페어필드 바이 메리어트 서울\n",
      "2 나인트리 프리미어 명동2\n",
      "3 영등포 GMS 호텔\n"
     ]
    }
   ],
   "source": [
    "locations, names, levels, scores, review_counts, loading_urls = [], [], [], [], [], []\n",
    "\n",
    "num1 = 0\n",
    "for link in links[:3]:\n",
    "    try:\n",
    "        headers = {\"user-agent\": \"Mozilla/5.0 (Macintosh; Intel Mac OS X 10_15_7) AppleWebKit/537.36 (KHTML, like Gecko) Chrome/88.0.4324.192 Safari/537.36\"}\n",
    "        req = requests.get(link, headers=headers)\n",
    "        response = TextResponse(req.url, body=req.text, encoding=\"utf-8\")\n",
    "\n",
    "        location = response.xpath('//*[@id=\"__NEXT_DATA__\"]/text()')[0].extract()\n",
    "        location = json.loads(location)[\"props\"][\"pageProps\"][\"placeInfo\"][\"address\"]\n",
    "        name = response.xpath('//*[@id=\"__next\"]/main/div[1]/section[2]/h1/text()')[0].extract()\n",
    "        level = response.xpath('//*[@id=\"__next\"]/main/div[1]/section[2]/div[1]/div[1]/text()')[0].extract()\n",
    "        score = response.xpath('//*[@id=\"__next\"]/main/div[1]/section[2]/a/div/span[1]/text()')[0].extract()\n",
    "        review_count = response.xpath('//*[@id=\"__next\"]/main/div[1]/section[2]/a/span/b/text()')[0].extract()\n",
    "    except:\n",
    "        location = \"페이지 없음\"\n",
    "        location = \"페이지 없음\"\n",
    "        name = \"페이지 없음\"\n",
    "        level = \"페이지 없음\"\n",
    "        score = \"페이지 없음\"\n",
    "        review_count = \"페이지 없음\"\n",
    "    \n",
    "    locations.append(location)\n",
    "    names.append(name)\n",
    "    levels.append(level)\n",
    "    scores.append(score)\n",
    "    review_counts.append(review_count)\n",
    "    loading_urls.append(link)\n",
    "    num1+=1\n",
    "    print(str(num1) ,name)"
   ]
  },
  {
   "cell_type": "code",
   "execution_count": 11,
   "metadata": {
    "scrolled": true
   },
   "outputs": [
    {
     "data": {
      "text/plain": [
       "(3, 3, 3, 3, 3, 3)"
      ]
     },
     "execution_count": 11,
     "metadata": {},
     "output_type": "execute_result"
    }
   ],
   "source": [
    "len(locations), len(names), len(levels), len(scores), len(review_counts), len(loading_urls)"
   ]
  },
  {
   "cell_type": "code",
   "execution_count": 13,
   "metadata": {
    "scrolled": true
   },
   "outputs": [
    {
     "data": {
      "text/html": [
       "<div>\n",
       "<style scoped>\n",
       "    .dataframe tbody tr th:only-of-type {\n",
       "        vertical-align: middle;\n",
       "    }\n",
       "\n",
       "    .dataframe tbody tr th {\n",
       "        vertical-align: top;\n",
       "    }\n",
       "\n",
       "    .dataframe thead th {\n",
       "        text-align: right;\n",
       "    }\n",
       "</style>\n",
       "<table border=\"1\" class=\"dataframe\">\n",
       "  <thead>\n",
       "    <tr style=\"text-align: right;\">\n",
       "      <th></th>\n",
       "      <th>Name</th>\n",
       "      <th>Level</th>\n",
       "      <th>Score</th>\n",
       "      <th>Reviews</th>\n",
       "      <th>Location</th>\n",
       "      <th>Link</th>\n",
       "    </tr>\n",
       "  </thead>\n",
       "  <tbody>\n",
       "    <tr>\n",
       "      <th>0</th>\n",
       "      <td>페어필드 바이 메리어트 서울</td>\n",
       "      <td>4성급</td>\n",
       "      <td>4.7</td>\n",
       "      <td>8,695</td>\n",
       "      <td>서울특별시 영등포구 경인로 870</td>\n",
       "      <td>https://www.yanolja.com/hotel/3013410</td>\n",
       "    </tr>\n",
       "    <tr>\n",
       "      <th>1</th>\n",
       "      <td>나인트리 프리미어 명동2</td>\n",
       "      <td>4성급</td>\n",
       "      <td>4.8</td>\n",
       "      <td>2,141</td>\n",
       "      <td>서울특별시 중구 마른내로 28</td>\n",
       "      <td>https://www.yanolja.com/hotel/3009497</td>\n",
       "    </tr>\n",
       "    <tr>\n",
       "      <th>2</th>\n",
       "      <td>영등포 GMS 호텔</td>\n",
       "      <td>3성급</td>\n",
       "      <td>4.7</td>\n",
       "      <td>5,552</td>\n",
       "      <td>서울특별시 영등포구 경인로 867</td>\n",
       "      <td>https://www.yanolja.com/hotel/3008321</td>\n",
       "    </tr>\n",
       "  </tbody>\n",
       "</table>\n",
       "</div>"
      ],
      "text/plain": [
       "              Name Level Score Reviews            Location  \\\n",
       "0  페어필드 바이 메리어트 서울   4성급   4.7   8,695  서울특별시 영등포구 경인로 870   \n",
       "1    나인트리 프리미어 명동2   4성급   4.8   2,141    서울특별시 중구 마른내로 28   \n",
       "2       영등포 GMS 호텔   3성급   4.7   5,552  서울특별시 영등포구 경인로 867   \n",
       "\n",
       "                                    Link  \n",
       "0  https://www.yanolja.com/hotel/3013410  \n",
       "1  https://www.yanolja.com/hotel/3009497  \n",
       "2  https://www.yanolja.com/hotel/3008321  "
      ]
     },
     "execution_count": 13,
     "metadata": {},
     "output_type": "execute_result"
    }
   ],
   "source": [
    "df = pd.DataFrame({\n",
    "    \"Name\" : names, \"Level\":levels, \"Score\":scores, \"Reviews\":review_counts, \"Location\":locations,\"Link\":loading_urls\n",
    "})\n",
    "df"
   ]
  },
  {
   "cell_type": "code",
   "execution_count": 393,
   "metadata": {},
   "outputs": [],
   "source": [
    "# 3. items.py : location ,name, level, score, review_count, link"
   ]
  },
  {
   "cell_type": "code",
   "execution_count": 1,
   "metadata": {},
   "outputs": [
    {
     "name": "stdout",
     "output_type": "stream",
     "text": [
      "Overwriting yanolja_hotel/yanolja_hotel/items.py\n"
     ]
    }
   ],
   "source": [
    "%%writefile yanolja_hotel/yanolja_hotel/items.py\n",
    "import scrapy\n",
    "\n",
    "class YanoljaHotelItem(scrapy.Item):\n",
    "    location = scrapy.Field()\n",
    "    name = scrapy.Field()\n",
    "    level = scrapy.Field()\n",
    "    score = scrapy.Field()\n",
    "    review_count = scrapy.Field()\n",
    "    link = scrapy.Field()"
   ]
  },
  {
   "cell_type": "code",
   "execution_count": 3,
   "metadata": {},
   "outputs": [],
   "source": [
    "# 4. spider.py"
   ]
  },
  {
   "cell_type": "code",
   "execution_count": null,
   "metadata": {},
   "outputs": [],
   "source": [
    "%%writefile yanolja_hotel/yanolja_hotel/spiders/spider.py\n",
    "import scrapy\n",
    "from yanolja_hotel.items import YanoljaHotelItem\n",
    "import json\n",
    "\n"
   ]
  },
  {
   "cell_type": "code",
   "execution_count": 402,
   "metadata": {},
   "outputs": [],
   "source": [
    "# 5. settings.py : robots.txt = False로 수정여부 파악"
   ]
  },
  {
   "cell_type": "code",
   "execution_count": 403,
   "metadata": {},
   "outputs": [],
   "source": [
    "# 6. 프로젝트 실행"
   ]
  },
  {
   "cell_type": "code",
   "execution_count": null,
   "metadata": {},
   "outputs": [],
   "source": [
    "# 7. argument 설정"
   ]
  },
  {
   "cell_type": "code",
   "execution_count": null,
   "metadata": {},
   "outputs": [],
   "source": [
    "# 8. pipeline.py : 크롤링한 데이터를 mongodb에 저장"
   ]
  },
  {
   "cell_type": "code",
   "execution_count": null,
   "metadata": {},
   "outputs": [],
   "source": [
    "# 9. scrapy 프로젝트에 pymongo 모듈 생성"
   ]
  },
  {
   "cell_type": "code",
   "execution_count": null,
   "metadata": {},
   "outputs": [],
   "source": []
  },
  {
   "cell_type": "code",
   "execution_count": null,
   "metadata": {},
   "outputs": [],
   "source": []
  },
  {
   "cell_type": "code",
   "execution_count": null,
   "metadata": {},
   "outputs": [],
   "source": []
  },
  {
   "cell_type": "code",
   "execution_count": null,
   "metadata": {},
   "outputs": [],
   "source": []
  },
  {
   "cell_type": "code",
   "execution_count": null,
   "metadata": {},
   "outputs": [],
   "source": []
  },
  {
   "cell_type": "code",
   "execution_count": null,
   "metadata": {},
   "outputs": [],
   "source": []
  },
  {
   "cell_type": "code",
   "execution_count": null,
   "metadata": {},
   "outputs": [],
   "source": []
  }
 ],
 "metadata": {
  "kernelspec": {
   "display_name": "Python 3",
   "language": "python",
   "name": "python3"
  },
  "language_info": {
   "codemirror_mode": {
    "name": "ipython",
    "version": 3
   },
   "file_extension": ".py",
   "mimetype": "text/x-python",
   "name": "python",
   "nbconvert_exporter": "python",
   "pygments_lexer": "ipython3",
   "version": "3.6.9"
  }
 },
 "nbformat": 4,
 "nbformat_minor": 4
}
