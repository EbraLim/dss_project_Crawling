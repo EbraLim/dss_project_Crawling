{
 "cells": [
  {
   "cell_type": "markdown",
   "metadata": {},
   "source": [
    "## checklist\n",
    "\n",
    "### 진행예정\n",
    " 1) 추가필요 열: 플랫폼명, 날짜 \\\n",
    " 2) 타 플랫폼과 합쳤을 때 형식 통일하도록 data type과 Nan 처리방법 등 정의 \\\n",
    " 3) 실행소요시간 마지막에 매직커맨드로 체크 \\\n",
    " 4) import는 설치 및 실행하는 거 settings.py 등으로 세팅하기 \\\n",
    " 5) MySQL로 나눠서 관리할 거면, 이름, 주소, 리뷰수 등은 순환주기 하루 어떤가? \\\n",
    "    리뷰수가 request를 한 번 더 보내야 해서 시간을 잡아먹는다 \\\n",
    "    그러면 어차피 스파이더를 두 개로 쪼개야하기는 하겠다\n",
    " 6) 쌓다가 원하는 호텔 원하는 가격 등 조건 방 나오면 알림 전달 서비스 추가도 좋을듯!\n",
    "\n",
    "\n",
    "### 완료\n",
    " 1) page바꿔가면서 했을 때 상품들 연속성 CHK (limit=50에 따른 상품 누락 여부 확인) -> 이상없음. \\\n",
    " 2) page=1, 2 이상 구분할 때 [4], [1]이 아니라 '전체'를 가져오게 해야겠다. 시간 저녁되니까 숫자로 안된다. -> 해결 \\\n",
    " 3) 리뷰수 추가 완료\n",
    "\n",
    "### 추후 체크 디버깅 예상\n",
<<<<<<< HEAD
    " 1) score, roomtype, price 중 현재 데일리호텔은 score이슈만 발생. 나머지도 추후 체크 필요 예상. \\\n",
    " 2) headers에서 app-version 나중에 업데이트 필요할 수도 있음. 데이터 들어오는데 숫자 앉맞으면 확인필요 예상되는 인자."
   ]
  },
  {
   "cell_type": "code",
   "execution_count": null,
   "metadata": {},
   "outputs": [],
   "source": [
    "# 보완필요한 부분\n",
    "# 리뷰수는 어떻게 반영할까?\n",
    "# 예약만실 아예 없애기"
   ]
  },
  {
   "cell_type": "code",
   "execution_count": null,
   "metadata": {},
   "outputs": [],
   "source": [
    "# url내 변수: 지역번호, 시작일, 종료일(or 박수), persons=2 default"
   ]
  },
  {
   "cell_type": "code",
   "execution_count": 3,
   "metadata": {
    "collapsed": true
   },
   "outputs": [
    {
     "name": "stdout",
     "output_type": "stream",
     "text": [
      "Collecting scrapy\n",
      "  Downloading Scrapy-2.4.1-py2.py3-none-any.whl (239 kB)\n",
      "\u001b[K     |████████████████████████████████| 239 kB 1.8 MB/s eta 0:00:01\n",
      "\u001b[?25hCollecting service-identity>=16.0.0\n",
      "  Downloading service_identity-18.1.0-py2.py3-none-any.whl (11 kB)\n",
      "Collecting itemloaders>=1.0.1\n",
      "  Downloading itemloaders-1.0.4-py3-none-any.whl (11 kB)\n",
      "Collecting w3lib>=1.17.0\n",
      "  Downloading w3lib-1.22.0-py2.py3-none-any.whl (20 kB)\n",
      "Collecting parsel>=1.5.0\n",
      "  Downloading parsel-1.6.0-py2.py3-none-any.whl (13 kB)\n",
      "Collecting cryptography>=2.0\n",
      "  Downloading cryptography-3.4.6-cp36-abi3-manylinux2014_x86_64.whl (3.2 MB)\n",
      "\u001b[K     |████████████████████████████████| 3.2 MB 11.9 MB/s eta 0:00:01\n",
      "\u001b[?25hCollecting queuelib>=1.4.2\n",
      "  Downloading queuelib-1.5.0-py2.py3-none-any.whl (13 kB)\n",
      "Collecting cssselect>=0.9.1\n",
      "  Downloading cssselect-1.1.0-py2.py3-none-any.whl (16 kB)\n",
      "Collecting pyOpenSSL>=16.2.0\n",
      "  Downloading pyOpenSSL-20.0.1-py2.py3-none-any.whl (54 kB)\n",
      "\u001b[K     |████████████████████████████████| 54 kB 3.8 MB/s  eta 0:00:01\n",
      "\u001b[?25hCollecting PyDispatcher>=2.0.5\n",
      "  Downloading PyDispatcher-2.0.5.zip (47 kB)\n",
      "\u001b[K     |████████████████████████████████| 47 kB 7.4 MB/s  eta 0:00:01\n",
      "\u001b[?25hCollecting itemadapter>=0.1.0\n",
      "  Downloading itemadapter-0.2.0-py3-none-any.whl (9.3 kB)\n",
      "Collecting lxml>=3.5.0\n",
      "  Downloading lxml-4.6.2-cp38-cp38-manylinux1_x86_64.whl (5.4 MB)\n",
      "\u001b[K     |████████████████████████████████| 5.4 MB 20.2 MB/s eta 0:00:01     |██▋                             | 450 kB 20.2 MB/s eta 0:00:01     |█████████████████████████▉      | 4.4 MB 20.2 MB/s eta 0:00:01\n",
      "\u001b[?25hCollecting zope.interface>=4.1.3\n",
      "  Downloading zope.interface-5.2.0-cp38-cp38-manylinux2010_x86_64.whl (244 kB)\n",
      "\u001b[K     |████████████████████████████████| 244 kB 37.3 MB/s eta 0:00:01\n",
      "\u001b[?25hCollecting Twisted>=17.9.0\n",
      "  Downloading Twisted-20.3.0.tar.bz2 (3.1 MB)\n",
      "\u001b[K     |████████████████████████████████| 3.1 MB 38.0 MB/s eta 0:00:01     |████████████████▌               | 1.6 MB 38.0 MB/s eta 0:00:01\n",
      "\u001b[?25hCollecting protego>=0.1.15\n",
      "  Downloading Protego-0.1.16.tar.gz (3.2 MB)\n",
      "\u001b[K     |████████████████████████████████| 3.2 MB 37.0 MB/s eta 0:00:01\n",
      "\u001b[?25hRequirement already satisfied: cffi>=1.12 in /home/ubuntu/.pyenv/versions/3.8.5/envs/python3/lib/python3.8/site-packages (from cryptography>=2.0->scrapy) (1.14.4)\n",
      "Requirement already satisfied: pycparser in /home/ubuntu/.pyenv/versions/3.8.5/envs/python3/lib/python3.8/site-packages (from cffi>=1.12->cryptography>=2.0->scrapy) (2.20)\n",
      "Collecting jmespath>=0.9.5\n",
      "  Downloading jmespath-0.10.0-py2.py3-none-any.whl (24 kB)\n",
      "Requirement already satisfied: six>=1.6.0 in /home/ubuntu/.pyenv/versions/3.8.5/envs/python3/lib/python3.8/site-packages (from parsel>=1.5.0->scrapy) (1.15.0)\n",
      "Collecting pyasn1\n",
      "  Downloading pyasn1-0.4.8-py2.py3-none-any.whl (77 kB)\n",
      "\u001b[K     |████████████████████████████████| 77 kB 5.1 MB/s  eta 0:00:01\n",
      "\u001b[?25hCollecting pyasn1-modules\n",
      "  Downloading pyasn1_modules-0.2.8-py2.py3-none-any.whl (155 kB)\n",
      "\u001b[K     |████████████████████████████████| 155 kB 20.7 MB/s eta 0:00:01    |████████▍                       | 40 kB 32.9 MB/s eta 0:00:01\n",
      "\u001b[?25hRequirement already satisfied: attrs>=16.0.0 in /home/ubuntu/.pyenv/versions/3.8.5/envs/python3/lib/python3.8/site-packages (from service-identity>=16.0.0->scrapy) (20.3.0)\n",
      "Collecting constantly>=15.1\n",
      "  Downloading constantly-15.1.0-py2.py3-none-any.whl (7.9 kB)\n",
      "Collecting incremental>=16.10.1\n",
      "  Using cached incremental-17.5.0-py2.py3-none-any.whl (16 kB)\n",
      "Collecting Automat>=0.3.0\n",
      "  Downloading Automat-20.2.0-py2.py3-none-any.whl (31 kB)\n",
      "Collecting hyperlink>=17.1.1\n",
      "  Downloading hyperlink-21.0.0-py2.py3-none-any.whl (74 kB)\n",
      "\u001b[K     |████████████████████████████████| 74 kB 314 kB/s  eta 0:00:01\n",
      "\u001b[?25hCollecting PyHamcrest!=1.10.0,>=1.9.0\n",
      "  Downloading PyHamcrest-2.0.2-py3-none-any.whl (52 kB)\n",
      "\u001b[K     |████████████████████████████████| 52 kB 1.4 MB/s  eta 0:00:01\n",
      "\u001b[?25hRequirement already satisfied: idna>=2.5 in /home/ubuntu/.pyenv/versions/3.8.5/envs/python3/lib/python3.8/site-packages (from hyperlink>=17.1.1->Twisted>=17.9.0->scrapy) (2.10)\n",
      "Requirement already satisfied: setuptools in /home/ubuntu/.pyenv/versions/3.8.5/envs/python3/lib/python3.8/site-packages (from zope.interface>=4.1.3->scrapy) (47.1.0)\n",
      "Using legacy 'setup.py install' for protego, since package 'wheel' is not installed.\n",
      "Using legacy 'setup.py install' for PyDispatcher, since package 'wheel' is not installed.\n",
      "Using legacy 'setup.py install' for Twisted, since package 'wheel' is not installed.\n",
      "Installing collected packages: w3lib, pyasn1, lxml, cssselect, zope.interface, PyHamcrest, pyasn1-modules, parsel, jmespath, itemadapter, incremental, hyperlink, cryptography, constantly, Automat, Twisted, service-identity, queuelib, pyOpenSSL, PyDispatcher, protego, itemloaders, scrapy\n",
      "    Running setup.py install for Twisted ... \u001b[?25ldone\n",
      "\u001b[?25h    Running setup.py install for PyDispatcher ... \u001b[?25ldone\n",
      "\u001b[?25h    Running setup.py install for protego ... \u001b[?25ldone\n",
      "\u001b[?25hSuccessfully installed Automat-20.2.0 PyDispatcher-2.0.5 PyHamcrest-2.0.2 Twisted-20.3.0 constantly-15.1.0 cryptography-3.4.6 cssselect-1.1.0 hyperlink-21.0.0 incremental-17.5.0 itemadapter-0.2.0 itemloaders-1.0.4 jmespath-0.10.0 lxml-4.6.2 parsel-1.6.0 protego-0.1.16 pyOpenSSL-20.0.1 pyasn1-0.4.8 pyasn1-modules-0.2.8 queuelib-1.5.0 scrapy-2.4.1 service-identity-18.1.0 w3lib-1.22.0 zope.interface-5.2.0\n"
     ]
    }
   ],
   "source": [
    "# !pip install scrapy"
   ]
  },
  {
   "cell_type": "code",
   "execution_count": 1,
   "metadata": {},
   "outputs": [],
   "source": [
    "import datetime"
   ]
  },
  {
   "cell_type": "code",
   "execution_count": 2,
   "metadata": {},
   "outputs": [],
   "source": [
    "import scrapy, requests\n",
    "from scrapy.http import TextResponse\n",
    "import datetime"
   ]
  },
  {
   "cell_type": "code",
   "execution_count": 2,
   "metadata": {},
   "outputs": [],
   "source": [
    "# xpath 찾기"
   ]
  },
  {
   "cell_type": "code",
   "execution_count": 3,
   "metadata": {},
   "outputs": [
    {
     "data": {
      "text/plain": [
       "<Response [200]>"
      ]
     },
     "execution_count": 3,
     "metadata": {},
     "output_type": "execute_result"
    }
   ],
   "source": [
    "req = requests.get('https://www.goodchoice.kr/product/search/2/2012?sort=HIT&sel_date=2021-02-26&sel_date2=2021-02-27&persons=2')\n",
    "req"
   ]
  },
  {
   "cell_type": "code",
   "execution_count": 4,
   "metadata": {},
   "outputs": [
    {
     "data": {
      "text/plain": [
       "<200 https://www.goodchoice.kr/product/search/2/2012?sort=HIT&sel_date=2021-02-26&sel_date2=2021-02-27&persons=2>"
      ]
     },
     "execution_count": 4,
     "metadata": {},
     "output_type": "execute_result"
    }
   ],
   "source": [
    "response = TextResponse(req.url, body=req.text, encoding='utf-8')\n",
    "response"
   ]
  },
  {
   "cell_type": "code",
   "execution_count": 5,
   "metadata": {},
   "outputs": [
    {
     "data": {
      "text/plain": [
       "55"
      ]
     },
     "execution_count": 5,
     "metadata": {},
     "output_type": "execute_result"
    }
   ],
   "source": [
    "links = response.xpath('//*[@id=\"poduct_list_area\"]/li/a/@href').extract()\n",
    "len(links)"
   ]
  },
  {
   "cell_type": "code",
   "execution_count": 6,
   "metadata": {},
   "outputs": [],
   "source": [
    "# 이 사이에서 가격대 등 조건 안 맞는 애들 버려서 처리량 줄이는 건 어떨까?"
   ]
  },
  {
   "cell_type": "code",
   "execution_count": 18,
   "metadata": {},
   "outputs": [],
   "source": [
    "# 하나의 구group에서 불러오기 -> 이거 되면 서울 전체로, 날짜 등 변수 반영해서!"
   ]
  },
  {
   "cell_type": "code",
   "execution_count": 16,
   "metadata": {
    "collapsed": true
   },
   "outputs": [
    {
     "name": "stdout",
     "output_type": "stream",
     "text": [
      "더 디자이너스 리즈 강남 프리미어\n",
      "노보텔 앰배서더 서울 강남\n",
      "[오늘의 특가] 호텔 리베라\n",
      "머큐어 앰배서더 강남 쏘도베\n",
      "임피리얼 팰리스 서울\n",
      "더 리센츠 프리미엄 강남가로수길 호텔\n",
      "호텔 안테룸 서울\n",
      "인터컨티넨탈 서울 코엑스\n",
      "그랜드 인터컨티넨탈 서울 파르나스\n",
      "호텔 인 나인 강남\n",
      "파크 하얏트 서울\n",
      "안다즈 서울 강남\n",
      "호텔 유리앤\n",
      "글래드 강남 코엑스센터\n",
      "오크우드 프리미어 코엑스센터\n",
      "도미인 서울강남\n",
      "포포인츠 바이 쉐라톤 서울 강남\n",
      "라마다 서울 호텔\n",
      "이비스 스타일 앰배서더 강남\n",
      "알로프트 서울 강남\n",
      "호텔 크레센도 서울\n",
      "보리 호텔\n",
      "호텔뉴브\n",
      "[특가] 호텔 데님\n",
      "호텔 엔트라 강남\n",
      "호텔 선샤인 서울\n",
      "호텔 페이토 삼성\n",
      "호텔 프리마\n",
      "파티오세븐 호텔\n",
      "에이든 바이베스트웨스턴 청담\n",
      "호텔 더 디자이너스 삼성\n",
      "호텔 카푸치노\n",
      "베스트웨스턴 프리미어 강남 호텔\n",
      "호텔 소울하다\n",
      "호텔스타 강남\n",
      "라까사호텔 서울\n",
      "강남 스테이호텔\n",
      "신라스테이 역삼\n",
      "신라스테이 삼성\n",
      "삼정호텔\n",
      "L7 강남 바이 롯데\n",
      "호텔 컬리넌 대치\n",
      "호텔 그라모스\n",
      "라비타호텔\n",
      "역삼 트리아호텔\n",
      "베니키아 강남 노블레스\n",
      "호텔 세느\n",
      "삼성 XYM 코엑스\n",
      "호텔 카파스\n",
      "호텔 역삼 아르누보씨티\n",
      "호텔 컬리넌 개포\n",
      "리치웰 호텔\n",
      "블루밍 하우스\n",
      "역삼 프리미어호텔 XYM\n",
      "호텔스타 선릉\n"
     ]
    }
   ],
   "source": [
    "names, levels, scores, locations, roomtypes, prices, urls = [], [], [], [], [], [], []\n",
    "\n",
    "for link in links:\n",
    "    req = requests.get(link)\n",
    "    response = TextResponse(req.url, body=req.text, encoding='utf-8')\n",
    "    name = response.xpath('//*[@id=\"content\"]/div[1]/div[2]/div[1]/h2/text()')[0].extract()\n",
    "    level = response.xpath('//*[@id=\"content\"]/div[1]/div[2]/div[1]/span/text()')[0].extract()\n",
    "    score = response.xpath('//*[@id=\"content\"]/div[1]/div[2]/div[1]/div[1]/span/text()')[0].extract()\n",
    "    location = response.xpath('//*[@id=\"content\"]/div[1]/div[2]/div[1]/p[2]/text()')[0].extract()\n",
    "    try:\n",
    "        roomtype = response.xpath('//*[@id=\"product_filter_form\"]/article/div/strong/text()')[1:].extract()\n",
    "    except:\n",
    "        roomtype = ['예약 만실']\n",
    "    price = []\n",
    "    for num in range(2, 2+len(roomtype)):\n",
    "        try:\n",
    "            price.append(response.xpath(f'//*[@id=\"product_filter_form\"]/article/div[{num}]/div[3]/div/div/div/p[2]/b/text()')[0].extract())\n",
    "        except:\n",
    "            price.append('다른날짜 확인')\n",
    "\n",
    "    \n",
    "    name = [name] * len(roomtype)\n",
    "    level = [level] * len(roomtype)\n",
    "    score = [score] * len(roomtype)\n",
    "    location = [location] * len(roomtype)\n",
    "    landing_url = [link] * len(roomtype)\n",
    "    if len(roomtype) == len(price):\n",
    "        print(name[0])\n",
    "    else:\n",
    "        raise Exception('개수오류')\n",
    "    names.extend(name)\n",
    "    levels.extend(level)\n",
    "    scores.extend(score)\n",
    "    locations.extend(location)\n",
    "    roomtypes.extend(roomtype)\n",
    "    prices.extend(price)    \n",
    "    urls.extend(landing_url)"
   ]
  },
  {
   "cell_type": "code",
   "execution_count": 15,
   "metadata": {},
   "outputs": [
    {
     "data": {
      "text/plain": [
       "(401, 401, 401, 401, 401, 401, 401)"
      ]
     },
     "execution_count": 15,
     "metadata": {},
     "output_type": "execute_result"
    }
   ],
   "source": [
    "len(names), len(levels), len(scores), len(locations), len(roomtypes), len(prices), len(urls)"
   ]
  },
  {
   "cell_type": "code",
   "execution_count": 17,
   "metadata": {},
   "outputs": [
    {
     "data": {
      "text/html": [
       "<div>\n",
       "<style scoped>\n",
       "    .dataframe tbody tr th:only-of-type {\n",
       "        vertical-align: middle;\n",
       "    }\n",
       "\n",
       "    .dataframe tbody tr th {\n",
       "        vertical-align: top;\n",
       "    }\n",
       "\n",
       "    .dataframe thead th {\n",
       "        text-align: right;\n",
       "    }\n",
       "</style>\n",
       "<table border=\"1\" class=\"dataframe\">\n",
       "  <thead>\n",
       "    <tr style=\"text-align: right;\">\n",
       "      <th></th>\n",
       "      <th>Name</th>\n",
       "      <th>Level</th>\n",
       "      <th>Score</th>\n",
       "      <th>Location</th>\n",
       "      <th>RoomType</th>\n",
       "      <th>Price</th>\n",
       "      <th>Link</th>\n",
       "    </tr>\n",
       "  </thead>\n",
       "  <tbody>\n",
       "    <tr>\n",
       "      <th>396</th>\n",
       "      <td>역삼 프리미어호텔 XYM</td>\n",
       "      <td>부티크</td>\n",
       "      <td>8.7</td>\n",
       "      <td>서울 강남구 역삼동 718-18</td>\n",
       "      <td>디럭스 더블 (주차 불가 차량 SUV, 럭셔리세...</td>\n",
       "      <td>79,800원</td>\n",
       "      <td>https://www.goodchoice.kr/product/detail?ano=9...</td>\n",
       "    </tr>\n",
       "    <tr>\n",
       "      <th>397</th>\n",
       "      <td>역삼 프리미어호텔 XYM</td>\n",
       "      <td>부티크</td>\n",
       "      <td>8.7</td>\n",
       "      <td>서울 강남구 역삼동 718-18</td>\n",
       "      <td>프리미엄 더블</td>\n",
       "      <td>99,800원</td>\n",
       "      <td>https://www.goodchoice.kr/product/detail?ano=9...</td>\n",
       "    </tr>\n",
       "    <tr>\n",
       "      <th>398</th>\n",
       "      <td>역삼 프리미어호텔 XYM</td>\n",
       "      <td>부티크</td>\n",
       "      <td>8.7</td>\n",
       "      <td>서울 강남구 역삼동 718-18</td>\n",
       "      <td>스위트 더블</td>\n",
       "      <td>129,800원</td>\n",
       "      <td>https://www.goodchoice.kr/product/detail?ano=9...</td>\n",
       "    </tr>\n",
       "    <tr>\n",
       "      <th>399</th>\n",
       "      <td>역삼 프리미어호텔 XYM</td>\n",
       "      <td>부티크</td>\n",
       "      <td>8.7</td>\n",
       "      <td>서울 강남구 역삼동 718-18</td>\n",
       "      <td>로얄 스위트 더블</td>\n",
       "      <td>199,800원</td>\n",
       "      <td>https://www.goodchoice.kr/product/detail?ano=9...</td>\n",
       "    </tr>\n",
       "    <tr>\n",
       "      <th>400</th>\n",
       "      <td>호텔스타 선릉</td>\n",
       "      <td>부티크</td>\n",
       "      <td>8.2</td>\n",
       "      <td>서울 강남구 삼성동 141-21</td>\n",
       "      <td>스탠다드 (19시 체크인)</td>\n",
       "      <td>62,000원</td>\n",
       "      <td>https://www.goodchoice.kr/product/detail?ano=5...</td>\n",
       "    </tr>\n",
       "  </tbody>\n",
       "</table>\n",
       "</div>"
      ],
      "text/plain": [
       "              Name Level Score           Location  \\\n",
       "396  역삼 프리미어호텔 XYM   부티크   8.7  서울 강남구 역삼동 718-18   \n",
       "397  역삼 프리미어호텔 XYM   부티크   8.7  서울 강남구 역삼동 718-18   \n",
       "398  역삼 프리미어호텔 XYM   부티크   8.7  서울 강남구 역삼동 718-18   \n",
       "399  역삼 프리미어호텔 XYM   부티크   8.7  서울 강남구 역삼동 718-18   \n",
       "400        호텔스타 선릉   부티크   8.2  서울 강남구 삼성동 141-21   \n",
       "\n",
       "                          RoomType     Price  \\\n",
       "396  디럭스 더블 (주차 불가 차량 SUV, 럭셔리세...   79,800원   \n",
       "397                        프리미엄 더블   99,800원   \n",
       "398                         스위트 더블  129,800원   \n",
       "399                      로얄 스위트 더블  199,800원   \n",
       "400                 스탠다드 (19시 체크인)   62,000원   \n",
       "\n",
       "                                                  Link  \n",
       "396  https://www.goodchoice.kr/product/detail?ano=9...  \n",
       "397  https://www.goodchoice.kr/product/detail?ano=9...  \n",
       "398  https://www.goodchoice.kr/product/detail?ano=9...  \n",
       "399  https://www.goodchoice.kr/product/detail?ano=9...  \n",
       "400  https://www.goodchoice.kr/product/detail?ano=5...  "
      ]
     },
     "execution_count": 17,
     "metadata": {},
     "output_type": "execute_result"
    }
   ],
   "source": [
    "df = pd.DataFrame({\n",
    "    'Name': names, 'Level': levels, 'Score':scores, 'Location': locations,\n",
    "    'RoomType': roomtypes, 'Price': prices, 'Link': urls\n",
    "})\n",
    "df.tail()"
=======
    " 1) 예약만실 시 그대로 반영 or 삭제"
>>>>>>> 20b952e5f497a391cd03abb768a14b36a1d43dc7
   ]
  },
  {
   "cell_type": "markdown",
   "metadata": {},
   "source": [
    "# 함수화"
   ]
  },
  {
   "cell_type": "code",
<<<<<<< HEAD
   "execution_count": 5,
=======
   "execution_count": 1,
   "id": "weird-salmon",
>>>>>>> 20b952e5f497a391cd03abb768a14b36a1d43dc7
   "metadata": {},
   "outputs": [],
   "source": [
    "# 사전 import & settings\n",
    "import scrapy, requests\n",
    "from scrapy.http import TextResponse\n",
<<<<<<< HEAD
    "import datetime"
   ]
  },
  {
   "cell_type": "code",
   "execution_count": 6,
   "metadata": {},
   "outputs": [],
   "source": [
    "gu_dict = {\n",
    "    'gu_code': ['2012', '2019', '2016', '2014', '2015', '2020', '2018', '2017', '2021'],\n",
    "    'gu_name': ['강남/역삼/삼성/신사/청담', '서초/교대', '잠실/송파/왕십리/강동', '을지로/시청/명동', '종로/인사동/동대문/강북',\n",
    "               '서울역/이태원/용산', '마포/홍대/신촌/서대문', '영등포/여의도/김포공항', '구로/금천/관악/동작'],\n",
    "}"
   ]
  },
  {
   "cell_type": "code",
   "execution_count": 7,
   "metadata": {},
   "outputs": [],
   "source": [
    "gu_code = ['2012', '2019', '2016', '2014', '2015', '2020', '2018', '2017', '2021']"
   ]
  },
  {
   "cell_type": "code",
   "execution_count": 12,
   "metadata": {},
   "outputs": [],
   "source": [
    "today = datetime.date.today()"
   ]
  },
  {
   "cell_type": "code",
   "execution_count": 13,
   "metadata": {},
   "outputs": [],
   "source": [
    "# url내 변수: 지역번호, 시작일, 종료일(or 박수), persons=2 default"
   ]
  },
  {
   "cell_type": "code",
   "execution_count": 28,
   "metadata": {},
   "outputs": [
    {
     "name": "stdout",
     "output_type": "stream",
     "text": [
      "https://www.goodchoice.kr/product/search/2/2019?sort=HIT&sel_date=2021-03-01&sel_date2=2021-03-03&persons=2\n"
     ]
    }
   ],
   "source": [
    "reg_code = '2019'\n",
    "start_date = today.strftime(\"%Y-%m-%d\")\n",
    "stays = 2\n",
    "end_date = (today + datetime.timedelta(days=stays)).strftime(\"%Y-%m-%d\")\n",
    "persons = \"2\"\n",
    "url = f'https://www.goodchoice.kr/product/search/2/{reg_code}?sort=HIT&sel_date={start_date}&sel_date2={end_date}&persons={persons}'\n",
    "print(url)"
   ]
  },
  {
   "cell_type": "code",
   "execution_count": 29,
   "metadata": {},
   "outputs": [
    {
     "data": {
      "text/plain": [
       "('2021-03-01', '2021-03-03')"
      ]
     },
     "execution_count": 29,
     "metadata": {},
     "output_type": "execute_result"
    }
   ],
   "source": [
    "start_date, end_date"
   ]
  },
  {
   "cell_type": "code",
   "execution_count": 15,
   "metadata": {},
   "outputs": [],
   "source": [
    "def goodchoice(start_date= today.strftime(\"%Y-%m-%d\"),\\\n",
    "               end_date = (today + datetime.timedelta(days=1)).strftime(\"%Y-%m-%d\"),\\\n",
    "               persons=2):\n",
=======
    "import datetime\n",
    "import re\n",
    "\n",
    "\n",
    "KST = datetime.timezone(datetime.timedelta(hours=9))\n",
    "today = datetime.datetime.now(tz=KST)\n",
    "start_date= today.strftime(\"%Y-%m-%d\") # 시작일 디폴트 = 오늘\n",
    "end_date = (today + datetime.timedelta(days=1)).strftime(\"%Y-%m-%d\") # 종료일 디폴트 = 내일\n",
    "staydays = (datetime.datetime.strptime(end_date,'%Y-%m-%d').date() - \\\n",
    "            datetime.datetime.strptime(start_date,'%Y-%m-%d').date()).days # 숙박일수 디폴트 = 1박start_date, end_date\n",
    "gu_code = ['2012', '2019', '2016', '2014', '2015', '2020', '2018', '2017', '2021']\n",
    "\n",
    "\n",
    "def goodchoice(start_date= start_date, end_date = end_date, persons=2):\n",
>>>>>>> 20b952e5f497a391cd03abb768a14b36a1d43dc7
    "    \n",
    "    \n",
    "    # 칼럼이 될 빈 리스트 생성\n",
    "    names, levels, scores, locations, roomtypes, prices, reviews, urls = [], [], [], [], [], [], [], []\n",
    "    \n",
    "    \n",
    "    # 구별 url 생성\n",
    "    for gu in gu_code:\n",
    "        url = f'https://www.goodchoice.kr/product/search/2/{gu}?sort=HIT\\\n",
    "&sel_date={start_date}&sel_date2={end_date}&persons={persons}'\n",
    "        req = requests.get(url)\n",
    "        response = TextResponse(req.url, body=req.text, encoding='utf-8')\n",
    "        links = response.xpath('//*[@id=\"poduct_list_area\"]/li/a/@href').extract()\n",
    "\n",
    "        \n",
    "    # 각 구 당 호텔정보 크롤링 \n",
    "        for link in links:\n",
    "            req = requests.get(link)\n",
    "            response = TextResponse(req.url, body=req.text, encoding='utf-8')\n",
    "            name = response.xpath('//*[@id=\"content\"]/div[1]/div[2]/div[1]/h2/text()')[0].extract()\n",
    "            level = response.xpath('//*[@id=\"content\"]/div[1]/div[2]/div[1]/span/text()')[0].extract()\n",
    "            try:\n",
    "                score = response.xpath('//*[@id=\"content\"]/div[1]/div[2]/div[1]/div[1]/span/text()')[0].extract()\n",
    "            except:\n",
    "                score = ['점수없음']\n",
    "            location = response.xpath('//*[@id=\"content\"]/div[1]/div[2]/div[1]/p[2]/text()')[0].extract()\n",
    "            try:\n",
    "                roomtype = response.xpath('//*[@id=\"product_filter_form\"]/article/div/strong/text()')[1:].extract()\n",
    "            except:\n",
    "                roomtype = ['예약만실']\n",
    "            price = []\n",
    "            for num in range(2, 2+len(roomtype)):\n",
    "                try:\n",
    "                    price.append(response.xpath(f'//*[@id=\"product_filter_form\"]/article/div[{num}]/div[3]/div/div/div/p[2]/b/text()')[0].extract())\n",
    "                except:\n",
    "                    price.append('다른날짜확인')\n",
    "\n",
    "    # 리뷰수 크롤링 (link에 직접 담겨있지 않으며 link url의 hotel_id로 request url 재구성 필요)\n",
    "            hotel_id = re.findall(\"ano\\=([0-9]+)\\&\", link)[0]\n",
    "            review_url = 'https://www.goodchoice.kr/product/get_review_non'\n",
    "            params = {\"page\": 0, \"ano\": hotel_id}\n",
    "            response = requests.post(review_url, params)\n",
    "            review = re.findall('\"count\":([0-9]+)', response.text)[0]\n",
    "\n",
    "\n",
    "    # 열들 간 행개수 일치시키기 (print부분은 최종에서는 지우기)\n",
    "            name = [name] * len(roomtype)\n",
    "            level = [level] * len(roomtype)\n",
    "            score = [score] * len(roomtype)\n",
    "            location = [location] * len(roomtype)\n",
    "            review = [review] * len(roomtype)\n",
    "            landing_url = [link] * len(roomtype)\n",
    "            if len(roomtype) == len(price):\n",
    "                print(name[0])\n",
    "            else:\n",
    "                raise Exception('개수오류')\n",
    "           \n",
    "        \n",
    "    # 데이터 추가\n",
    "            names.extend(name)\n",
    "            levels.extend(level)\n",
    "            scores.extend(score)\n",
    "            locations.extend(location)\n",
    "            roomtypes.extend(roomtype)\n",
    "            prices.extend(price)  \n",
    "            reviews.extend(review)\n",
    "            urls.extend(landing_url)\n",
    "            \n",
    "\n",
    "    # 데이터프레임화\n",
    "    df = pd.DataFrame({\n",
    "    'Name': names, 'Level': levels, 'Score':scores, 'Review': reviews, 'Location': locations,\n",
    "    'RoomType': roomtypes, 'Price': prices, 'Link': urls\n",
    "    })\n",
    "    return df"
   ]
  },
  {
   "cell_type": "code",
<<<<<<< HEAD
   "execution_count": 16,
=======
   "execution_count": 2,
   "id": "failing-harvey",
>>>>>>> 20b952e5f497a391cd03abb768a14b36a1d43dc7
   "metadata": {
    "scrolled": true
   },
   "outputs": [
    {
     "name": "stdout",
     "output_type": "stream",
     "text": [
      "호텔 데님\n",
      "호텔 인 나인 강남\n",
      "호텔 리베라\n",
      "더 디자이너스 리즈 강남 프리미어\n",
      "노보텔 앰배서더 서울 강남\n",
      "더 리센츠 프리미엄 강남가로수길 호텔\n",
      "이비스 스타일 앰배서더 강남\n",
      "머큐어 앰배서더 강남 쏘도베\n",
      "호텔 유리앤\n",
      "임피리얼 팰리스 서울\n",
      "호텔 안테룸 서울\n",
      "인터컨티넨탈 서울 코엑스\n",
      "그랜드 인터컨티넨탈 서울 파르나스\n",
      "파크 하얏트 서울\n",
      "안다즈 서울 강남\n",
      "글래드 강남 코엑스센터\n",
      "오크우드 프리미어 코엑스센터\n",
      "도미인 서울강남\n",
      "포포인츠 바이 쉐라톤 서울 강남\n",
      "라마다 서울 호텔\n",
      "알로프트 서울 강남\n",
      "호텔 크레센도 서울\n",
      "보리 호텔\n",
      "호텔 포레힐\n",
      "호텔 엔트라 강남\n",
      "호텔 선샤인 서울\n",
      "호텔 페이토 삼성\n",
      "호텔 프리마\n",
      "파티오세븐 호텔\n",
      "에이든 바이베스트웨스턴 청담\n",
      "호텔 더 디자이너스 삼성\n",
      "호텔 카푸치노\n",
      "베스트웨스턴 프리미어 강남 호텔\n",
      "호텔 소울하다\n",
      "호텔스타 강남\n",
      "라까사호텔 서울\n",
      "강남 스테이호텔\n",
      "신라스테이 역삼\n",
      "인더시티 비즈니스\n",
      "신라스테이 삼성\n",
      "삼정호텔\n",
      "L7 강남 바이 롯데\n",
      "강남 패밀리 호텔\n",
      "호텔 컬리넌 대치\n",
      "호텔 그라모스\n",
      "호텔 아노블리 \n",
      "라비타호텔\n",
      "역삼 트리아호텔\n",
      "베니키아 강남 노블레스\n",
      "호텔 세느\n",
      "삼성 XYM 코엑스\n",
      "호텔 카파스\n",
      "호텔 컬리넌 개포\n",
      "리치웰 호텔\n",
      "역삼 프리미어호텔 XYM\n",
      "호텔스타 선릉\n",
      "녹스 부띠끄 호텔\n",
      "JW 메리어트 호텔 서울\n",
      "어반 플레이스 강남\n",
      "더케이 호텔 서울\n",
      "신라스테이 서초\n",
      "오라카이 청계산 호텔\n",
      "호텔 아르누보서초\n",
      "오클라우드 호텔\n",
      "호텔 페이토 강남\n",
      "소설 호텔\n",
      "강남 아르누보씨티\n",
      "서초 IMT호텔\n",
      "서초 E호텔\n",
      "호텔티롤\n",
      "서초 라리아호텔\n",
      "라바호텔\n",
      "나인스 호텔\n",
      "서초 아트호텔\n",
      "서초 두꺼비호텔\n",
      "호텔 파크하비오\n",
      "로사나 부띠끄\n",
      "파로스 호텔\n",
      "롯데호텔 월드\n",
      "잠실 2.4 호텔\n",
      "인피니 호텔\n",
      "잠실 딜라이트 호텔\n",
      "신천(잠실새내) 호텔 더 캐슬\n",
      "잠실(방이) 호텔 더 캐슬\n",
      "가락 호텔\n",
      "비스타 워커힐 서울\n",
      "호텔 더 디자이너스 프리미어 건대\n",
      "호텔 더 디자이너스 건대\n",
      "호텔 컬리넌 건대 1호점\n",
      "건대 구구호텔\n",
      "광진 피넛호텔\n",
      "호텔포코\n",
      "아모렉스 호텔\n",
      "호텔 컬리넌 왕십리\n",
      "천호 바고호텔\n",
      "천호 호텔 더 블루\n",
      "노보텔 앰배서더 동대문호텔&레지던스\n",
      "호텔 그레이스리 서울\n",
      "티마크 그랜드 호텔\n",
      "레스케이프\n",
      "세종호텔\n",
      "밀레니엄 힐튼 서울\n",
      "라마다 바이 윈덤 서울 동대문\n",
      "이비스 스타일 앰배서더 명동\n",
      "트레블로지 명동 을지로 호텔\n",
      "알로프트 서울 명동\n",
      "코트야드 메리어트 서울 남대문\n",
      "[특가] 호텔 피제이 명동\n",
      "프레이저 플레이스 센트럴 서울\n",
      "이비스 앰배서더 서울 명동\n",
      "나인트리 프리미어 호텔 명동2\n",
      "호텔 스카이파크 킹스타운 동대문점\n",
      "나인트리 호텔 동대문\n",
      "라마다 호텔앤스위트 서울 남대문\n",
      "솔라리아 니시테츠 호텔 명동\n",
      "을지로 코업 레지던스\n",
      "바비엥 스위트 2\n",
      "ENA 스위트호텔 남대문\n",
      "나인트리 호텔 명동\n",
      "롯데호텔 서울 이그제큐티브타워\n",
      "코리아나 호텔\n",
      "호텔 미드시티 명동\n",
      "마누\n",
      "호텔 스카이파크 명동 3호점\n",
      "현대레지던스\n",
      "롯데호텔 서울\n",
      "호텔 토마스 명동\n",
      "퍼시픽 호텔\n",
      "더 플라자\n",
      "라인 호텔 명동\n",
      "스타즈호텔 명동 1호점\n",
      "호텔 더 디자이너스 DDP\n",
      "호텔 더 디자이너스 동대문\n",
      "메이원호텔\n",
      "저스트 스테이 호텔\n",
      "호텔 크레토 명동\n",
      "더 스테이\n",
      "뉴국제호텔\n",
      "퍼스트스테이호텔 이글\n",
      "서울 렉스호텔\n",
      "호텔 프린스\n",
      "남산 힐 호텔\n",
      "뉴서울 호텔\n",
      "케이팝호텔 서울역\n",
      "명동 이코노미 호텔 프리미어\n",
      "메트로 호텔\n",
      "호텔 아이린시티\n",
      "명동 뉴 스테이 인\n",
      "케이게스트하우스 동대문 프리미엄점2\n",
      "명동 멀린호텔\n",
      "롯데시티호텔 명동\n",
      "웨스턴 코업 호텔&레지던스\n",
      "L7 명동 바이 롯데\n",
      "피넛호텔\n",
      "Small House Big Door\n",
      "명동 MUST STAY HOTEL\n",
      "스테이락 호텔\n",
      "영빈호텔\n",
      "목시 바이 메리어트 서울 인사동\n",
      "포시즌스 호텔\n",
      "나인트리 프리미어 호텔 인사동\n",
      "오라카이 대학로 호텔\n",
      "서머셋팰리스 서울\n",
      "오라카이 인사동 스위츠\n",
      "메이플레이스\n",
      "호텔 더 디자이너스 종로\n",
      "[반짝특가] 호텔 아벤트리 종로\n",
      "서울앤호텔 동대문점\n",
      "메이커스 호텔\n",
      "인사동 썬비호텔\n",
      "호텔 DM\n",
      "호텔 쿠레타케소 인사동 서울\n",
      "보눔 1957&호텔\n",
      "나포레 호텔 \n",
      "오마이인 동대문\n",
      "동대문 바티카 호텔\n",
      "센트럴 관광 호텔\n",
      "호텔 다다\n",
      "제이미니 호텔\n",
      "신라스테이 광화문\n",
      "몽 호텔\n",
      "종로 엠앤럭키호텔\n",
      "종로 누누호텔\n",
      "호텔스타 종로\n",
      "호텔 부티크나인\n",
      "호텔 더 디자이너스 청량리\n",
      "블레싱인서울 레지던스\n",
      "체이슨 엠 호텔\n",
      "동대문 그림호텔\n",
      "아리랑힐 호텔 동대문\n",
      "호텔 디 아티스트 성신여대점\n",
      "호텔 4월2일\n",
      "도봉 호텔베이204\n",
      "노원 노블레스호텔\n",
      "노원 리츠호텔\n",
      "노보텔 스위트 앰배서더 서울 용산\n",
      "노보텔 앰배서더 서울 용산\n",
      "그랜드 머큐어 앰배서더 호텔앤레지던스\n",
      "이비스 스타일 앰배서더 서울 용산\n",
      "임피리얼 팰리스 부티크 호텔\n",
      "그랜드 하얏트 서울\n",
      "몬드리안 서울 이태원\n",
      "크라운 호텔 이태원\n",
      "해밀톤 호텔\n",
      "호텔 엘르인\n",
      "스테이 인\n",
      "ITW 호텔\n",
      "서울가든호텔\n",
      "홍대 나인브릭호텔\n",
      "스위스 그랜드 호텔\n",
      "머큐어 앰배서더 서울 홍대\n",
      "홀리데이 인 익스프레스 서울 홍대\n",
      "스탠포드 호텔 서울\n",
      "글래드 마포\n",
      "라이즈 오토그래프 컬렉션 바이메리어트\n",
      "메리골드 호텔\n",
      "아만티 호텔 서울 홍대\n",
      "신라스테이 마포\n",
      "호텔 더 디자이너스 홍대\n",
      "호텔 디오레\n",
      "L7 홍대 바이 롯데\n",
      "보보호텔\n",
      "합정 써클호텔\n",
      "롯데시티호텔 마포\n",
      "K호텔\n",
      "신촌 라뉘호텔\n",
      "신라스테이 서대문\n",
      "신촌 Ever8 서비스 레지던스\n",
      "신촌 라싸\n",
      "더 그레이 호텔\n",
      "스타일리시 호텔 디토\n",
      "불광 포레스타 호텔\n",
      "호텔 디 아티스트 연신내점\n",
      "호텔 루 136\n",
      "은평 씨에스 에비뉴 호텔\n",
      "켄싱턴호텔 여의도\n",
      "콘래드 서울\n",
      "더 스테이트 선유 호텔\n",
      "더 파크호텔 서울\n",
      "페어필드 바이 메리어트 서울\n",
      "호텔 로프트\n",
      "JK 블라썸 호텔\n",
      "글래드 여의도\n",
      "코트야드 메리어트 서울 타임스퀘어\n",
      "여의도 엠 호텔\n",
      "영등포 호텔 GMS\n",
      "호텔 더 디자이너스 여의도\n",
      "여의도 코보스 호텔\n",
      "메리어트 여의도 MEA\n",
      "서울 갤럭시호텔\n",
      "호텔 벤허\n",
      "이후 브릿지 호텔\n",
      "머스트스테이 호텔 선유도역점\n",
      "영등포 라이프스타일 F호텔\n",
      "영등포 VIP호텔 \n",
      "부띠크호텔 SB 여의도\n",
      "토요코인 서울 영등포\n",
      "라마다 앙코르 서울 마곡\n",
      "인터시티서울\n",
      "SR호텔 서울 마곡\n",
      "로얄스퀘어호텔 서울\n",
      "루체브릿지호텔\n",
      "스탠다드 호텔\n",
      "호텔 엠펠리체\n",
      "베니키아 서울 호텔\n",
      "메이필드호텔 서울\n",
      "발산 골든호텔\n",
      "롯데시티호텔 김포공항\n",
      "노보텔 앰배서더 독산\n",
      "골드리버 호텔\n",
      "스타즈호텔 독산\n",
      "포포인츠 바이 쉐라톤 서울 구로\n",
      "라마다 서울 신도림\n",
      "코업시티호텔 (오류스테이션)\n",
      "코코모 호텔\n",
      "JS호텔\n",
      "롯데시티호텔 구로\n",
      "호텔해담채가산\n",
      "마인드호텔\n",
      "카라쉬 호텔 서울\n",
      "핸드픽트 호텔\n",
      "신라스테이 구로\n",
      "WD호텔\n",
      "뜨랑블루 호텔\n",
      "신림 어반호텔\n",
      "신트라 호텔\n",
      "(2073, 8)\n"
     ]
    },
    {
     "data": {
      "text/html": [
       "<div>\n",
       "<style scoped>\n",
       "    .dataframe tbody tr th:only-of-type {\n",
       "        vertical-align: middle;\n",
       "    }\n",
       "\n",
       "    .dataframe tbody tr th {\n",
       "        vertical-align: top;\n",
       "    }\n",
       "\n",
       "    .dataframe thead th {\n",
       "        text-align: right;\n",
       "    }\n",
       "</style>\n",
       "<table border=\"1\" class=\"dataframe\">\n",
       "  <thead>\n",
       "    <tr style=\"text-align: right;\">\n",
       "      <th></th>\n",
       "      <th>Name</th>\n",
       "      <th>Level</th>\n",
       "      <th>Score</th>\n",
       "      <th>Review</th>\n",
       "      <th>Location</th>\n",
       "      <th>RoomType</th>\n",
       "      <th>Price</th>\n",
       "      <th>Link</th>\n",
       "    </tr>\n",
       "  </thead>\n",
       "  <tbody>\n",
       "    <tr>\n",
       "      <th>2063</th>\n",
       "      <td>뜨랑블루 호텔</td>\n",
       "      <td>2성급</td>\n",
       "      <td>9.1</td>\n",
       "      <td>231</td>\n",
       "      <td>서울 관악구 신림동 1433-123</td>\n",
       "      <td>프리미어 스위트</td>\n",
       "      <td>150,000원</td>\n",
       "      <td>https://www.goodchoice.kr/product/detail?ano=1...</td>\n",
       "    </tr>\n",
       "    <tr>\n",
       "      <th>2064</th>\n",
       "      <td>신림 어반호텔</td>\n",
       "      <td>1성급</td>\n",
       "      <td>9.1</td>\n",
       "      <td>18</td>\n",
       "      <td>서울 관악구 신림동 1569-5</td>\n",
       "      <td>디럭스</td>\n",
       "      <td>75,000원</td>\n",
       "      <td>https://www.goodchoice.kr/product/detail?ano=1...</td>\n",
       "    </tr>\n",
       "    <tr>\n",
       "      <th>2065</th>\n",
       "      <td>신림 어반호텔</td>\n",
       "      <td>1성급</td>\n",
       "      <td>9.1</td>\n",
       "      <td>18</td>\n",
       "      <td>서울 관악구 신림동 1569-5</td>\n",
       "      <td>로얄 디럭스</td>\n",
       "      <td>85,000원</td>\n",
       "      <td>https://www.goodchoice.kr/product/detail?ano=1...</td>\n",
       "    </tr>\n",
       "    <tr>\n",
       "      <th>2066</th>\n",
       "      <td>신림 어반호텔</td>\n",
       "      <td>1성급</td>\n",
       "      <td>9.1</td>\n",
       "      <td>18</td>\n",
       "      <td>서울 관악구 신림동 1569-5</td>\n",
       "      <td>스위트</td>\n",
       "      <td>130,000원</td>\n",
       "      <td>https://www.goodchoice.kr/product/detail?ano=1...</td>\n",
       "    </tr>\n",
       "    <tr>\n",
       "      <th>2067</th>\n",
       "      <td>신림 어반호텔</td>\n",
       "      <td>1성급</td>\n",
       "      <td>9.1</td>\n",
       "      <td>18</td>\n",
       "      <td>서울 관악구 신림동 1569-5</td>\n",
       "      <td>VIP</td>\n",
       "      <td>160,000원</td>\n",
       "      <td>https://www.goodchoice.kr/product/detail?ano=1...</td>\n",
       "    </tr>\n",
       "    <tr>\n",
       "      <th>2068</th>\n",
       "      <td>신트라 호텔</td>\n",
       "      <td>1성급</td>\n",
       "      <td>9.0</td>\n",
       "      <td>129</td>\n",
       "      <td>서울 관악구 신림동 1421-47</td>\n",
       "      <td>스탠다드</td>\n",
       "      <td>85,000원</td>\n",
       "      <td>https://www.goodchoice.kr/product/detail?ano=1...</td>\n",
       "    </tr>\n",
       "    <tr>\n",
       "      <th>2069</th>\n",
       "      <td>신트라 호텔</td>\n",
       "      <td>1성급</td>\n",
       "      <td>9.0</td>\n",
       "      <td>129</td>\n",
       "      <td>서울 관악구 신림동 1421-47</td>\n",
       "      <td>디럭스</td>\n",
       "      <td>90,000원</td>\n",
       "      <td>https://www.goodchoice.kr/product/detail?ano=1...</td>\n",
       "    </tr>\n",
       "    <tr>\n",
       "      <th>2070</th>\n",
       "      <td>신트라 호텔</td>\n",
       "      <td>1성급</td>\n",
       "      <td>9.0</td>\n",
       "      <td>129</td>\n",
       "      <td>서울 관악구 신림동 1421-47</td>\n",
       "      <td>비즈니스 더블룸</td>\n",
       "      <td>95,000원</td>\n",
       "      <td>https://www.goodchoice.kr/product/detail?ano=1...</td>\n",
       "    </tr>\n",
       "    <tr>\n",
       "      <th>2071</th>\n",
       "      <td>신트라 호텔</td>\n",
       "      <td>1성급</td>\n",
       "      <td>9.0</td>\n",
       "      <td>129</td>\n",
       "      <td>서울 관악구 신림동 1421-47</td>\n",
       "      <td>비즈니스 트윈룸</td>\n",
       "      <td>100,000원</td>\n",
       "      <td>https://www.goodchoice.kr/product/detail?ano=1...</td>\n",
       "    </tr>\n",
       "    <tr>\n",
       "      <th>2072</th>\n",
       "      <td>신트라 호텔</td>\n",
       "      <td>1성급</td>\n",
       "      <td>9.0</td>\n",
       "      <td>129</td>\n",
       "      <td>서울 관악구 신림동 1421-47</td>\n",
       "      <td>스위트</td>\n",
       "      <td>130,000원</td>\n",
       "      <td>https://www.goodchoice.kr/product/detail?ano=1...</td>\n",
       "    </tr>\n",
       "  </tbody>\n",
       "</table>\n",
       "</div>"
      ],
      "text/plain": [
       "         Name Level Score Review             Location   RoomType     Price  \\\n",
       "2063  뜨랑블루 호텔   2성급   9.1    231  서울 관악구 신림동 1433-123  프리미어 스위트   150,000원   \n",
       "2064  신림 어반호텔   1성급   9.1     18    서울 관악구 신림동 1569-5        디럭스   75,000원   \n",
       "2065  신림 어반호텔   1성급   9.1     18    서울 관악구 신림동 1569-5     로얄 디럭스   85,000원   \n",
       "2066  신림 어반호텔   1성급   9.1     18    서울 관악구 신림동 1569-5        스위트  130,000원   \n",
       "2067  신림 어반호텔   1성급   9.1     18    서울 관악구 신림동 1569-5        VIP  160,000원   \n",
       "2068   신트라 호텔   1성급   9.0    129   서울 관악구 신림동 1421-47       스탠다드   85,000원   \n",
       "2069   신트라 호텔   1성급   9.0    129   서울 관악구 신림동 1421-47        디럭스   90,000원   \n",
       "2070   신트라 호텔   1성급   9.0    129   서울 관악구 신림동 1421-47   비즈니스 더블룸   95,000원   \n",
       "2071   신트라 호텔   1성급   9.0    129   서울 관악구 신림동 1421-47   비즈니스 트윈룸  100,000원   \n",
       "2072   신트라 호텔   1성급   9.0    129   서울 관악구 신림동 1421-47        스위트  130,000원   \n",
       "\n",
       "                                                   Link  \n",
       "2063  https://www.goodchoice.kr/product/detail?ano=1...  \n",
       "2064  https://www.goodchoice.kr/product/detail?ano=1...  \n",
       "2065  https://www.goodchoice.kr/product/detail?ano=1...  \n",
       "2066  https://www.goodchoice.kr/product/detail?ano=1...  \n",
       "2067  https://www.goodchoice.kr/product/detail?ano=1...  \n",
       "2068  https://www.goodchoice.kr/product/detail?ano=1...  \n",
       "2069  https://www.goodchoice.kr/product/detail?ano=1...  \n",
       "2070  https://www.goodchoice.kr/product/detail?ano=1...  \n",
       "2071  https://www.goodchoice.kr/product/detail?ano=1...  \n",
       "2072  https://www.goodchoice.kr/product/detail?ano=1...  "
      ]
     },
     "execution_count": 2,
     "metadata": {},
     "output_type": "execute_result"
    }
   ],
   "source": [
    "test = goodchoice()\n",
    "print(test.shape)\n",
    "test.tail(10)"
   ]
  },
  {
   "cell_type": "code",
<<<<<<< HEAD
   "execution_count": 20,
=======
   "execution_count": 4,
   "id": "russian-china",
>>>>>>> 20b952e5f497a391cd03abb768a14b36a1d43dc7
   "metadata": {
    "scrolled": true
   },
   "outputs": [
    {
     "name": "stdout",
     "output_type": "stream",
     "text": [
      "(2013, 8)\n"
     ]
    },
    {
     "data": {
      "text/html": [
       "<div>\n",
       "<style scoped>\n",
       "    .dataframe tbody tr th:only-of-type {\n",
       "        vertical-align: middle;\n",
       "    }\n",
       "\n",
       "    .dataframe tbody tr th {\n",
       "        vertical-align: top;\n",
       "    }\n",
       "\n",
       "    .dataframe thead th {\n",
       "        text-align: right;\n",
       "    }\n",
       "</style>\n",
       "<table border=\"1\" class=\"dataframe\">\n",
       "  <thead>\n",
       "    <tr style=\"text-align: right;\">\n",
       "      <th></th>\n",
       "      <th>Name</th>\n",
       "      <th>Level</th>\n",
       "      <th>Score</th>\n",
       "      <th>Review</th>\n",
       "      <th>Location</th>\n",
       "      <th>RoomType</th>\n",
       "      <th>Price</th>\n",
       "      <th>Link</th>\n",
       "    </tr>\n",
       "  </thead>\n",
       "  <tbody>\n",
       "    <tr>\n",
       "      <th>2003</th>\n",
       "      <td>뜨랑블루 호텔</td>\n",
       "      <td>2성급</td>\n",
       "      <td>9.1</td>\n",
       "      <td>231</td>\n",
       "      <td>서울 관악구 신림동 1433-123</td>\n",
       "      <td>스위트</td>\n",
       "      <td>150,000원</td>\n",
       "      <td>https://www.goodchoice.kr/product/detail?ano=1...</td>\n",
       "    </tr>\n",
       "    <tr>\n",
       "      <th>2004</th>\n",
       "      <td>뜨랑블루 호텔</td>\n",
       "      <td>2성급</td>\n",
       "      <td>9.1</td>\n",
       "      <td>231</td>\n",
       "      <td>서울 관악구 신림동 1433-123</td>\n",
       "      <td>프리미어 스위트</td>\n",
       "      <td>150,000원</td>\n",
       "      <td>https://www.goodchoice.kr/product/detail?ano=1...</td>\n",
       "    </tr>\n",
       "    <tr>\n",
       "      <th>2005</th>\n",
       "      <td>뜨랑블루 호텔</td>\n",
       "      <td>2성급</td>\n",
       "      <td>9.1</td>\n",
       "      <td>231</td>\n",
       "      <td>서울 관악구 신림동 1433-123</td>\n",
       "      <td>로얄 스위트 (수영장 제외 / 조식 2인 포함)</td>\n",
       "      <td>170,000원</td>\n",
       "      <td>https://www.goodchoice.kr/product/detail?ano=1...</td>\n",
       "    </tr>\n",
       "    <tr>\n",
       "      <th>2006</th>\n",
       "      <td>신림 어반호텔</td>\n",
       "      <td>1성급</td>\n",
       "      <td>9.1</td>\n",
       "      <td>18</td>\n",
       "      <td>서울 관악구 신림동 1569-5</td>\n",
       "      <td>디럭스</td>\n",
       "      <td>70,000원</td>\n",
       "      <td>https://www.goodchoice.kr/product/detail?ano=1...</td>\n",
       "    </tr>\n",
       "    <tr>\n",
       "      <th>2007</th>\n",
       "      <td>신림 어반호텔</td>\n",
       "      <td>1성급</td>\n",
       "      <td>9.1</td>\n",
       "      <td>18</td>\n",
       "      <td>서울 관악구 신림동 1569-5</td>\n",
       "      <td>로얄 디럭스</td>\n",
       "      <td>80,000원</td>\n",
       "      <td>https://www.goodchoice.kr/product/detail?ano=1...</td>\n",
       "    </tr>\n",
       "    <tr>\n",
       "      <th>2008</th>\n",
       "      <td>신림 어반호텔</td>\n",
       "      <td>1성급</td>\n",
       "      <td>9.1</td>\n",
       "      <td>18</td>\n",
       "      <td>서울 관악구 신림동 1569-5</td>\n",
       "      <td>스위트</td>\n",
       "      <td>120,000원</td>\n",
       "      <td>https://www.goodchoice.kr/product/detail?ano=1...</td>\n",
       "    </tr>\n",
       "    <tr>\n",
       "      <th>2009</th>\n",
       "      <td>신림 어반호텔</td>\n",
       "      <td>1성급</td>\n",
       "      <td>9.1</td>\n",
       "      <td>18</td>\n",
       "      <td>서울 관악구 신림동 1569-5</td>\n",
       "      <td>VIP</td>\n",
       "      <td>140,000원</td>\n",
       "      <td>https://www.goodchoice.kr/product/detail?ano=1...</td>\n",
       "    </tr>\n",
       "    <tr>\n",
       "      <th>2010</th>\n",
       "      <td>신트라 호텔</td>\n",
       "      <td>1성급</td>\n",
       "      <td>9.0</td>\n",
       "      <td>129</td>\n",
       "      <td>서울 관악구 신림동 1421-47</td>\n",
       "      <td>스탠다드</td>\n",
       "      <td>75,000원</td>\n",
       "      <td>https://www.goodchoice.kr/product/detail?ano=1...</td>\n",
       "    </tr>\n",
       "    <tr>\n",
       "      <th>2011</th>\n",
       "      <td>신트라 호텔</td>\n",
       "      <td>1성급</td>\n",
       "      <td>9.0</td>\n",
       "      <td>129</td>\n",
       "      <td>서울 관악구 신림동 1421-47</td>\n",
       "      <td>디럭스</td>\n",
       "      <td>80,000원</td>\n",
       "      <td>https://www.goodchoice.kr/product/detail?ano=1...</td>\n",
       "    </tr>\n",
       "    <tr>\n",
       "      <th>2012</th>\n",
       "      <td>신트라 호텔</td>\n",
       "      <td>1성급</td>\n",
       "      <td>9.0</td>\n",
       "      <td>129</td>\n",
       "      <td>서울 관악구 신림동 1421-47</td>\n",
       "      <td>비즈니스 더블룸</td>\n",
       "      <td>85,000원</td>\n",
       "      <td>https://www.goodchoice.kr/product/detail?ano=1...</td>\n",
       "    </tr>\n",
       "  </tbody>\n",
       "</table>\n",
       "</div>"
      ],
      "text/plain": [
       "         Name Level Score Review             Location  \\\n",
       "2003  뜨랑블루 호텔   2성급   9.1    231  서울 관악구 신림동 1433-123   \n",
       "2004  뜨랑블루 호텔   2성급   9.1    231  서울 관악구 신림동 1433-123   \n",
       "2005  뜨랑블루 호텔   2성급   9.1    231  서울 관악구 신림동 1433-123   \n",
       "2006  신림 어반호텔   1성급   9.1     18    서울 관악구 신림동 1569-5   \n",
       "2007  신림 어반호텔   1성급   9.1     18    서울 관악구 신림동 1569-5   \n",
       "2008  신림 어반호텔   1성급   9.1     18    서울 관악구 신림동 1569-5   \n",
       "2009  신림 어반호텔   1성급   9.1     18    서울 관악구 신림동 1569-5   \n",
       "2010   신트라 호텔   1성급   9.0    129   서울 관악구 신림동 1421-47   \n",
       "2011   신트라 호텔   1성급   9.0    129   서울 관악구 신림동 1421-47   \n",
       "2012   신트라 호텔   1성급   9.0    129   서울 관악구 신림동 1421-47   \n",
       "\n",
<<<<<<< HEAD
       "         Price                                               Link  \n",
       "2050  170,000원  https://www.goodchoice.kr/product/detail?ano=1...  \n",
       "2051   70,000원  https://www.goodchoice.kr/product/detail?ano=1...  \n",
       "2052   80,000원  https://www.goodchoice.kr/product/detail?ano=1...  \n",
       "2053  120,000원  https://www.goodchoice.kr/product/detail?ano=1...  \n",
       "2054  140,000원  https://www.goodchoice.kr/product/detail?ano=1...  "
      ]
     },
     "execution_count": 20,
     "metadata": {},
     "output_type": "execute_result"
    }
   ],
   "source": [
    "test.tail()"
   ]
  },
  {
   "cell_type": "code",
   "execution_count": 23,
   "metadata": {},
   "outputs": [
    {
     "data": {
      "text/plain": [
       "267"
      ]
     },
     "execution_count": 23,
     "metadata": {},
     "output_type": "execute_result"
    }
   ],
   "source": [
    "len(test['Name'].unique())"
   ]
  },
  {
   "cell_type": "code",
   "execution_count": 26,
   "metadata": {},
   "outputs": [
    {
     "data": {
      "text/plain": [
       "(2055, 7)"
      ]
     },
     "execution_count": 26,
     "metadata": {},
     "output_type": "execute_result"
    }
   ],
   "source": [
    "test.shape"
   ]
  },
  {
   "cell_type": "markdown",
   "metadata": {},
   "source": [
    "# Q1. 리뷰수 숫자가 아닌 count 반환"
   ]
  },
  {
   "cell_type": "code",
   "execution_count": 9,
   "metadata": {},
   "outputs": [],
   "source": [
    "import scrapy, requests\n",
    "from scrapy.http import TextResponse\n",
    "import datetime"
   ]
  },
  {
   "cell_type": "code",
   "execution_count": 10,
   "metadata": {},
   "outputs": [
    {
     "data": {
      "text/plain": [
       "<200 https://www.goodchoice.kr/product/detail?ano=6980&adcno=2&sel_date=2021-03-03&sel_date2=2021-03-04>"
      ]
     },
     "execution_count": 10,
     "metadata": {},
     "output_type": "execute_result"
    }
   ],
   "source": [
    "req = requests.get('https://www.goodchoice.kr/product/detail?ano=6980&adcno=2&sel_date=2021-03-03&sel_date2=2021-03-04')\n",
    "response = TextResponse(req.url, body=req.text, encoding='utf-8')\n",
    "response"
   ]
  },
  {
   "cell_type": "code",
   "execution_count": 11,
   "metadata": {},
   "outputs": [
    {
     "data": {
      "text/plain": [
       "[<Selector xpath='//*[@id=\"review\"]/div[1]/p/b[1]' data='<b>{{count}}</b>'>,\n",
       " <Selector xpath='//*[@id=\"review\"]/div[1]/p/b[1]' data='<b>{{count}}</b>'>]"
      ]
     },
     "execution_count": 11,
     "metadata": {},
     "output_type": "execute_result"
    }
   ],
   "source": [
    "response.xpath('//*[@id=\"review\"]/div[1]/p/b[1]')"
   ]
  },
  {
   "cell_type": "code",
   "execution_count": 6,
   "metadata": {},
   "outputs": [],
   "source": [
    "# count를 가져오는 Url은 찾았는데 response가 제대로 되지 않는 문제 발생"
   ]
  },
  {
   "cell_type": "code",
   "execution_count": 19,
   "metadata": {},
   "outputs": [
    {
     "data": {
      "text/plain": [
       "<200 https://www.goodchoice.kr/product/get_review_non>"
      ]
     },
     "execution_count": 19,
     "metadata": {},
     "output_type": "execute_result"
    }
   ],
   "source": [
    "url = 'https://www.goodchoice.kr/product/get_review_non'\n",
    "headers = {\n",
    "    'referer': 'https://www.goodchoice.kr/product/detail?ano=6980&adcno=2&sel_date=2021-03-03&sel_date2=2021-03-04',\n",
    "    'x-requested-with': 'XMLHttpRequest',\n",
    "    'content-type': 'application/x-www-form-urlencoded; charset=UTF-8',\n",
    "    'cookie': 'dialogDefaultPopup=show; _ga=GA1.2.2000844654.1613962316; _gid=GA1.2.2072997386.1614744588; ci_session_web=51vr0uu8sq8vges73d1mmsas4807e5cg; AWSALB=IrwHtMEODWR2nIE6CiwgZls0chySbWePlZhjSL13B2LIucgbmq5SWu2jt90kO00j2/VzrSdinfZ/51CcuYzOMs9NhBxlwo/TE2pIAyoL9tnMJzxy0Z0XTw7SLsIf; wcs_bt=s_4540c185467c:1614759824',\n",
    "    'origin': 'https://www.goodchoice.kr',\n",
    "    'user-agent': 'Mozilla/5.0 (Macintosh; Intel Mac OS X 10_15_7) AppleWebKit/537.36 (KHTML, like Gecko) Chrome/88.0.4324.192 Safari/537.36',\n",
    "#     'content-length': '15',\n",
    "    'sec-fetch-dest': 'empty',\n",
    "    'sec-fetch-mode': 'cors',\n",
    "    'sec-fetch-site': 'same-origin',\n",
    "    \n",
    "}\n",
    "params = {\n",
    "    'page': '0', 'ano': '6980'\n",
    "}\n",
    "req = requests.post(url, params)\n",
    "response = TextResponse(req.url, body=req.text, encoding='utf-8')\n",
    "response\n"
   ]
  },
  {
   "cell_type": "code",
   "execution_count": 21,
   "metadata": {
    "collapsed": true
   },
   "outputs": [
    {
     "data": {
      "text/plain": [
       "'\\n{\"result\":{\"ratehouse\":9.6,\"rateprice\":9.4,\"rateservice\":9.6,\"rateavg\":9.6,\"ownercommcnt\":89,\"rate_textinfo\":\"\\\\ucd5c\\\\uace0\\\\uc608\\\\uc694\",\"userstate\":\"N\",\"total_page_cnt\":26,\"items\":[{\"aname\":\"\\\\uc778\\\\ud130\\\\ucee8\\\\ud2f0\\\\ub128\\\\ud0c8 \\\\uc11c\\\\uc6b8 \\\\ucf54\\\\uc5d1\\\\uc2a4\",\"aepcont\":\"\\\\ub298 \\\\uad81\\\\uae08\\\\ud588\\\\ub358 \\\\uc778\\\\ud130\\\\ucee8\\\\ud2f0\\\\ub128\\\\ud0c8 \\\\ud638\\\\ud154~!\\\\n\\\\uc9c0\\\\uc6d0\\\\ubd84\\\\ub4e4 \\\\uc11c\\\\ube44\\\\uc2a4 \\\\ub108\\\\ubb34 \\\\uc88b\\\\uace0 \\\\uce5c\\\\uc808\\\\ud588\\\\uc2b5\\\\ub2c8\\\\ub2e4.\\\\n\\\\uc57d\\\\uac04 \\\\uc5f0\\\\uc2dd\\\\uc774 \\\\ub290\\\\uaef4\\\\uc84c\\\\uace0 \\\\uc778\\\\ud14c\\\\ub9ac\\\\uc5b4\\\\uac00..\\\\u314e\\\\u314e\\\\u314e\\\\n\\\\uc65c \\\\uc5f0\\\\ub450\\\\uc0c9 \\\\uc794\\\\ub514 \\\\uce74\\\\ud3ab\\\\uc744 \\\\uae54\\\\uc558\\\\ub294\\\\uc9c0 \\\\ubb3c\\\\uc5b4\\\\ubcf4\\\\uace0 \\\\uc2f6\\\\uc740..\\\\u314e\\\\u314e\\\\n\\\\uc2a4\\\\ud06c\\\\ub9b0\\\\uace8\\\\ud504\\\\uc7a5 \\\\ub290\\\\ub08c\\\\uc774\\\\uc600\\\\uc9c0\\\\ub9cc, \\\\uce68\\\\uad6c\\\\ub294 \\\\ud3ed\\\\uc2dd\\\\ud558\\\\uace0 \\\\uc88b\\\\uc558\\\\uc2b5\\\\ub2c8\\\\ub2e4.\\\\n\\\\uc774\\\\ub0a0 \\\\ubbf8\\\\uc138\\\\uba3c\\\\uc9c0\\\\uac00 \\\\uc2ec\\\\ud574\\\\uc11c \\\\ubdf0\\\\uac00 \\\\uc544\\\\uc26c\\\\uc6e0\\\\uc2b5\\\\ub2c8\\\\ub2e4.\\\\u3160\\\\u3160 \\\\n\\\\ubbf8\\\\uc138\\\\uba3c\\\\uc9c0 \\\\uc5c6\\\\ub294 \\\\ub9d1\\\\uc740\\\\ub0a0\\\\ubdf0\\\\uac00 \\\\uad81\\\\uae08\\\\ud558\\\\ub124\\\\uc694 \\\\u314e\\\\u314e\\\\n\\\\ud2b9\\\\ud788 \\\\ud654\\\\uc7a5\\\\uc2e4\\\\uc5d0\\\\uc11c \\\\uc5f0\\\\uc2dd\\\\uc774 \\\\ub9ce\\\\uc774 \\\\ub290\\\\uaef4\\\\uc84c\\\\uace0 \\\\uc0e4\\\\uc6cc\\\\uae30 \\\\uc0ac\\\\uc6a9\\\\uc774 \\\\ubd88\\\\ud3b8\\\\ud588\\\\uc2b5\\\\ub2c8\\\\ub2e4. \\\\n\\\\ud558\\\\uc9c0\\\\ub9cc \\\\ub113\\\\uace0 \\\\uc0e4\\\\uc6cc\\\\ubd80\\\\uc2a4, \\\\uc695\\\\uc870 \\\\ub458\\\\ub2e4 \\\\uc788\\\\uc5b4\\\\uc11c \\\\uc88b\\\\uc558\\\\uc2b5\\\\ub2c8\\\\ub2e4.\\\\n \\\\ub124\\\\uc2a4\\\\ud504\\\\ub808\\\\uc18c \\\\ucee4\\\\ud53c\\\\uba38\\\\uc2e0 \\\\ub9db\\\\uc788\\\\uc2b5\\\\ub2c8\\\\ub2e4 \\\\u314e\\\\u314e\\\\n\\\\uc870\\\\uc2dd\\\\ub3c4 \\\\ud6cc\\\\ub96d\\\\ud574\\\\uc694\\\\u2661\\\\u2661\\\\u2661\",\"aerealstate\":\"R\",\"arrate1\":80,\"arrate2\":80,\"arrate3\":100,\"armgname\":\"[\\\\uc5bc\\\\ub9ac\\\\ubc84\\\\ub4dc \\\\ud2b9\\\\uac00-\\\\uc870\\\\uc2dd] \\\\uc218\\\\ud53c\\\\ub9ac\\\\uc5b4 \\\\ub354\\\\ube14 (\\\\uc870\\\\uc2dd 2\\\\uc778 \\\\ud3ec\\\\ud568) \\\\uac1d\\\\uc2e4 \\\\uc774\\\\uc6a9\",\"unick\":\"\\\\ud30c\\\\uad34\\\\uc801\\\\uc778\\\\ub098\\\\ube44\",\"epilrate\":8.6,\"aepreg\":1614622916,\"aepevent\":\"N\",\"upath\":\"\\\\/profile\\\\/ico\\\\/ico_24.png\",\"epilrate_textinfo\":\"\\\\uc5ec\\\\uae30\\\\ub77c\\\\uba74 \\\\ub2e4\\\\uc74c\\\\uc5d0 \\\\ub610 \\\\uc774\\\\uc6a9\\\\ud560 \\\\uac70\\\\uc608\\\\uc694.\",\"aepimg\":[{\"aep_imgpath\":\"\\\\/talk\\\\/epilogue\\\\/5971882\\\\/603d30c4b1131.jpg\",\"aep_imgsize\":\"1121x841\"},{\"aep_imgpath\":\"\\\\/talk\\\\/epilogue\\\\/5971882\\\\/603d30c4b33fd.jpg\",\"aep_imgsize\":\"1121x841\"},{\"aep_imgpath\":\"\\\\/talk\\\\/epilogue\\\\/5971882\\\\/603d30c4b5043.jpg\",\"aep_imgsize\":\"841x1121\"},{\"aep_imgpath\":\"\\\\/talk\\\\/epilogue\\\\/5971882\\\\/603d30c4b7ae0.jpg\",\"aep_imgsize\":\"1121x841\"},{\"aep_imgpath\":\"\\\\/talk\\\\/epilogue\\\\/5971882\\\\/603d30c4b9dcc.jpg\",\"aep_imgsize\":\"971x971\"},{\"aep_imgpath\":\"\\\\/talk\\\\/epilogue\\\\/5971882\\\\/603d30c4bc09d.jpg\",\"aep_imgsize\":\"971x971\"},{\"aep_imgpath\":\"\\\\/talk\\\\/epilogue\\\\/5971882\\\\/603d30c4be62f.jpg\",\"aep_imgsize\":\"971x971\"},{\"aep_imgpath\":\"\\\\/talk\\\\/epilogue\\\\/5971882\\\\/603d30c4c087d.jpg\",\"aep_imgsize\":\"971x971\"}],\"o_comm\":[{\"aep_cmcont\":\"\\\\uace0\\\\uac1d\\\\ub2d8\\\\uaed8,\\\\n\\\\n\\\\uba3c\\\\uc800 \\\\uc800\\\\ud76c \\\\uc778\\\\ud130\\\\ucee8\\\\ud2f0\\\\ub128\\\\ud0c8 \\\\uc11c\\\\uc6b8 \\\\ucf54\\\\uc5d1\\\\uc2a4 \\\\ud638\\\\ud154\\\\uc744 \\\\uc774\\\\uc6a9\\\\ud574 \\\\uc8fc\\\\uc154\\\\uc11c \\\\uac10\\\\uc0ac\\\\uc758 \\\\ub9d0\\\\uc500 \\\\ub4dc\\\\ub9bd\\\\ub2c8\\\\ub2e4. \\\\uc800\\\\ud76c \\\\ud638\\\\ud154\\\\uc5d0 \\\\uba38\\\\ubb34\\\\ub974\\\\uc2dc\\\\ub294 \\\\ub3d9\\\\uc548 \\\\ub9cc\\\\uc871\\\\uc2a4\\\\ub7ec\\\\uc6b4 \\\\uc2dc\\\\uac04\\\\uc744 \\\\ubcf4\\\\ub0b4\\\\uc2e0 \\\\uac83 \\\\uac19\\\\uc544 \\\\ub9e4\\\\uc6b0 \\\\uae30\\\\uc069\\\\ub2c8\\\\ub2e4. \\\\ub2e4\\\\ub9cc, \\\\uace0\\\\uac1d\\\\ub2d8\\\\uc758 \\\\ud3b8\\\\uc548\\\\ud55c \\\\ud22c\\\\uc219\\\\uacfc \\\\uc548\\\\ub77d\\\\ud55c \\\\ud734\\\\uc2dd\\\\uc744 \\\\uc704\\\\ud574 \\\\ud638\\\\ud154 \\\\uc2dc\\\\uc124\\\\uc744 \\\\ub3cc\\\\ubcf4\\\\uace0 \\\\uac00\\\\uafb8\\\\uc5b4 \\\\uc654\\\\uc74c\\\\uc5d0\\\\ub3c4 \\\\uace0\\\\uac1d\\\\ub2d8\\\\uc758 \\\\uae30\\\\ub300\\\\uc5d0\\\\ub294 \\\\ubbf8\\\\uce58\\\\uc9c0 \\\\ubabb\\\\ud588\\\\ub358 \\\\uac83 \\\\uac19\\\\uc2b5\\\\ub2c8\\\\ub2e4. \\\\uace0\\\\uac1d\\\\ub2d8\\\\uc758 \\\\uc18c\\\\uc911\\\\ud55c \\\\uc758\\\\uacac\\\\uc740 \\\\ud638\\\\ud154\\\\uc758 \\\\uacbd\\\\uc601\\\\uc9c4 \\\\ubc0f \\\\uad00\\\\ub828 \\\\ubd80\\\\uc11c\\\\uc5d0 \\\\uc804\\\\ub2ec\\\\ud558\\\\uc5ec \\\\ud5a5\\\\ud6c4 \\\\uac1c\\\\ubcf4\\\\uc218 \\\\uacf5\\\\uc0ac\\\\uac00 \\\\uc9c4\\\\ud589\\\\ub420 \\\\uc2dc \\\\ubc18\\\\uc601\\\\ub420 \\\\uc218 \\\\uc788\\\\ub3c4\\\\ub85d \\\\ud558\\\\uaca0\\\\uc2b5\\\\ub2c8\\\\ub2e4. \\\\n\\\\n\\\\uc544\\\\uc6b8\\\\ub7ec, \\\\uc18c\\\\uc911\\\\ud55c \\\\uc2dc\\\\uac04\\\\uc744 \\\\ud560\\\\uc560\\\\ud558\\\\uc5ec \\\\uc774\\\\uc6a9 \\\\uad00\\\\ub828 \\\\ud6c4\\\\uae30\\\\ub97c \\\\ub0a8\\\\uaca8\\\\uc8fc\\\\uc154\\\\uc11c \\\\ub300\\\\ub2e8\\\\ud788 \\\\uace0\\\\ub9d9\\\\uc2b5\\\\ub2c8\\\\ub2e4. \\\\uace0\\\\uac1d\\\\ub2d8\\\\uc758 \\\\ud6c4\\\\uae30\\\\ub97c \\\\ubc14\\\\ud0d5\\\\uc73c\\\\ub85c \\\\uc800\\\\ud76c \\\\ud638\\\\ud154 \\\\uc9c1\\\\uc6d0\\\\ub4e4\\\\uc740 \\\\ubcf4\\\\ub2e4 \\\\ud5a5\\\\uc0c1\\\\ub41c \\\\uc11c\\\\ube44\\\\uc2a4\\\\ub97c \\\\uc81c\\\\uacf5\\\\ud558\\\\ub3c4\\\\ub85d \\\\ub354\\\\uc6b1 \\\\ub178\\\\ub825\\\\ud558\\\\uaca0\\\\uc2b5\\\\ub2c8\\\\ub2e4.\\\\n\\\\n\\\\uace0\\\\uac1d\\\\ub2d8\\\\uc758 \\\\uac74\\\\uac15\\\\uacfc \\\\uac00\\\\uc871\\\\uc758 \\\\ud589\\\\ubcf5\\\\uc744 \\\\uae30\\\\uc6d0 \\\\ub4dc\\\\ub9bd\\\\ub2c8\\\\ub2e4.\\\\n\\\\n\\\\uac10\\\\uc0ac\\\\ud569\\\\ub2c8\\\\ub2e4.\\\\n\\\\n\\\\uc6b4\\\\uc601\\\\uc9c0\\\\uc6d0\\\\ud300\\\\nInterContinental Seoul COEX\",\"aep_cmreg\":1614676316,\"upath\":\"\\\\/profile\\\\/ico\\\\/ico_owner.png\",\"unick\":\"\\\\uc81c\\\\ud734\\\\uc810 \\\\ub2f5\\\\ubcc0\"}],\"islike\":\"N\",\"likecount\":0,\"isEditable\":\"Y\",\"ugrade\":\"New\",\"hero\":[],\"isBest\":true},{\"aname\":\"\\\\uc778\\\\ud130\\\\ucee8\\\\ud2f0\\\\ub128\\\\ud0c8 \\\\uc11c\\\\uc6b8 \\\\ucf54\\\\uc5d1\\\\uc2a4\",\"aepcont\":\"\\\\uac74\\\\ubb3c \\\\uc790\\\\uccb4\\\\ub294 \\\\uc880 \\\\ub0a1\\\\uae34\\\\ud588\\\\uc9c0\\\\ub9cc \\\\uc9c1\\\\uc6d0 \\\\ubd84\\\\ub4e4\\\\uc774 \\\\ub108\\\\ubb34 \\\\uce5c\\\\uc808\\\\ud558\\\\uc154\\\\uc11c \\\\uc798 \\\\uc26c\\\\ub2e4 \\\\uac00\\\\uc694\\\\n\\\\ub2e4\\\\uc74c\\\\uc5d0 \\\\ub610 \\\\ubc29\\\\ubb38\\\\ud560\\\\uac8c\\\\uc694\",\"aerealstate\":\"R\",\"arrate1\":100,\"arrate2\":100,\"arrate3\":100,\"armgname\":\"[\\\\uc5f0\\\\ubc15\\\\ud560\\\\uc778] [\\\\uc124\\\\uc5f0\\\\ud734! \\\\ub2e8\\\\ub3c5\\\\ud2b9\\\\uac00-\\\\uc791\\\\uc2ec\\\\uc0bc\\\\uc77c 1+1] \\\\uc218\\\\ud53c\\\\ub9ac\\\\uc5b4 \\\\ub354\\\\ube14 \\\\uac1d\\\\uc2e4 \\\\uc774\\\\uc6a9\",\"unick\":\"\\\\uc789\\\\uc5ec\\\\ub85c\\\\uc6b0\\\\ub2e4\",\"epilrate\":10,\"aepreg\":1614424516,\"aepevent\":\"N\",\"upath\":\"\\\\/profile\\\\/ico\\\\/ico_22.png\",\"epilrate_textinfo\":\"\\\\uc5ec\\\\uae30\\\\ub9cc\\\\ud55c \\\\uacf3\\\\uc740 \\\\uc5b4\\\\ub514\\\\uc5d0\\\\ub3c4 \\\\uc5c6\\\\uc744 \\\\uac70\\\\uc608\\\\uc694.\",\"aepimg\":[],\"o_comm\":[{\"aep_cmcont\":\"\\\\uace0\\\\uac1d\\\\ub2d8\\\\uaed8,\\\\n\\\\n\\\\uba3c\\\\uc800 \\\\uc800\\\\ud76c \\\\uc778\\\\ud130\\\\ucee8\\\\ud2f0\\\\ub128\\\\ud0c8 \\\\uc11c\\\\uc6b8 \\\\ucf54\\\\uc5d1\\\\uc2a4 \\\\ud638\\\\ud154\\\\uc744 \\\\uc774\\\\uc6a9\\\\ud574 \\\\uc8fc\\\\uc154\\\\uc11c \\\\uac10\\\\uc0ac\\\\uc758 \\\\ub9d0\\\\uc500 \\\\ub4dc\\\\ub9bd\\\\ub2c8\\\\ub2e4. \\\\uc800\\\\ud76c \\\\ud638\\\\ud154\\\\uc5d0 \\\\uba38\\\\ubb34\\\\ub974\\\\uc2dc\\\\ub294 \\\\ub3d9\\\\uc548 \\\\ub9cc\\\\uc871\\\\uc2a4\\\\ub7ec\\\\uc6b4 \\\\uc2dc\\\\uac04\\\\uc744 \\\\ubcf4\\\\ub0b4\\\\uc2e0 \\\\uac83 \\\\uac19\\\\uc544 \\\\ub9e4\\\\uc6b0 \\\\uae30\\\\uc069\\\\ub2c8\\\\ub2e4. \\\\uc55e\\\\uc73c\\\\ub85c\\\\ub3c4 \\\\ub354\\\\uc6b1 \\\\ud3b8\\\\ub9ac\\\\ud55c \\\\uc2dc\\\\uc124\\\\uacfc \\\\uace0\\\\uac1d\\\\uc758 \\\\uae30\\\\ub300\\\\ub97c \\\\ub6f0\\\\uc5b4 \\\\ub118\\\\ub294 \\\\uc11c\\\\ube44\\\\uc2a4\\\\ub85c \\\\uace0\\\\uac1d\\\\ub2d8\\\\uc758 \\\\uae30\\\\ub300\\\\uc5d0 \\\\ubd80\\\\uc751\\\\ud560 \\\\uc218 \\\\uc788\\\\ub3c4\\\\ub85d \\\\ud56d\\\\uc0c1 \\\\ucd5c\\\\uc120\\\\uc744 \\\\ub2e4\\\\ud558\\\\uaca0\\\\uc2b5\\\\ub2c8\\\\ub2e4.\\\\n\\\\n\\\\uc544\\\\uc6b8\\\\ub7ec, \\\\uc18c\\\\uc911\\\\ud55c \\\\uc2dc\\\\uac04\\\\uc744 \\\\ud560\\\\uc560\\\\ud558\\\\uc5ec \\\\uc774\\\\uc6a9 \\\\uad00\\\\ub828 \\\\ud6c4\\\\uae30\\\\ub97c \\\\ub0a8\\\\uaca8\\\\uc8fc\\\\uc154\\\\uc11c \\\\ub300\\\\ub2e8\\\\ud788 \\\\uace0\\\\ub9d9\\\\uc2b5\\\\ub2c8\\\\ub2e4. \\\\uace0\\\\uac1d\\\\ub2d8\\\\uc758 \\\\ud6c4\\\\uae30\\\\ub97c \\\\ubc14\\\\ud0d5\\\\uc73c\\\\ub85c \\\\uc800\\\\ud76c \\\\ud638\\\\ud154 \\\\uc9c1\\\\uc6d0\\\\ub4e4\\\\uc740 \\\\ubcf4\\\\ub2e4 \\\\ud5a5\\\\uc0c1\\\\ub41c \\\\uc11c\\\\ube44\\\\uc2a4\\\\ub97c \\\\uc81c\\\\uacf5\\\\ud558\\\\ub3c4\\\\ub85d \\\\ub354\\\\uc6b1 \\\\ub178\\\\ub825\\\\ud558\\\\uaca0\\\\uc2b5\\\\ub2c8\\\\ub2e4.\\\\n\\\\n\\\\uace0\\\\uac1d\\\\ub2d8\\\\uc758 \\\\uac74\\\\uac15\\\\uacfc \\\\uac00\\\\uc871\\\\uc758 \\\\ud589\\\\ubcf5\\\\uc744 \\\\uae30\\\\uc6d0 \\\\ub4dc\\\\ub9bd\\\\ub2c8\\\\ub2e4.\\\\n\\\\n\\\\uac10\\\\uc0ac\\\\ud569\\\\ub2c8\\\\ub2e4.\\\\n\\\\n\\\\uc6b4\\\\uc601\\\\uc9c0\\\\uc6d0\\\\ud300\\\\nInterContinental Seoul COEX\",\"aep_cmreg\":1614675805,\"upath\":\"\\\\/profile\\\\/ico\\\\/ico_owner.png\",\"unick\":\"\\\\uc81c\\\\ud734\\\\uc810 \\\\ub2f5\\\\ubcc0\"}],\"islike\":\"N\",\"likecount\":0,\"isEditable\":\"N\",\"ugrade\":\"New\",\"hero\":[],\"isBest\":true},{\"aname\":\"\\\\uc778\\\\ud130\\\\ucee8\\\\ud2f0\\\\ub128\\\\ud0c8 \\\\uc11c\\\\uc6b8 \\\\ucf54\\\\uc5d1\\\\uc2a4\",\"aepcont\":\"\\\\uc88b\\\\uc740\\\\ub0a0 \\\\uc88b\\\\uc740 \\\\uc2dc\\\\uac04 \\\\ubcf4\\\\ub0b4\\\\uace0 \\\\uc2f6\\\\uc5b4\\\\uc11c \\\\uad6d\\\\ub0b4 5\\\\uc131\\\\uae09 \\\\ud638\\\\ud154\\\\uc744 \\\\uace0\\\\ub974\\\\ub2e4\\\\uac00\\\\n\\\\ud569\\\\ub9ac\\\\uc801\\\\uc778 \\\\uac00\\\\uaca9\\\\uc758 \\\\ud328\\\\ud0a4\\\\uc9c0\\\\uc640 \\\\uad6c\\\\uc131\\\\uc774 \\\\uc88b\\\\uc544\\\\uc11c \\\\uc778\\\\ud130\\\\ucee8\\\\ud2f0\\\\ub128\\\\ud0c8 \\\\ucf54\\\\uc5d1\\\\uc2a4\\\\ub97c \\\\uc120\\\\ud0dd\\\\ud558\\\\uac8c \\\\ub418\\\\uc5c8\\\\uc2b5\\\\ub2c8\\\\ub2e4!\\\\n\\\\uc9c0\\\\ud558\\\\ub85c \\\\ucf54\\\\uc5d1\\\\uc2a4\\\\uac00 \\\\uc5f0\\\\uacb0\\\\ub418\\\\uc5b4\\\\uc11c \\\\uc5ec\\\\ub7ec\\\\ubaa8\\\\ub85c \\\\ud3b8\\\\ub9ac\\\\ud558\\\\uace0 \\\\uac15\\\\ub0a8\\\\uad8c\\\\uc5d0 \\\\uc788\\\\ub294\\\\uac8c \\\\uc7a5\\\\uc810\\\\uc774\\\\ub124\\\\uc694!\\\\n\\\\ubc29\\\\ub3c4 \\\\uc544\\\\ub291\\\\ud558\\\\uace0 \\\\uc88b\\\\uc558\\\\uace0 \\\\uc870\\\\uc2dd\\\\ubdd4\\\\ud398\\\\ub294 \\\\ube0c\\\\ub798\\\\uc11c\\\\ub9ac\\\\uac00 \\\\uc6cc\\\\ub099 \\\\uc720\\\\uba85\\\\ud55c \\\\ub9cc\\\\ud07c \\\\uae30\\\\ub300\\\\uc5d0 \\\\ub9de\\\\uac8c \\\\ub9db\\\\uc788\\\\uc5c8\\\\uc2b5\\\\ub2c8\\\\ub2e4~\\\\n\\\\uccb4\\\\ud06c\\\\uc778\\\\uc2dc \\\\uac1c\\\\ub7f0\\\\ud2f0 10\\\\ub9cc\\\\uc6d0\\\\uc544 \\\\uc120\\\\uacb0\\\\uc7ac \\\\ub418\\\\ub294\\\\uac70 \\\\ucc38\\\\uace0\\\\ud558\\\\uc2dc\\\\uad6c \\\\uc218\\\\uc601\\\\uc7a5\\\\uc5d0 \\\\uc218\\\\uc601\\\\ubaa8 \\\\ud544\\\\uc218\\\\uc778\\\\ub370 5\\\\ucc9c\\\\uc6d0\\\\uc5d0 \\\\ud310\\\\ub9e4\\\\uc911\\\\uc774\\\\ub124\\\\uc694~\\\\n\\\\uc11c\\\\uc6b8\\\\uad8c \\\\ud638\\\\ud154\\\\ub85c \\\\uc778\\\\ud130\\\\ucee8\\\\ud2f0\\\\ub128\\\\ud0c8 \\\\ucd94\\\\ucc9c\\\\ud569\\\\ub2c8\\\\ub2e4!\",\"aerealstate\":\"R\",\"arrate1\":100,\"arrate2\":100,\"arrate3\":100,\"armgname\":\"[30\\\\uc2dc\\\\uac04 \\\\uc2a4\\\\ud14c\\\\uc774 \\\\ud328\\\\ud0a4\\\\uc9c0] \\\\uc218\\\\ud53c\\\\ub9ac\\\\uc5b4 \\\\ub354\\\\ube14 (\\\\uc870\\\\uc2dd&\\\\uc601\\\\ud654 \\\\ud3ec\\\\ud568) \\\\uac1d\\\\uc2e4 \\\\uc774\\\\uc6a9\",\"unick\":\"\\\\uc815\\\\uc694\\\\uc5d8\",\"epilrate\":10,\"aepreg\":1614344711,\"aepevent\":\"N\",\"upath\":\"\\\\/profile\\\\/ico\\\\/ico_24.png\",\"epilrate_textinfo\":\"\\\\uc5ec\\\\uae30\\\\ub9cc\\\\ud55c \\\\uacf3\\\\uc740 \\\\uc5b4\\\\ub514\\\\uc5d0\\\\ub3c4 \\\\uc5c6\\\\uc744 \\\\uac70\\\\uc608\\\\uc694.\",\"aepimg\":[{\"aep_imgpath\":\"\\\\/talk\\\\/epilogue\\\\/5960878\\\\/6038f2074dc35.jpg\",\"aep_imgsize\":\"828x1104\"}],\"o_comm\":[{\"aep_cmcont\":\"\\\\uace0\\\\uac1d\\\\ub2d8\\\\uaed8,\\\\n\\\\n\\\\uba3c\\\\uc800 \\\\uc800\\\\ud76c \\\\uc778\\\\ud130\\\\ucee8\\\\ud2f0\\\\ub128\\\\ud0c8 \\\\uc11c\\\\uc6b8 \\\\ucf54\\\\uc5d1\\\\uc2a4 \\\\ud638\\\\ud154\\\\uc744 \\\\uc774\\\\uc6a9\\\\ud574 \\\\uc8fc\\\\uc154\\\\uc11c \\\\uac10\\\\uc0ac\\\\uc758 \\\\ub9d0\\\\uc500 \\\\ub4dc\\\\ub9bd\\\\ub2c8\\\\ub2e4. \\\\uc800\\\\ud76c \\\\ud638\\\\ud154\\\\uc5d0 \\\\uba38\\\\ubb34\\\\ub974\\\\uc2dc\\\\ub294 \\\\ub3d9\\\\uc548 \\\\ub9cc\\\\uc871\\\\uc2a4\\\\ub7ec\\\\uc6b4 \\\\uc2dc\\\\uac04\\\\uc744 \\\\ubcf4\\\\ub0b4\\\\uc2e0 \\\\uac83 \\\\uac19\\\\uc544 \\\\ub9e4\\\\uc6b0 \\\\uae30\\\\uc069\\\\ub2c8\\\\ub2e4. \\\\uc55e\\\\uc73c\\\\ub85c\\\\ub3c4 \\\\ub354\\\\uc6b1 \\\\ud3b8\\\\ub9ac\\\\ud55c \\\\uc2dc\\\\uc124\\\\uacfc \\\\uace0\\\\uac1d\\\\uc758 \\\\uae30\\\\ub300\\\\ub97c \\\\ub6f0\\\\uc5b4 \\\\ub118\\\\ub294 \\\\uc11c\\\\ube44\\\\uc2a4\\\\ub85c \\\\uace0\\\\uac1d\\\\ub2d8\\\\uc758 \\\\uae30\\\\ub300\\\\uc5d0 \\\\ubd80\\\\uc751\\\\ud560 \\\\uc218 \\\\uc788\\\\ub3c4\\\\ub85d \\\\ud56d\\\\uc0c1 \\\\ucd5c\\\\uc120\\\\uc744 \\\\ub2e4\\\\ud558\\\\uaca0\\\\uc2b5\\\\ub2c8\\\\ub2e4.\\\\n\\\\n\\\\uc544\\\\uc6b8\\\\ub7ec, \\\\uc18c\\\\uc911\\\\ud55c \\\\uc2dc\\\\uac04\\\\uc744 \\\\ud560\\\\uc560\\\\ud558\\\\uc5ec \\\\uc774\\\\uc6a9 \\\\uad00\\\\ub828 \\\\ud6c4\\\\uae30\\\\ub97c \\\\ub0a8\\\\uaca8\\\\uc8fc\\\\uc154\\\\uc11c \\\\ub300\\\\ub2e8\\\\ud788 \\\\uace0\\\\ub9d9\\\\uc2b5\\\\ub2c8\\\\ub2e4. \\\\uace0\\\\uac1d\\\\ub2d8\\\\uc758 \\\\ud6c4\\\\uae30\\\\ub97c \\\\ubc14\\\\ud0d5\\\\uc73c\\\\ub85c \\\\uc800\\\\ud76c \\\\ud638\\\\ud154 \\\\uc9c1\\\\uc6d0\\\\ub4e4\\\\uc740 \\\\ubcf4\\\\ub2e4 \\\\ud5a5\\\\uc0c1\\\\ub41c \\\\uc11c\\\\ube44\\\\uc2a4\\\\ub97c \\\\uc81c\\\\uacf5\\\\ud558\\\\ub3c4\\\\ub85d \\\\ub354\\\\uc6b1 \\\\ub178\\\\ub825\\\\ud558\\\\uaca0\\\\uc2b5\\\\ub2c8\\\\ub2e4.\\\\n\\\\n\\\\uace0\\\\uac1d\\\\ub2d8\\\\uc758 \\\\uac74\\\\uac15\\\\uacfc \\\\uac00\\\\uc871\\\\uc758 \\\\ud589\\\\ubcf5\\\\uc744 \\\\uae30\\\\uc6d0 \\\\ub4dc\\\\ub9bd\\\\ub2c8\\\\ub2e4.\\\\n\\\\n\\\\uac10\\\\uc0ac\\\\ud569\\\\ub2c8\\\\ub2e4.\\\\n\\\\n\\\\uc6b4\\\\uc601\\\\uc9c0\\\\uc6d0\\\\ud300\\\\nInterContinental Seoul COEX\",\"aep_cmreg\":1614675747,\"upath\":\"\\\\/profile\\\\/ico\\\\/ico_owner.png\",\"unick\":\"\\\\uc81c\\\\ud734\\\\uc810 \\\\ub2f5\\\\ubcc0\"}],\"islike\":\"N\",\"likecount\":0,\"isEditable\":\"N\",\"ugrade\":\"New\",\"hero\":[],\"isBest\":true},{\"aname\":\"\\\\uc778\\\\ud130\\\\ucee8\\\\ud2f0\\\\ub128\\\\ud0c8 \\\\uc11c\\\\uc6b8 \\\\ucf54\\\\uc5d1\\\\uc2a4\",\"aepcont\":\"\\\\uc815\\\\ub9d0 \\\\uce68\\\\ub300\\\\uc640 \\\\uac00\\\\uad6c\\\\ub294 \\\\ucd5c\\\\uace0 \\\\uadf8\\\\ub9ac\\\\uace0 \\\\ubc29\\\\uc74c\\\\uc774 \\\\ucd5c\\\\uace0\\\\uc5d0\\\\uc694 \\\\uc606\\\\ubc29\\\\uc5d0 \\\\uc560\\\\uae30\\\\uac00 \\\\uc788\\\\ub294\\\\uc9c0 \\\\uccb4\\\\ud06c\\\\uc544\\\\uc6c3\\\\ud560\\\\ub54c \\\\uc54c\\\\uc558\\\\uc5b4\\\\uc694\",\"aerealstate\":\"R\",\"arrate1\":100,\"arrate2\":100,\"arrate3\":100,\"armgname\":\"[\\\\ub2e8 4\\\\uc77c! \\\\ub2e8\\\\ub3c5 \\\\uc5bc\\\\ub9ac\\\\ubc84\\\\ub4dc \\\\ud2b9\\\\uac00] \\\\uc218\\\\ud53c\\\\ub9ac\\\\uc5b4 \\\\ub354\\\\ube14 \\\\uac1d\\\\uc2e4 \\\\uc774\\\\uc6a9\",\"unick\":\"\\\\ud1a0\\\\ub2c8\\\\ub354\\\\ud30c\\\\ud06c\",\"epilrate\":10,\"aepreg\":1614315377,\"aepevent\":\"N\",\"upath\":\"\\\\/profile\\\\/ico\\\\/ico_22.png\",\"epilrate_textinfo\":\"\\\\uc5ec\\\\uae30\\\\ub9cc\\\\ud55c \\\\uacf3\\\\uc740 \\\\uc5b4\\\\ub514\\\\uc5d0\\\\ub3c4 \\\\uc5c6\\\\uc744 \\\\uac70\\\\uc608\\\\uc694.\",\"aepimg\":[],\"o_comm\":[{\"aep_cmcont\":\"\\\\uace0\\\\uac1d\\\\ub2d8\\\\uaed8,\\\\n\\\\n\\\\uba3c\\\\uc800 \\\\uc800\\\\ud76c \\\\uc778\\\\ud130\\\\ucee8\\\\ud2f0\\\\ub128\\\\ud0c8 \\\\uc11c\\\\uc6b8 \\\\ucf54\\\\uc5d1\\\\uc2a4 \\\\ud638\\\\ud154\\\\uc744 \\\\uc774\\\\uc6a9\\\\ud574 \\\\uc8fc\\\\uc154\\\\uc11c \\\\uac10\\\\uc0ac\\\\uc758 \\\\ub9d0\\\\uc500 \\\\ub4dc\\\\ub9bd\\\\ub2c8\\\\ub2e4. \\\\uc800\\\\ud76c \\\\ud638\\\\ud154\\\\uc5d0 \\\\uba38\\\\ubb34\\\\ub974\\\\uc2dc\\\\ub294 \\\\ub3d9\\\\uc548 \\\\ub9cc\\\\uc871\\\\uc2a4\\\\ub7ec\\\\uc6b4 \\\\uc2dc\\\\uac04\\\\uc744 \\\\ubcf4\\\\ub0b4\\\\uc2e0 \\\\uac83 \\\\uac19\\\\uc544 \\\\ub9e4\\\\uc6b0 \\\\uae30\\\\uc069\\\\ub2c8\\\\ub2e4. \\\\uc55e\\\\uc73c\\\\ub85c\\\\ub3c4 \\\\ub354\\\\uc6b1 \\\\ud3b8\\\\ub9ac\\\\ud55c \\\\uc2dc\\\\uc124\\\\uacfc \\\\uace0\\\\uac1d\\\\uc758 \\\\uae30\\\\ub300\\\\ub97c \\\\ub6f0\\\\uc5b4 \\\\ub118\\\\ub294 \\\\uc11c\\\\ube44\\\\uc2a4\\\\ub85c \\\\uace0\\\\uac1d\\\\ub2d8\\\\uc758 \\\\uae30\\\\ub300\\\\uc5d0 \\\\ubd80\\\\uc751\\\\ud560 \\\\uc218 \\\\uc788\\\\ub3c4\\\\ub85d \\\\ud56d\\\\uc0c1 \\\\ucd5c\\\\uc120\\\\uc744 \\\\ub2e4\\\\ud558\\\\uaca0\\\\uc2b5\\\\ub2c8\\\\ub2e4.\\\\n\\\\n\\\\uc544\\\\uc6b8\\\\ub7ec, \\\\uc18c\\\\uc911\\\\ud55c \\\\uc2dc\\\\uac04\\\\uc744 \\\\ud560\\\\uc560\\\\ud558\\\\uc5ec \\\\uc774\\\\uc6a9 \\\\uad00\\\\ub828 \\\\ud6c4\\\\uae30\\\\ub97c \\\\ub0a8\\\\uaca8\\\\uc8fc\\\\uc154\\\\uc11c \\\\ub300\\\\ub2e8\\\\ud788 \\\\uace0\\\\ub9d9\\\\uc2b5\\\\ub2c8\\\\ub2e4. \\\\uace0\\\\uac1d\\\\ub2d8\\\\uc758 \\\\ud6c4\\\\uae30\\\\ub97c \\\\ubc14\\\\ud0d5\\\\uc73c\\\\ub85c \\\\uc800\\\\ud76c \\\\ud638\\\\ud154 \\\\uc9c1\\\\uc6d0\\\\ub4e4\\\\uc740 \\\\ubcf4\\\\ub2e4 \\\\ud5a5\\\\uc0c1\\\\ub41c \\\\uc11c\\\\ube44\\\\uc2a4\\\\ub97c \\\\uc81c\\\\uacf5\\\\ud558\\\\ub3c4\\\\ub85d \\\\ub354\\\\uc6b1 \\\\ub178\\\\ub825\\\\ud558\\\\uaca0\\\\uc2b5\\\\ub2c8\\\\ub2e4.\\\\n\\\\n\\\\uace0\\\\uac1d\\\\ub2d8\\\\uc758 \\\\uac74\\\\uac15\\\\uacfc \\\\uac00\\\\uc871\\\\uc758 \\\\ud589\\\\ubcf5\\\\uc744 \\\\uae30\\\\uc6d0 \\\\ub4dc\\\\ub9bd\\\\ub2c8\\\\ub2e4.\\\\n\\\\n\\\\uac10\\\\uc0ac\\\\ud569\\\\ub2c8\\\\ub2e4.\\\\n\\\\n\\\\uc6b4\\\\uc601\\\\uc9c0\\\\uc6d0\\\\ud300\\\\nInterContinental Seoul COEX\",\"aep_cmreg\":1614675608,\"upath\":\"\\\\/profile\\\\/ico\\\\/ico_owner.png\",\"unick\":\"\\\\uc81c\\\\ud734\\\\uc810 \\\\ub2f5\\\\ubcc0\"}],\"islike\":\"N\",\"likecount\":0,\"isEditable\":\"N\",\"ugrade\":\"New\",\"hero\":[],\"isBest\":true},{\"aname\":\"\\\\uc778\\\\ud130\\\\ucee8\\\\ud2f0\\\\ub128\\\\ud0c8 \\\\uc11c\\\\uc6b8 \\\\ucf54\\\\uc5d1\\\\uc2a4\",\"aepcont\":\"\\\\uc870\\\\uc2dd\\\\uc774 \\\\uc815\\\\ub9d0 \\\\uac00\\\\uc9c0 \\\\uc218\\\\ub3c4 \\\\ub9ce\\\\uace0 \\\\ub9db\\\\uc788\\\\uc2b5\\\\ub2c8\\\\ub2e4.\\\\n\\\\ud2b9\\\\ud788 \\\\uc591\\\\ud30c\\\\uc218\\\\ud504.... \\\\uadf8\\\\ub9ac\\\\uace0 \\\\uc18c\\\\uace0\\\\uae30 \\\\ubb47\\\\uad6d... \\\\ud574\\\\uc7a5\\\\uc774 \\\\ucad9 \\\\ub418\\\\ub354\\\\uad70\\\\uc694... \\\\uc544\\\\uc774\\\\uc2a4\\\\ud06c\\\\ub9bc\\\\uc740 \\\\ucd08\\\\ucf54 \\\\ub538\\\\uae30 \\\\ubc14\\\\ub2d0\\\\ub77c \\\\ud558\\\\uac90\\\\ub2e4\\\\uc988\\\\uac00 \\\\uc788\\\\uc5c8\\\\uc2b5\\\\ub2c8\\\\ub2e4. \\\\ud6cc\\\\ub96d\\\\ud569\\\\ub2c8\\\\ub2e4. \\\\n\\\\uae40\\\\uce58 \\\\ub36e\\\\uc8fd\\\\ub3c4 \\\\ubcc4\\\\ubbf8\\\\ub354\\\\uad70\\\\uc694.. \\\\n\\\\uc544 \\\\ub610 \\\\uc9c1\\\\uc6d0\\\\ubd84\\\\ub4e4\\\\uc774 \\\\ub9e4\\\\uc6b0 \\\\uce5c\\\\uc808\\\\ud558\\\\uc154\\\\uc11c \\\\uc5b4\\\\ub51c \\\\uac00\\\\ub3c4 \\\\uae30\\\\ubd84 \\\\uc88b\\\\uac8c \\\\ub2e4\\\\ub154\\\\uc2b5\\\\ub2c8\\\\ub2e4. \\\\ucf54\\\\uc5d1\\\\uc2a4 \\\\ud604\\\\ubc31 \\\\ub4f1\\\\ub4f1 \\\\uc5f0\\\\uacb0 \\\\ub418\\\\uc5b4 \\\\uc788\\\\uc5b4 \\\\uc544\\\\uc8fc \\\\ud3b8\\\\ub9ac\\\\ud558\\\\uace0 \\\\ub180\\\\uac70\\\\ub9ac\\\\ub3c4 \\\\ub9ce\\\\uc558\\\\uc2b5\\\\ub2c8\\\\ub2e4. \\\\ub2e4\\\\uc74c\\\\uc5d0 \\\\uc7ac \\\\ubc29\\\\ubb38 \\\\uc758\\\\uc0ac \\\\ub9e4\\\\uc6b0 \\\\uc788\\\\uc5b4\\\\uc694\",\"aerealstate\":\"R\",\"arrate1\":100,\"arrate2\":100,\"arrate3\":100,\"armgname\":\"[\\\\uc5bc\\\\ub9ac\\\\ubc84\\\\ub4dc \\\\ud2b9\\\\uac00-\\\\uc870\\\\uc2dd] \\\\uc218\\\\ud53c\\\\ub9ac\\\\uc5b4 \\\\ub354\\\\ube14 (\\\\uc870\\\\uc2dd 2\\\\uc778 \\\\ud3ec\\\\ud568) \\\\uac1d\\\\uc2e4 \\\\uc774\\\\uc6a9\",\"unick\":\"\\\\uc2e0\\\\uc131\\\\uc77c\\\\ub9cc\\\\uc138\",\"epilrate\":10,\"aepreg\":1614239154,\"aepevent\":\"N\",\"upath\":\"\\\\/profile\\\\/ico\\\\/ico_25.png\",\"epilrate_textinfo\":\"\\\\uc5ec\\\\uae30\\\\ub9cc\\\\ud55c \\\\uacf3\\\\uc740 \\\\uc5b4\\\\ub514\\\\uc5d0\\\\ub3c4 \\\\uc5c6\\\\uc744 \\\\uac70\\\\uc608\\\\uc694.\",\"aepimg\":[{\"aep_imgpath\":\"\\\\/talk\\\\/epilogue\\\\/5957430\\\\/603755b2d44c6.jpg\",\"aep_imgsize\":\"750x1000\"}],\"o_comm\":[{\"aep_cmcont\":\"\\\\uace0\\\\uac1d\\\\ub2d8\\\\uaed8,\\\\n\\\\n\\\\uba3c\\\\uc800 \\\\uc800\\\\ud76c \\\\uc778\\\\ud130\\\\ucee8\\\\ud2f0\\\\ub128\\\\ud0c8 \\\\uc11c\\\\uc6b8 \\\\ucf54\\\\uc5d1\\\\uc2a4 \\\\ud638\\\\ud154\\\\uc744 \\\\uc774\\\\uc6a9\\\\ud574 \\\\uc8fc\\\\uc154\\\\uc11c \\\\uac10\\\\uc0ac\\\\uc758 \\\\ub9d0\\\\uc500 \\\\ub4dc\\\\ub9bd\\\\ub2c8\\\\ub2e4. \\\\uc800\\\\ud76c \\\\ud638\\\\ud154\\\\uc5d0 \\\\uba38\\\\ubb34\\\\ub974\\\\uc2dc\\\\ub294 \\\\ub3d9\\\\uc548 \\\\ub9cc\\\\uc871\\\\uc2a4\\\\ub7ec\\\\uc6b4 \\\\uc2dc\\\\uac04\\\\uc744 \\\\ubcf4\\\\ub0b4\\\\uc2e0 \\\\uac83 \\\\uac19\\\\uc544 \\\\ub9e4\\\\uc6b0 \\\\uae30\\\\uc069\\\\ub2c8\\\\ub2e4. \\\\uc55e\\\\uc73c\\\\ub85c\\\\ub3c4 \\\\ub354\\\\uc6b1 \\\\ud3b8\\\\ub9ac\\\\ud55c \\\\uc2dc\\\\uc124\\\\uacfc \\\\uace0\\\\uac1d\\\\uc758 \\\\uae30\\\\ub300\\\\ub97c \\\\ub6f0\\\\uc5b4 \\\\ub118\\\\ub294 \\\\uc11c\\\\ube44\\\\uc2a4\\\\ub85c \\\\uace0\\\\uac1d\\\\ub2d8\\\\uc758 \\\\uae30\\\\ub300\\\\uc5d0 \\\\ubd80\\\\uc751\\\\ud560 \\\\uc218 \\\\uc788\\\\ub3c4\\\\ub85d \\\\ud56d\\\\uc0c1 \\\\ucd5c\\\\uc120\\\\uc744 \\\\ub2e4\\\\ud558\\\\uaca0\\\\uc2b5\\\\ub2c8\\\\ub2e4.\\\\n\\\\n\\\\uc544\\\\uc6b8\\\\ub7ec, \\\\uc18c\\\\uc911\\\\ud55c \\\\uc2dc\\\\uac04\\\\uc744 \\\\ud560\\\\uc560\\\\ud558\\\\uc5ec \\\\uc774\\\\uc6a9 \\\\uad00\\\\ub828 \\\\ud6c4\\\\uae30\\\\ub97c \\\\ub0a8\\\\uaca8\\\\uc8fc\\\\uc154\\\\uc11c \\\\ub300\\\\ub2e8\\\\ud788 \\\\uace0\\\\ub9d9\\\\uc2b5\\\\ub2c8\\\\ub2e4. \\\\uace0\\\\uac1d\\\\ub2d8\\\\uc758 \\\\ud6c4\\\\uae30\\\\ub97c \\\\ubc14\\\\ud0d5\\\\uc73c\\\\ub85c \\\\uc800\\\\ud76c \\\\ud638\\\\ud154 \\\\uc9c1\\\\uc6d0\\\\ub4e4\\\\uc740 \\\\ubcf4\\\\ub2e4 \\\\ud5a5\\\\uc0c1\\\\ub41c \\\\uc11c\\\\ube44\\\\uc2a4\\\\ub97c \\\\uc81c\\\\uacf5\\\\ud558\\\\ub3c4\\\\ub85d \\\\ub354\\\\uc6b1 \\\\ub178\\\\ub825\\\\ud558\\\\uaca0\\\\uc2b5\\\\ub2c8\\\\ub2e4.\\\\n\\\\n\\\\uace0\\\\uac1d\\\\ub2d8\\\\uc758 \\\\uac74\\\\uac15\\\\uacfc \\\\uac00\\\\uc871\\\\uc758 \\\\ud589\\\\ubcf5\\\\uc744 \\\\uae30\\\\uc6d0 \\\\ub4dc\\\\ub9bd\\\\ub2c8\\\\ub2e4.\\\\n\\\\n\\\\uac10\\\\uc0ac\\\\ud569\\\\ub2c8\\\\ub2e4.\\\\n\\\\n\\\\uc6b4\\\\uc601\\\\uc9c0\\\\uc6d0\\\\ud300\\\\nInterContinental Seoul COEX\",\"aep_cmreg\":1614239722,\"upath\":\"\\\\/profile\\\\/ico\\\\/ico_owner.png\",\"unick\":\"\\\\uc81c\\\\ud734\\\\uc810 \\\\ub2f5\\\\ubcc0\"}],\"islike\":\"N\",\"likecount\":0,\"isEditable\":\"N\",\"ugrade\":\"New\",\"hero\":[],\"isBest\":true},{\"aname\":\"\\\\uc778\\\\ud130\\\\ucee8\\\\ud2f0\\\\ub128\\\\ud0c8 \\\\uc11c\\\\uc6b8 \\\\ucf54\\\\uc5d1\\\\uc2a4\",\"armgname\":\"[\\\\ub2e8 4\\\\uc77c! \\\\ub2e8\\\\ub3c5 \\\\uc5bc\\\\ub9ac\\\\ubc84\\\\ub4dc \\\\ud2b9\\\\uac00] \\\\uc218\\\\ud53c\\\\ub9ac\\\\uc5b4 \\\\ub354\\\\ube14 \\\\uac1d\\\\uc2e4 \\\\uc774\\\\uc6a9\",\"unick\":\"yy1004\",\"epilrate\":10,\"aepreg\":1614526942,\"aepcont\":\"\\\\ud3b8\\\\ud558\\\\uac8c \\\\uc26c\\\\uae30 \\\\uc88b\\\\uc544\\\\uc694\",\"aerealstate\":\"R\",\"imgstate\":\"N\",\"upath_yn\":\"N\",\"upath\":\"\\\\/profile\\\\/ico\\\\/ico_22.png\",\"arrate1\":100,\"arrate2\":100,\"arrate3\":100,\"aepevent\":\"N\",\"epilrate_textinfo\":\"\\\\uc5ec\\\\uae30\\\\ub9cc\\\\ud55c \\\\uacf3\\\\uc740 \\\\uc5b4\\\\ub514\\\\uc5d0\\\\ub3c4 \\\\uc5c6\\\\uc744 \\\\uac70\\\\uc608\\\\uc694.\",\"hero\":[],\"ugrade\":\"New\",\"islike\":\"N\",\"likecount\":0,\"isEditable\":\"N\",\"o_comm\":[{\"aep_cmcont\":\"\\\\uace0\\\\uac1d\\\\ub2d8\\\\uaed8,\\\\n\\\\n\\\\uba3c\\\\uc800 \\\\uc800\\\\ud76c \\\\uc778\\\\ud130\\\\ucee8\\\\ud2f0\\\\ub128\\\\ud0c8 \\\\uc11c\\\\uc6b8 \\\\ucf54\\\\uc5d1\\\\uc2a4 \\\\ud638\\\\ud154\\\\uc744 \\\\uc774\\\\uc6a9\\\\ud574 \\\\uc8fc\\\\uc154\\\\uc11c \\\\uac10\\\\uc0ac\\\\uc758 \\\\ub9d0\\\\uc500 \\\\ub4dc\\\\ub9bd\\\\ub2c8\\\\ub2e4. \\\\uc800\\\\ud76c \\\\ud638\\\\ud154\\\\uc5d0 \\\\uba38\\\\ubb34\\\\ub974\\\\uc2dc\\\\ub294 \\\\ub3d9\\\\uc548 \\\\ub9cc\\\\uc871\\\\uc2a4\\\\ub7ec\\\\uc6b4 \\\\uc2dc\\\\uac04\\\\uc744 \\\\ubcf4\\\\ub0b4\\\\uc2e0 \\\\uac83 \\\\uac19\\\\uc544 \\\\ub9e4\\\\uc6b0 \\\\uae30\\\\uc069\\\\ub2c8\\\\ub2e4. \\\\uc55e\\\\uc73c\\\\ub85c\\\\ub3c4 \\\\ub354\\\\uc6b1 \\\\ud3b8\\\\ub9ac\\\\ud55c \\\\uc2dc\\\\uc124\\\\uacfc \\\\uace0\\\\uac1d\\\\uc758 \\\\uae30\\\\ub300\\\\ub97c \\\\ub6f0\\\\uc5b4 \\\\ub118\\\\ub294 \\\\uc11c\\\\ube44\\\\uc2a4\\\\ub85c \\\\uace0\\\\uac1d\\\\ub2d8\\\\uc758 \\\\uae30\\\\ub300\\\\uc5d0 \\\\ubd80\\\\uc751\\\\ud560 \\\\uc218 \\\\uc788\\\\ub3c4\\\\ub85d \\\\ud56d\\\\uc0c1 \\\\ucd5c\\\\uc120\\\\uc744 \\\\ub2e4\\\\ud558\\\\uaca0\\\\uc2b5\\\\ub2c8\\\\ub2e4.\\\\n\\\\n\\\\uc544\\\\uc6b8\\\\ub7ec, \\\\uc18c\\\\uc911\\\\ud55c \\\\uc2dc\\\\uac04\\\\uc744 \\\\ud560\\\\uc560\\\\ud558\\\\uc5ec \\\\uc774\\\\uc6a9 \\\\uad00\\\\ub828 \\\\ud6c4\\\\uae30\\\\ub97c \\\\ub0a8\\\\uaca8\\\\uc8fc\\\\uc154\\\\uc11c \\\\ub300\\\\ub2e8\\\\ud788 \\\\uace0\\\\ub9d9\\\\uc2b5\\\\ub2c8\\\\ub2e4. \\\\uace0\\\\uac1d\\\\ub2d8\\\\uc758 \\\\ud6c4\\\\uae30\\\\ub97c \\\\ubc14\\\\ud0d5\\\\uc73c\\\\ub85c \\\\uc800\\\\ud76c \\\\ud638\\\\ud154 \\\\uc9c1\\\\uc6d0\\\\ub4e4\\\\uc740 \\\\ubcf4\\\\ub2e4 \\\\ud5a5\\\\uc0c1\\\\ub41c \\\\uc11c\\\\ube44\\\\uc2a4\\\\ub97c \\\\uc81c\\\\uacf5\\\\ud558\\\\ub3c4\\\\ub85d \\\\ub354\\\\uc6b1 \\\\ub178\\\\ub825\\\\ud558\\\\uaca0\\\\uc2b5\\\\ub2c8\\\\ub2e4.\\\\n\\\\n\\\\uace0\\\\uac1d\\\\ub2d8\\\\uc758 \\\\uac74\\\\uac15\\\\uacfc \\\\uac00\\\\uc871\\\\uc758 \\\\ud589\\\\ubcf5\\\\uc744 \\\\uae30\\\\uc6d0 \\\\ub4dc\\\\ub9bd\\\\ub2c8\\\\ub2e4.\\\\n\\\\n\\\\uac10\\\\uc0ac\\\\ud569\\\\ub2c8\\\\ub2e4.\\\\n\\\\n\\\\uc6b4\\\\uc601\\\\uc9c0\\\\uc6d0\\\\ud300\\\\nInterContinental Seoul COEX\",\"aep_cmreg\":1614675861,\"upath\":\"\\\\/profile\\\\/ico\\\\/ico_owner.png\",\"unick\":\"\\\\uc81c\\\\ud734\\\\uc810 \\\\ub2f5\\\\ubcc0\"}]},{\"aname\":\"\\\\uc778\\\\ud130\\\\ucee8\\\\ud2f0\\\\ub128\\\\ud0c8 \\\\uc11c\\\\uc6b8 \\\\ucf54\\\\uc5d1\\\\uc2a4\",\"armgname\":\"[\\\\ub2e8 4\\\\uc77c! \\\\ub2e8\\\\ub3c5 \\\\uc5bc\\\\ub9ac\\\\ubc84\\\\ub4dc \\\\ud2b9\\\\uac00] \\\\uc218\\\\ud53c\\\\ub9ac\\\\uc5b4 \\\\ud2b8\\\\uc708 \\\\uac1d\\\\uc2e4 \\\\uc774\\\\uc6a9\",\"unick\":\"mr5641\",\"epilrate\":10,\"aepreg\":1614430587,\"aepcont\":\"\\\\uc9c1\\\\uc6d0\\\\ubd84\\\\ub4e4 \\\\uce5c\\\\uc808\\\\ud558\\\\uace0\\\\n\\\\uc2a4\\\\ud0c0\\\\ud544\\\\ub4dc \\\\uc9c0\\\\ud558\\\\ub85c \\\\uc5f0\\\\uacb0\\\\ub418\\\\uc5b4 \\\\uc788\\\\uc5b4 \\\\ub2e4\\\\ub2c8\\\\uae30 \\\\ud3b8\\\\ud574\\\\uc694\",\"aerealstate\":\"R\",\"imgstate\":\"Y\",\"upath_yn\":\"N\",\"upath\":\"\\\\/profile\\\\/ico\\\\/ico_23.png\",\"arrate1\":100,\"arrate2\":100,\"arrate3\":100,\"aepevent\":\"N\",\"epilrate_textinfo\":\"\\\\uc5ec\\\\uae30\\\\ub9cc\\\\ud55c \\\\uacf3\\\\uc740 \\\\uc5b4\\\\ub514\\\\uc5d0\\\\ub3c4 \\\\uc5c6\\\\uc744 \\\\uac70\\\\uc608\\\\uc694.\",\"hero\":[],\"ugrade\":\"New\",\"islike\":\"N\",\"likecount\":0,\"isEditable\":\"N\",\"aepimg\":[{\"aep_imgpath\":\"\\\\/talk\\\\/epilogue\\\\/5963550\\\\/603a417b21e17.jpg\",\"aep_imgsize\":\"1121x841\"}],\"o_comm\":[{\"aep_cmcont\":\"\\\\uace0\\\\uac1d\\\\ub2d8\\\\uaed8,\\\\n\\\\n\\\\uba3c\\\\uc800 \\\\uc800\\\\ud76c \\\\uc778\\\\ud130\\\\ucee8\\\\ud2f0\\\\ub128\\\\ud0c8 \\\\uc11c\\\\uc6b8 \\\\ucf54\\\\uc5d1\\\\uc2a4 \\\\ud638\\\\ud154\\\\uc744 \\\\uc774\\\\uc6a9\\\\ud574 \\\\uc8fc\\\\uc154\\\\uc11c \\\\uac10\\\\uc0ac\\\\uc758 \\\\ub9d0\\\\uc500 \\\\ub4dc\\\\ub9bd\\\\ub2c8\\\\ub2e4. \\\\uc800\\\\ud76c \\\\ud638\\\\ud154\\\\uc5d0 \\\\uba38\\\\ubb34\\\\ub974\\\\uc2dc\\\\ub294 \\\\ub3d9\\\\uc548 \\\\ub9cc\\\\uc871\\\\uc2a4\\\\ub7ec\\\\uc6b4 \\\\uc2dc\\\\uac04\\\\uc744 \\\\ubcf4\\\\ub0b4\\\\uc2e0 \\\\uac83 \\\\uac19\\\\uc544 \\\\ub9e4\\\\uc6b0 \\\\uae30\\\\uc069\\\\ub2c8\\\\ub2e4. \\\\uc55e\\\\uc73c\\\\ub85c\\\\ub3c4 \\\\ub354\\\\uc6b1 \\\\ud3b8\\\\ub9ac\\\\ud55c \\\\uc2dc\\\\uc124\\\\uacfc \\\\uace0\\\\uac1d\\\\uc758 \\\\uae30\\\\ub300\\\\ub97c \\\\ub6f0\\\\uc5b4 \\\\ub118\\\\ub294 \\\\uc11c\\\\ube44\\\\uc2a4\\\\ub85c \\\\uace0\\\\uac1d\\\\ub2d8\\\\uc758 \\\\uae30\\\\ub300\\\\uc5d0 \\\\ubd80\\\\uc751\\\\ud560 \\\\uc218 \\\\uc788\\\\ub3c4\\\\ub85d \\\\ud56d\\\\uc0c1 \\\\ucd5c\\\\uc120\\\\uc744 \\\\ub2e4\\\\ud558\\\\uaca0\\\\uc2b5\\\\ub2c8\\\\ub2e4.\\\\n\\\\n\\\\uc544\\\\uc6b8\\\\ub7ec, \\\\uc18c\\\\uc911\\\\ud55c \\\\uc2dc\\\\uac04\\\\uc744 \\\\ud560\\\\uc560\\\\ud558\\\\uc5ec \\\\uc774\\\\uc6a9 \\\\uad00\\\\ub828 \\\\ud6c4\\\\uae30\\\\ub97c \\\\ub0a8\\\\uaca8\\\\uc8fc\\\\uc154\\\\uc11c \\\\ub300\\\\ub2e8\\\\ud788 \\\\uace0\\\\ub9d9\\\\uc2b5\\\\ub2c8\\\\ub2e4. \\\\uace0\\\\uac1d\\\\ub2d8\\\\uc758 \\\\ud6c4\\\\uae30\\\\ub97c \\\\ubc14\\\\ud0d5\\\\uc73c\\\\ub85c \\\\uc800\\\\ud76c \\\\ud638\\\\ud154 \\\\uc9c1\\\\uc6d0\\\\ub4e4\\\\uc740 \\\\ubcf4\\\\ub2e4 \\\\ud5a5\\\\uc0c1\\\\ub41c \\\\uc11c\\\\ube44\\\\uc2a4\\\\ub97c \\\\uc81c\\\\uacf5\\\\ud558\\\\ub3c4\\\\ub85d \\\\ub354\\\\uc6b1 \\\\ub178\\\\ub825\\\\ud558\\\\uaca0\\\\uc2b5\\\\ub2c8\\\\ub2e4.\\\\n\\\\n\\\\uace0\\\\uac1d\\\\ub2d8\\\\uc758 \\\\uac74\\\\uac15\\\\uacfc \\\\uac00\\\\uc871\\\\uc758 \\\\ud589\\\\ubcf5\\\\uc744 \\\\uae30\\\\uc6d0 \\\\ub4dc\\\\ub9bd\\\\ub2c8\\\\ub2e4.\\\\n\\\\n\\\\uac10\\\\uc0ac\\\\ud569\\\\ub2c8\\\\ub2e4.\\\\n\\\\n\\\\uc6b4\\\\uc601\\\\uc9c0\\\\uc6d0\\\\ud300\\\\nInterContinental Seoul COEX\",\"aep_cmreg\":1614675833,\"upath\":\"\\\\/profile\\\\/ico\\\\/ico_owner.png\",\"unick\":\"\\\\uc81c\\\\ud734\\\\uc810 \\\\ub2f5\\\\ubcc0\"}]},{\"aname\":\"\\\\uc778\\\\ud130\\\\ucee8\\\\ud2f0\\\\ub128\\\\ud0c8 \\\\uc11c\\\\uc6b8 \\\\ucf54\\\\uc5d1\\\\uc2a4\",\"armgname\":\"[\\\\uc5bc\\\\ub9ac\\\\ubc84\\\\ub4dc \\\\ud2b9\\\\uac00] \\\\uc218\\\\ud53c\\\\ub9ac\\\\uc5b4 \\\\ud2b8\\\\uc708 (\\\\ub8f8\\\\uc628\\\\ub9ac) \\\\uac1d\\\\uc2e4 \\\\uc774\\\\uc6a9\",\"unick\":\"\\\\ub300\\\\ub4f1\\\\ud55c\\\\ub2ec\\\\uac40\",\"epilrate\":10,\"aepreg\":1614233012,\"aepcont\":\"\\\\uce5c\\\\uad6c\\\\uc640 [\\\\uc5bc\\\\ub9ac\\\\ubc84\\\\ub4dc \\\\ud2b9\\\\uac00] \\\\uc218\\\\ud53c\\\\ub9ac\\\\uc5b4 \\\\ud2b8\\\\uc708(\\\\ub8f8\\\\uc628\\\\ub9ac) \\\\uac1d\\\\uc2e4\\\\uc744 2\\\\/23-24\\\\uc77c\\\\uc5d0 \\\\uc774\\\\uc6a9\\\\ud588\\\\uc2b5\\\\ub2c8\\\\ub2e4. \\\\n\\\\uc9c1\\\\uc6d0 \\\\ubd84\\\\ub4e4\\\\uc774 \\\\ub9e4\\\\uc6b0 \\\\uc0c1\\\\ub0e5\\\\ud558\\\\uc154\\\\uc11c \\\\uc88b\\\\uc558\\\\uc2b5\\\\ub2c8\\\\ub2e4. \\\\ub610, \\\\uc5ec\\\\uae30 \\\\uc5b4\\\\ub54c\\\\ub97c \\\\ud1b5\\\\ud574\\\\uc11c \\\\uc88b\\\\uc740 \\\\ud638\\\\ud154\\\\uc744 \\\\ube44\\\\uad50\\\\uc801 \\\\uc800\\\\ub834\\\\ud558\\\\uac8c \\\\uc774\\\\uc6a9\\\\ud560 \\\\uc218 \\\\uc788\\\\uc5c8\\\\uc2b5\\\\ub2c8\\\\ub2e4.\\\\n\\\\ud14c\\\\uc774\\\\ube14\\\\ub3c4 \\\\uc774\\\\uc6a9\\\\ud558\\\\uae30\\\\uc5d0 \\\\uc88b\\\\uc558\\\\uace0, \\\\uce68\\\\ub300 \\\\ub610\\\\ud55c \\\\uc88b\\\\uc558\\\\uc2b5\\\\ub2c8\\\\ub2e4.\\\\n\\\\uadf8\\\\ub9ac\\\\uace0 \\\\ucf54\\\\uc5d1\\\\uc2a4\\\\uc640 \\\\uc9c0\\\\ud558\\\\ub85c \\\\uc5f0\\\\uacb0\\\\ub418\\\\uc5b4 \\\\uc788\\\\uc5b4\\\\uc11c \\\\uad49\\\\uc7a5\\\\ud788 \\\\ud3b8\\\\ud588\\\\uc2b5\\\\ub2c8\\\\ub2e4.\\\\n\\\\ub2e4\\\\uc74c\\\\uc5d0 \\\\ub610 \\\\uc774\\\\uc6a9\\\\ud558\\\\uace0 \\\\uc2f6\\\\ub124\\\\uc694~~~\\\\n\\\\uac10\\\\uc0ac\\\\ud569\\\\ub2c8\\\\ub2e4 \\\\ud3b8\\\\ud558\\\\uac8c \\\\uc26c\\\\uace0 \\\\uac11\\\\ub2c8\\\\ub2e4\",\"aerealstate\":\"R\",\"imgstate\":\"Y\",\"upath_yn\":\"N\",\"upath\":\"\\\\/profile\\\\/ico\\\\/ico_25.png\",\"arrate1\":100,\"arrate2\":100,\"arrate3\":100,\"aepevent\":\"N\",\"epilrate_textinfo\":\"\\\\uc5ec\\\\uae30\\\\ub9cc\\\\ud55c \\\\uacf3\\\\uc740 \\\\uc5b4\\\\ub514\\\\uc5d0\\\\ub3c4 \\\\uc5c6\\\\uc744 \\\\uac70\\\\uc608\\\\uc694.\",\"hero\":[],\"ugrade\":\"New\",\"islike\":\"N\",\"likecount\":0,\"isEditable\":\"N\",\"aepimg\":[{\"aep_imgpath\":\"\\\\/talk\\\\/epilogue\\\\/5957138\\\\/60373db454376.jpg\",\"aep_imgsize\":\"828x620\"}],\"o_comm\":[{\"aep_cmcont\":\"\\\\uace0\\\\uac1d\\\\ub2d8\\\\uaed8,\\\\n\\\\n\\\\uba3c\\\\uc800 \\\\uc800\\\\ud76c \\\\uc778\\\\ud130\\\\ucee8\\\\ud2f0\\\\ub128\\\\ud0c8 \\\\uc11c\\\\uc6b8 \\\\ucf54\\\\uc5d1\\\\uc2a4 \\\\ud638\\\\ud154\\\\uc744 \\\\uc774\\\\uc6a9\\\\ud574 \\\\uc8fc\\\\uc154\\\\uc11c \\\\uac10\\\\uc0ac\\\\uc758 \\\\ub9d0\\\\uc500 \\\\ub4dc\\\\ub9bd\\\\ub2c8\\\\ub2e4. \\\\uc800\\\\ud76c \\\\ud638\\\\ud154\\\\uc5d0 \\\\uba38\\\\ubb34\\\\ub974\\\\uc2dc\\\\ub294 \\\\ub3d9\\\\uc548 \\\\ub9cc\\\\uc871\\\\uc2a4\\\\ub7ec\\\\uc6b4 \\\\uc2dc\\\\uac04\\\\uc744 \\\\ubcf4\\\\ub0b4\\\\uc2e0 \\\\uac83 \\\\uac19\\\\uc544 \\\\ub9e4\\\\uc6b0 \\\\uae30\\\\uc069\\\\ub2c8\\\\ub2e4. \\\\uc55e\\\\uc73c\\\\ub85c\\\\ub3c4 \\\\ub354\\\\uc6b1 \\\\ud3b8\\\\ub9ac\\\\ud55c \\\\uc2dc\\\\uc124\\\\uacfc \\\\uace0\\\\uac1d\\\\uc758 \\\\uae30\\\\ub300\\\\ub97c \\\\ub6f0\\\\uc5b4 \\\\ub118\\\\ub294 \\\\uc11c\\\\ube44\\\\uc2a4\\\\ub85c \\\\uace0\\\\uac1d\\\\ub2d8\\\\uc758 \\\\uae30\\\\ub300\\\\uc5d0 \\\\ubd80\\\\uc751\\\\ud560 \\\\uc218 \\\\uc788\\\\ub3c4\\\\ub85d \\\\ud56d\\\\uc0c1 \\\\ucd5c\\\\uc120\\\\uc744 \\\\ub2e4\\\\ud558\\\\uaca0\\\\uc2b5\\\\ub2c8\\\\ub2e4.\\\\n\\\\n\\\\uc544\\\\uc6b8\\\\ub7ec, \\\\uc18c\\\\uc911\\\\ud55c \\\\uc2dc\\\\uac04\\\\uc744 \\\\ud560\\\\uc560\\\\ud558\\\\uc5ec \\\\uc774\\\\uc6a9 \\\\uad00\\\\ub828 \\\\ud6c4\\\\uae30\\\\ub97c \\\\ub0a8\\\\uaca8\\\\uc8fc\\\\uc154\\\\uc11c \\\\ub300\\\\ub2e8\\\\ud788 \\\\uace0\\\\ub9d9\\\\uc2b5\\\\ub2c8\\\\ub2e4. \\\\uace0\\\\uac1d\\\\ub2d8\\\\uc758 \\\\ud6c4\\\\uae30\\\\ub97c \\\\ubc14\\\\ud0d5\\\\uc73c\\\\ub85c \\\\uc800\\\\ud76c \\\\ud638\\\\ud154 \\\\uc9c1\\\\uc6d0\\\\ub4e4\\\\uc740 \\\\ubcf4\\\\ub2e4 \\\\ud5a5\\\\uc0c1\\\\ub41c \\\\uc11c\\\\ube44\\\\uc2a4\\\\ub97c \\\\uc81c\\\\uacf5\\\\ud558\\\\ub3c4\\\\ub85d \\\\ub354\\\\uc6b1 \\\\ub178\\\\ub825\\\\ud558\\\\uaca0\\\\uc2b5\\\\ub2c8\\\\ub2e4.\\\\n\\\\n\\\\uace0\\\\uac1d\\\\ub2d8\\\\uc758 \\\\uac74\\\\uac15\\\\uacfc \\\\uac00\\\\uc871\\\\uc758 \\\\ud589\\\\ubcf5\\\\uc744 \\\\uae30\\\\uc6d0 \\\\ub4dc\\\\ub9bd\\\\ub2c8\\\\ub2e4.\\\\n\\\\n\\\\uac10\\\\uc0ac\\\\ud569\\\\ub2c8\\\\ub2e4.\\\\n\\\\n\\\\uc6b4\\\\uc601\\\\uc9c0\\\\uc6d0\\\\ud300\\\\nInterContinental Seoul COEX\",\"aep_cmreg\":1614239674,\"upath\":\"\\\\/profile\\\\/ico\\\\/ico_owner.png\",\"unick\":\"\\\\uc81c\\\\ud734\\\\uc810 \\\\ub2f5\\\\ubcc0\"}]},{\"aname\":\"\\\\uc778\\\\ud130\\\\ucee8\\\\ud2f0\\\\ub128\\\\ud0c8 \\\\uc11c\\\\uc6b8 \\\\ucf54\\\\uc5d1\\\\uc2a4\",\"armgname\":\"[\\\\uc5bc\\\\ub9ac\\\\ubc84\\\\ub4dc \\\\ud2b9\\\\uac00] \\\\uc218\\\\ud53c\\\\ub9ac\\\\uc5b4 \\\\ub354\\\\ube14 (\\\\ub8f8\\\\uc628\\\\ub9ac) \\\\uac1d\\\\uc2e4 \\\\uc774\\\\uc6a9\",\"unick\":\"\\\\uc11c\\\\ub978\\\\ub2e4\\\\uc12f\\\\uac00\\\\uc218\",\"epilrate\":10,\"aepreg\":1614223713,\"aepcont\":\"\\\\uce5c\\\\uc808\\\\ud558\\\\uc2dc\\\\uace0 \\\\ub8f8 \\\\ucee8\\\\ub514\\\\uc158\\\\ub3c4 \\\\ub108\\\\ubb34 \\\\uc88b\\\\uc544\\\\uc11c \\\\ud3b8\\\\ud558\\\\uac8c \\\\uc26c\\\\uc5c8\\\\uc2b5\\\\ub2c8\\\\ub2e4. \\\\uc7ac\\\\ubc29\\\\ubb38 \\\\ud560\\\\uac70\\\\uc5d0\\\\uc694!\",\"aerealstate\":\"R\",\"imgstate\":\"Y\",\"upath_yn\":\"N\",\"upath\":\"\\\\/profile\\\\/ico\\\\/ico_22.png\",\"arrate1\":100,\"arrate2\":100,\"arrate3\":100,\"aepevent\":\"N\",\"epilrate_textinfo\":\"\\\\uc5ec\\\\uae30\\\\ub9cc\\\\ud55c \\\\uacf3\\\\uc740 \\\\uc5b4\\\\ub514\\\\uc5d0\\\\ub3c4 \\\\uc5c6\\\\uc744 \\\\uac70\\\\uc608\\\\uc694.\",\"hero\":[],\"ugrade\":\"New\",\"islike\":\"N\",\"likecount\":0,\"isEditable\":\"N\",\"aepimg\":[{\"aep_imgpath\":\"\\\\/talk\\\\/epilogue\\\\/5956735\\\\/60371961ceba7.jpg\",\"aep_imgsize\":\"1124x632\"}],\"o_comm\":[{\"aep_cmcont\":\"\\\\uace0\\\\uac1d\\\\ub2d8\\\\uaed8,\\\\n\\\\n\\\\uba3c\\\\uc800 \\\\uc800\\\\ud76c \\\\uc778\\\\ud130\\\\ucee8\\\\ud2f0\\\\ub128\\\\ud0c8 \\\\uc11c\\\\uc6b8 \\\\ucf54\\\\uc5d1\\\\uc2a4 \\\\ud638\\\\ud154\\\\uc744 \\\\uc774\\\\uc6a9\\\\ud574 \\\\uc8fc\\\\uc154\\\\uc11c \\\\uac10\\\\uc0ac\\\\uc758 \\\\ub9d0\\\\uc500 \\\\ub4dc\\\\ub9bd\\\\ub2c8\\\\ub2e4. \\\\uc800\\\\ud76c \\\\ud638\\\\ud154\\\\uc5d0 \\\\uba38\\\\ubb34\\\\ub974\\\\uc2dc\\\\ub294 \\\\ub3d9\\\\uc548 \\\\ub9cc\\\\uc871\\\\uc2a4\\\\ub7ec\\\\uc6b4 \\\\uc2dc\\\\uac04\\\\uc744 \\\\ubcf4\\\\ub0b4\\\\uc2e0 \\\\uac83 \\\\uac19\\\\uc544 \\\\ub9e4\\\\uc6b0 \\\\uae30\\\\uc069\\\\ub2c8\\\\ub2e4. \\\\uc55e\\\\uc73c\\\\ub85c\\\\ub3c4 \\\\ub354\\\\uc6b1 \\\\ud3b8\\\\ub9ac\\\\ud55c \\\\uc2dc\\\\uc124\\\\uacfc \\\\uace0\\\\uac1d\\\\uc758 \\\\uae30\\\\ub300\\\\ub97c \\\\ub6f0\\\\uc5b4 \\\\ub118\\\\ub294 \\\\uc11c\\\\ube44\\\\uc2a4\\\\ub85c \\\\uace0\\\\uac1d\\\\ub2d8\\\\uc758 \\\\uae30\\\\ub300\\\\uc5d0 \\\\ubd80\\\\uc751\\\\ud560 \\\\uc218 \\\\uc788\\\\ub3c4\\\\ub85d \\\\ud56d\\\\uc0c1 \\\\ucd5c\\\\uc120\\\\uc744 \\\\ub2e4\\\\ud558\\\\uaca0\\\\uc2b5\\\\ub2c8\\\\ub2e4.\\\\n\\\\n\\\\uc544\\\\uc6b8\\\\ub7ec, \\\\uc18c\\\\uc911\\\\ud55c \\\\uc2dc\\\\uac04\\\\uc744 \\\\ud560\\\\uc560\\\\ud558\\\\uc5ec \\\\uc774\\\\uc6a9 \\\\uad00\\\\ub828 \\\\ud6c4\\\\uae30\\\\ub97c \\\\ub0a8\\\\uaca8\\\\uc8fc\\\\uc154\\\\uc11c \\\\ub300\\\\ub2e8\\\\ud788 \\\\uace0\\\\ub9d9\\\\uc2b5\\\\ub2c8\\\\ub2e4. \\\\uace0\\\\uac1d\\\\ub2d8\\\\uc758 \\\\ud6c4\\\\uae30\\\\ub97c \\\\ubc14\\\\ud0d5\\\\uc73c\\\\ub85c \\\\uc800\\\\ud76c \\\\ud638\\\\ud154 \\\\uc9c1\\\\uc6d0\\\\ub4e4\\\\uc740 \\\\ubcf4\\\\ub2e4 \\\\ud5a5\\\\uc0c1\\\\ub41c \\\\uc11c\\\\ube44\\\\uc2a4\\\\ub97c \\\\uc81c\\\\uacf5\\\\ud558\\\\ub3c4\\\\ub85d \\\\ub354\\\\uc6b1 \\\\ub178\\\\ub825\\\\ud558\\\\uaca0\\\\uc2b5\\\\ub2c8\\\\ub2e4.\\\\n\\\\n\\\\uace0\\\\uac1d\\\\ub2d8\\\\uc758 \\\\uac74\\\\uac15\\\\uacfc \\\\uac00\\\\uc871\\\\uc758 \\\\ud589\\\\ubcf5\\\\uc744 \\\\uae30\\\\uc6d0 \\\\ub4dc\\\\ub9bd\\\\ub2c8\\\\ub2e4.\\\\n\\\\n\\\\uac10\\\\uc0ac\\\\ud569\\\\ub2c8\\\\ub2e4.\\\\n\\\\n\\\\uc6b4\\\\uc601\\\\uc9c0\\\\uc6d0\\\\ud300\\\\nInterContinental Seoul COEX\",\"aep_cmreg\":1614239637,\"upath\":\"\\\\/profile\\\\/ico\\\\/ico_owner.png\",\"unick\":\"\\\\uc81c\\\\ud734\\\\uc810 \\\\ub2f5\\\\ubcc0\"}]},{\"aname\":\"\\\\uc778\\\\ud130\\\\ucee8\\\\ud2f0\\\\ub128\\\\ud0c8 \\\\uc11c\\\\uc6b8 \\\\ucf54\\\\uc5d1\\\\uc2a4\",\"armgname\":\"[30\\\\uc2dc\\\\uac04 \\\\uc2a4\\\\ud14c\\\\uc774 \\\\ud328\\\\ud0a4\\\\uc9c0] \\\\uc218\\\\ud53c\\\\ub9ac\\\\uc5b4 \\\\ub354\\\\ube14 (\\\\uc870\\\\uc2dd&\\\\uc601\\\\ud654 \\\\ud3ec\\\\ud568) \\\\uac1d\\\\uc2e4 \\\\uc774\\\\uc6a9\",\"unick\":\"\\\\uc0b0\\\\uc0ac\\\\ub098\\\\ubb3482\",\"epilrate\":10,\"aepreg\":1614162564,\"aepcont\":\"\\\\uc544\\\\uc774\\\\uac00 \\\\uc218\\\\uc601\\\\uc7a5 \\\\uac00\\\\uace0\\\\uc2f6\\\\ub300\\\\uc11c\\\\n\\\\uc2dc\\\\uae30\\\\uac00 \\\\uc2dc\\\\uae30\\\\uc778\\\\uc9c0\\\\ub77c \\\\ud480\\\\ube4c\\\\ub77c\\\\ud39c\\\\uc158 \\\\ucc3e\\\\ub2e4\\\\uac00 \\\\uc778\\\\ud130\\\\ucee8\\\\ud2f0\\\\ub128\\\\ud0c8\\\\ucf54\\\\uc5d1\\\\uc2a4\\\\uac00 \\\\uc218\\\\uc601\\\\uc7a5\\\\uc774 \\\\uc798\\\\ub418\\\\uc5b4\\\\uc788\\\\ub300\\\\uc11c \\\\uc608\\\\uc57d\\\\ud588\\\\ub294\\\\ub370\\\\uc694\\\\n\\\\uad7f\\\\ucd08\\\\uc774\\\\uc2a4\\\\uc600\\\\uc5b4\\\\uc694~~\\\\ud638\\\\ud154\\\\uc740 \\\\uc624\\\\ub798\\\\ub418\\\\uc5c8\\\\uc9c0\\\\ub9cc \\\\ud2b9\\\\uae09\\\\ud638\\\\ud154\\\\uc5d0 \\\\ub9de\\\\ub294 \\\\ud558\\\\ub4dc\\\\uc6e8\\\\uc5b4 \\\\uc18c\\\\ud504\\\\ud2b8\\\\uc6e8\\\\uc5b4 \\\\uc798\\\\uac16\\\\ucde8\\\\uc5b4\\\\uc838 \\\\uc788\\\\uc5c8\\\\uace0\\\\uc694~\\\\n\\\\uc9c1\\\\uc6d0\\\\ubd84\\\\ub4e4 \\\\ubaa8~~\\\\ub450(\\\\ud504\\\\ub860\\\\ud2b8,\\\\ubca8\\\\ub370\\\\uc2a4\\\\ud06c,\\\\ucee8\\\\uc2dc\\\\uc5b4\\\\uc9c0,\\\\ube0c\\\\ub798\\\\uc11c\\\\ub9ac\\\\ub4f1\\\\ub4f1) \\\\uc5b4\\\\ub514\\\\ud55c\\\\ubd84 \\\\ube60\\\\uc9c8\\\\uac83\\\\uc5c6\\\\uc774 \\\\uce5c\\\\uc808\\\\ud558\\\\uc2dc\\\\uace0\\\\uc694~^^\\\\n\\\\uc870\\\\uc2dd\\\\uc740 \\\\uc11c\\\\uc6b8\\\\uc2dc\\\\ub0b4 \\\\ud638\\\\ud154\\\\uc911 \\\\uc190\\\\uc5d0 \\\\uaf3d\\\\uc744\\\\uc815\\\\ub3c4\\\\ub85c \\\\ud004\\\\uc774 \\\\uc88b\\\\uc558\\\\uc5b4\\\\uc694~\\\\n\\\\uc218\\\\uc601\\\\uc7a5\\\\ub3c4 \\\\uad00\\\\ub9ac\\\\uac00 \\\\uc798\\\\ub418\\\\uc5b4\\\\uc788\\\\uace0 \\\\ud3c9\\\\uc77c\\\\uc774\\\\ub77c \\\\uc870\\\\uc6a9\\\\ud788 1\\\\uc2dc\\\\uac04\\\\ucbe4 \\\\uc218\\\\uc601\\\\uc990\\\\uae30\\\\uae30 \\\\uc88b\\\\uc558\\\\uc2b5\\\\ub2c8\\\\ub2e4\\\\n\\\\uc218\\\\uc601\\\\uc7a5\\\\ub0b4 \\\\uad6c\\\\uba85\\\\uc870\\\\ub07c\\\\ub791 \\\\uc554\\\\ud29c\\\\ube0c \\\\ube44\\\\uce58\\\\ub418\\\\uc5b4\\\\uc788\\\\uc5b4 \\\\ub530\\\\ub85c\\\\uc900\\\\ube44\\\\uc54a\\\\ud558\\\\uc154\\\\ub3c4 \\\\ub418\\\\uace0\\\\uc694~\\\\ucf54\\\\uc5d1\\\\uc2a4 \\\\ubc14\\\\ub85c \\\\uc5f0\\\\uacb0\\\\ub418\\\\uc5b4\\\\uc788\\\\uc5b4 \\\\ub180\\\\uae30\\\\uc5d0\\\\ub3c4 \\\\uc74c\\\\uc2dd \\\\uc0ac\\\\uba39\\\\uae30\\\\uc5d0\\\\ub3c4 \\\\uc88b\\\\uc558\\\\uc5b4\\\\uc694~\\\\uac15\\\\ub0a8\\\\uc5d0\\\\uc11c \\\\uc8fc\\\\ucc28\\\\ube44 \\\\uc548\\\\ubc1b\\\\ub294 \\\\uba87\\\\uc548\\\\ub418\\\\ub294 \\\\ud638\\\\ud154\\\\uc911 \\\\ud558\\\\ub098\\\\uace0\\\\uc694~\\\\n\\\\ub2e4\\\\uc2dc \\\\ud22c\\\\uc219\\\\ud558\\\\uace0 \\\\uc2f6\\\\uc740 \\\\ud638\\\\ud154\\\\uc785\\\\ub2c8\\\\ub2e4~^^\\\\n\\\\uc544\\\\uc774\\\\ub3c4 \\\\uc88b\\\\uc558\\\\ub2e4\\\\uace0 \\\\ub610 \\\\uac00\\\\uc790\\\\uace0\\\\uc694~^^\\\\n\\\\ub8f8 \\\\ucee8\\\\ub514\\\\uc158\\\\uc740 \\\\uc624\\\\ub798\\\\ub41c \\\\ud638\\\\ud154\\\\uc774\\\\ub2e4\\\\ubcf4\\\\ub2c8 \\\\ub0a1\\\\uc740\\\\uac10\\\\uc740 \\\\uc788\\\\uc9c0\\\\ub9cc \\\\uae68\\\\ub057\\\\ud588\\\\uc5b4\\\\uc694~\\\\uc61b\\\\ub0a0 \\\\ub974\\\\ub124\\\\uc0c1\\\\uc2a4\\\\ud638\\\\ud154 \\\\ub290\\\\ub08c\\\\ub098\\\\uace0 \\\\uc88b\\\\uc558\\\\uc2b5\\\\ub2c8\\\\ub2e4^^\",\"aerealstate\":\"R\",\"imgstate\":\"Y\",\"upath_yn\":\"N\",\"upath\":\"\\\\/profile\\\\/ico\\\\/ico_24.png\",\"arrate1\":100,\"arrate2\":100,\"arrate3\":100,\"aepevent\":\"N\",\"epilrate_textinfo\":\"\\\\uc5ec\\\\uae30\\\\ub9cc\\\\ud55c \\\\uacf3\\\\uc740 \\\\uc5b4\\\\ub514\\\\uc5d0\\\\ub3c4 \\\\uc5c6\\\\uc744 \\\\uac70\\\\uc608\\\\uc694.\",\"hero\":[],\"ugrade\":\"New\",\"islike\":\"N\",\"likecount\":0,\"isEditable\":\"N\",\"aepimg\":[{\"aep_imgpath\":\"\\\\/talk\\\\/epilogue\\\\/5955204\\\\/60362a848b40a.jpg\",\"aep_imgsize\":\"1121x841\"},{\"aep_imgpath\":\"\\\\/talk\\\\/epilogue\\\\/5955204\\\\/60362a848fd18.jpg\",\"aep_imgsize\":\"1121x841\"},{\"aep_imgpath\":\"\\\\/talk\\\\/epilogue\\\\/5955204\\\\/60362a84921f0.jpg\",\"aep_imgsize\":\"841x1121\"},{\"aep_imgpath\":\"\\\\/talk\\\\/epilogue\\\\/5955204\\\\/60362a8494c34.jpg\",\"aep_imgsize\":\"841x1121\"}],\"o_comm\":[{\"aep_cmcont\":\"\\\\uace0\\\\uac1d\\\\ub2d8\\\\uaed8,\\\\n\\\\n\\\\uba3c\\\\uc800 \\\\uc800\\\\ud76c \\\\uc778\\\\ud130\\\\ucee8\\\\ud2f0\\\\ub128\\\\ud0c8 \\\\uc11c\\\\uc6b8 \\\\ucf54\\\\uc5d1\\\\uc2a4 \\\\ud638\\\\ud154\\\\uc744 \\\\uc774\\\\uc6a9\\\\ud574 \\\\uc8fc\\\\uc154\\\\uc11c \\\\uac10\\\\uc0ac\\\\uc758 \\\\ub9d0\\\\uc500 \\\\ub4dc\\\\ub9bd\\\\ub2c8\\\\ub2e4. \\\\uc800\\\\ud76c \\\\ud638\\\\ud154\\\\uc5d0 \\\\uba38\\\\ubb34\\\\ub974\\\\uc2dc\\\\ub294 \\\\ub3d9\\\\uc548 \\\\ub9cc\\\\uc871\\\\uc2a4\\\\ub7ec\\\\uc6b4 \\\\uc2dc\\\\uac04\\\\uc744 \\\\ubcf4\\\\ub0b4\\\\uc2e0 \\\\uac83 \\\\uac19\\\\uc544 \\\\ub9e4\\\\uc6b0 \\\\uae30\\\\uc069\\\\ub2c8\\\\ub2e4. \\\\uc55e\\\\uc73c\\\\ub85c\\\\ub3c4 \\\\ub354\\\\uc6b1 \\\\ud3b8\\\\ub9ac\\\\ud55c \\\\uc2dc\\\\uc124\\\\uacfc \\\\uace0\\\\uac1d\\\\uc758 \\\\uae30\\\\ub300\\\\ub97c \\\\ub6f0\\\\uc5b4 \\\\ub118\\\\ub294 \\\\uc11c\\\\ube44\\\\uc2a4\\\\ub85c \\\\uace0\\\\uac1d\\\\ub2d8\\\\uc758 \\\\uae30\\\\ub300\\\\uc5d0 \\\\ubd80\\\\uc751\\\\ud560 \\\\uc218 \\\\uc788\\\\ub3c4\\\\ub85d \\\\ud56d\\\\uc0c1 \\\\ucd5c\\\\uc120\\\\uc744 \\\\ub2e4\\\\ud558\\\\uaca0\\\\uc2b5\\\\ub2c8\\\\ub2e4.\\\\n\\\\n\\\\uc544\\\\uc6b8\\\\ub7ec, \\\\uc18c\\\\uc911\\\\ud55c \\\\uc2dc\\\\uac04\\\\uc744 \\\\ud560\\\\uc560\\\\ud558\\\\uc5ec \\\\uc774\\\\uc6a9 \\\\uad00\\\\ub828 \\\\ud6c4\\\\uae30\\\\ub97c \\\\ub0a8\\\\uaca8\\\\uc8fc\\\\uc154\\\\uc11c \\\\ub300\\\\ub2e8\\\\ud788 \\\\uace0\\\\ub9d9\\\\uc2b5\\\\ub2c8\\\\ub2e4. \\\\uace0\\\\uac1d\\\\ub2d8\\\\uc758 \\\\ud6c4\\\\uae30\\\\ub97c \\\\ubc14\\\\ud0d5\\\\uc73c\\\\ub85c \\\\uc800\\\\ud76c \\\\ud638\\\\ud154 \\\\uc9c1\\\\uc6d0\\\\ub4e4\\\\uc740 \\\\ubcf4\\\\ub2e4 \\\\ud5a5\\\\uc0c1\\\\ub41c \\\\uc11c\\\\ube44\\\\uc2a4\\\\ub97c \\\\uc81c\\\\uacf5\\\\ud558\\\\ub3c4\\\\ub85d \\\\ub354\\\\uc6b1 \\\\ub178\\\\ub825\\\\ud558\\\\uaca0\\\\uc2b5\\\\ub2c8\\\\ub2e4.\\\\n\\\\n\\\\uace0\\\\uac1d\\\\ub2d8\\\\uc758 \\\\uac74\\\\uac15\\\\uacfc \\\\uac00\\\\uc871\\\\uc758 \\\\ud589\\\\ubcf5\\\\uc744 \\\\uae30\\\\uc6d0 \\\\ub4dc\\\\ub9bd\\\\ub2c8\\\\ub2e4.\\\\n\\\\n\\\\uac10\\\\uc0ac\\\\ud569\\\\ub2c8\\\\ub2e4.\\\\n\\\\n\\\\uc6b4\\\\uc601\\\\uc9c0\\\\uc6d0\\\\ud300\\\\nInterContinental Seoul COEX\",\"aep_cmreg\":1614239599,\"upath\":\"\\\\/profile\\\\/ico\\\\/ico_owner.png\",\"unick\":\"\\\\uc81c\\\\ud734\\\\uc810 \\\\ub2f5\\\\ubcc0\"}]},{\"aname\":\"\\\\uc778\\\\ud130\\\\ucee8\\\\ud2f0\\\\ub128\\\\ud0c8 \\\\uc11c\\\\uc6b8 \\\\ucf54\\\\uc5d1\\\\uc2a4\",\"armgname\":\"[I Croffle You \\\\ud328\\\\ud0a4\\\\uc9c0] \\\\uc218\\\\ud53c\\\\ub9ac\\\\uc5b4 \\\\ub354\\\\ube14 \\\\uac1d\\\\uc2e4 \\\\uc774\\\\uc6a9\",\"unick\":\"\\\\ub178\\\\ub974\\\\uc6e8\\\\uc774\\\\ubea8\",\"epilrate\":10,\"aepreg\":1614154390,\"aepcont\":\"\\\\uc88b\\\\uc558\\\\uc2b5\\\\ub2c8\\\\ub2e4.\\\\n\\\\uc9c1\\\\uc6d0\\\\ubd84\\\\ub4e4\\\\ub3c4 \\\\ub108\\\\ubb34 \\\\uce5c\\\\uc808\\\\ud558\\\\uc154\\\\uc11c\\\\n\\\\uc77c\\\\ubc15\\\\uc774\\\\uc9c0\\\\ub9cc \\\\ud479 \\\\uc26c\\\\uc5c8\\\\uc2b5\\\\ub2c8\\\\ub2e4.\\\\n\\\\uace0\\\\ub9d9\\\\uc2b5\\\\ub2c8\\\\ub2e4.\",\"aerealstate\":\"R\",\"imgstate\":\"Y\",\"upath_yn\":\"N\",\"upath\":\"\\\\/profile\\\\/ico\\\\/ico_24.png\",\"arrate1\":100,\"arrate2\":100,\"arrate3\":100,\"aepevent\":\"N\",\"epilrate_textinfo\":\"\\\\uc5ec\\\\uae30\\\\ub9cc\\\\ud55c \\\\uacf3\\\\uc740 \\\\uc5b4\\\\ub514\\\\uc5d0\\\\ub3c4 \\\\uc5c6\\\\uc744 \\\\uac70\\\\uc608\\\\uc694.\",\"hero\":[],\"ugrade\":\"New\",\"islike\":\"N\",\"likecount\":0,\"isEditable\":\"N\",\"aepimg\":[{\"aep_imgpath\":\"\\\\/talk\\\\/epilogue\\\\/5954877\\\\/60360a9660a4d.jpg\",\"aep_imgsize\":\"1295x728\"}],\"o_comm\":[{\"aep_cmcont\":\"\\\\uace0\\\\uac1d\\\\ub2d8\\\\uaed8,\\\\n\\\\n\\\\uba3c\\\\uc800 \\\\uc800\\\\ud76c \\\\uc778\\\\ud130\\\\ucee8\\\\ud2f0\\\\ub128\\\\ud0c8 \\\\uc11c\\\\uc6b8 \\\\ucf54\\\\uc5d1\\\\uc2a4 \\\\ud638\\\\ud154\\\\uc744 \\\\uc774\\\\uc6a9\\\\ud574 \\\\uc8fc\\\\uc154\\\\uc11c \\\\uac10\\\\uc0ac\\\\uc758 \\\\ub9d0\\\\uc500 \\\\ub4dc\\\\ub9bd\\\\ub2c8\\\\ub2e4. \\\\uc800\\\\ud76c \\\\ud638\\\\ud154\\\\uc5d0 \\\\uba38\\\\ubb34\\\\ub974\\\\uc2dc\\\\ub294 \\\\ub3d9\\\\uc548 \\\\ub9cc\\\\uc871\\\\uc2a4\\\\ub7ec\\\\uc6b4 \\\\uc2dc\\\\uac04\\\\uc744 \\\\ubcf4\\\\ub0b4\\\\uc2e0 \\\\uac83 \\\\uac19\\\\uc544 \\\\ub9e4\\\\uc6b0 \\\\uae30\\\\uc069\\\\ub2c8\\\\ub2e4. \\\\uc55e\\\\uc73c\\\\ub85c\\\\ub3c4 \\\\ub354\\\\uc6b1 \\\\ud3b8\\\\ub9ac\\\\ud55c \\\\uc2dc\\\\uc124\\\\uacfc \\\\uace0\\\\uac1d\\\\uc758 \\\\uae30\\\\ub300\\\\ub97c \\\\ub6f0\\\\uc5b4 \\\\ub118\\\\ub294 \\\\uc11c\\\\ube44\\\\uc2a4\\\\ub85c \\\\uace0\\\\uac1d\\\\ub2d8\\\\uc758 \\\\uae30\\\\ub300\\\\uc5d0 \\\\ubd80\\\\uc751\\\\ud560 \\\\uc218 \\\\uc788\\\\ub3c4\\\\ub85d \\\\ud56d\\\\uc0c1 \\\\ucd5c\\\\uc120\\\\uc744 \\\\ub2e4\\\\ud558\\\\uaca0\\\\uc2b5\\\\ub2c8\\\\ub2e4.\\\\n\\\\n\\\\uc544\\\\uc6b8\\\\ub7ec, \\\\uc18c\\\\uc911\\\\ud55c \\\\uc2dc\\\\uac04\\\\uc744 \\\\ud560\\\\uc560\\\\ud558\\\\uc5ec \\\\uc774\\\\uc6a9 \\\\uad00\\\\ub828 \\\\ud6c4\\\\uae30\\\\ub97c \\\\ub0a8\\\\uaca8\\\\uc8fc\\\\uc154\\\\uc11c \\\\ub300\\\\ub2e8\\\\ud788 \\\\uace0\\\\ub9d9\\\\uc2b5\\\\ub2c8\\\\ub2e4. \\\\uace0\\\\uac1d\\\\ub2d8\\\\uc758 \\\\ud6c4\\\\uae30\\\\ub97c \\\\ubc14\\\\ud0d5\\\\uc73c\\\\ub85c \\\\uc800\\\\ud76c \\\\ud638\\\\ud154 \\\\uc9c1\\\\uc6d0\\\\ub4e4\\\\uc740 \\\\ubcf4\\\\ub2e4 \\\\ud5a5\\\\uc0c1\\\\ub41c \\\\uc11c\\\\ube44\\\\uc2a4\\\\ub97c \\\\uc81c\\\\uacf5\\\\ud558\\\\ub3c4\\\\ub85d \\\\ub354\\\\uc6b1 \\\\ub178\\\\ub825\\\\ud558\\\\uaca0\\\\uc2b5\\\\ub2c8\\\\ub2e4.\\\\n\\\\n\\\\uace0\\\\uac1d\\\\ub2d8\\\\uc758 \\\\uac74\\\\uac15\\\\uacfc \\\\uac00\\\\uc871\\\\uc758 \\\\ud589\\\\ubcf5\\\\uc744 \\\\uae30\\\\uc6d0 \\\\ub4dc\\\\ub9bd\\\\ub2c8\\\\ub2e4.\\\\n\\\\n\\\\uac10\\\\uc0ac\\\\ud569\\\\ub2c8\\\\ub2e4.\\\\n\\\\n\\\\uc6b4\\\\uc601\\\\uc9c0\\\\uc6d0\\\\ud300\\\\nInterContinental Seoul COEX\",\"aep_cmreg\":1614239543,\"upath\":\"\\\\/profile\\\\/ico\\\\/ico_owner.png\",\"unick\":\"\\\\uc81c\\\\ud734\\\\uc810 \\\\ub2f5\\\\ubcc0\"}]},{\"aname\":\"\\\\uc778\\\\ud130\\\\ucee8\\\\ud2f0\\\\ub128\\\\ud0c8 \\\\uc11c\\\\uc6b8 \\\\ucf54\\\\uc5d1\\\\uc2a4\",\"armgname\":\"[30\\\\uc2dc\\\\uac04 \\\\uc2a4\\\\ud14c\\\\uc774 \\\\ud328\\\\ud0a4\\\\uc9c0] \\\\uc218\\\\ud53c\\\\ub9ac\\\\uc5b4 \\\\ub354\\\\ube14 (\\\\uc870\\\\uc2dd&\\\\uc601\\\\ud654 \\\\ud3ec\\\\ud568) \\\\uac1d\\\\uc2e4 \\\\uc774\\\\uc6a9\",\"unick\":\"\\\\uaf2c\\\\uae30\\\\uafb8\\\\uc6cc\",\"epilrate\":10,\"aepreg\":1614087993,\"aepcont\":\"\\\\ub108\\\\ubb34 \\\\uc88b\\\\uc558\\\\uc2b5\\\\ub2c8\\\\ub2e4 \\\\uc870\\\\uc2dd\\\\ub3c4 \\\\ub9db\\\\uc788\\\\uc5c8\\\\uace0.. \\\\uc8fc\\\\ucc28\\\\ub3c4 \\\\uc218\\\\uc6d4\\\\ud558\\\\uace0 \\\\ubaa8\\\\ub4e0\\\\uac8c \\\\uc644\\\\ubcbd\\\\ud588\\\\uc5b4\\\\uc694\",\"aerealstate\":\"R\",\"imgstate\":\"N\",\"upath_yn\":\"N\",\"upath\":\"\\\\/profile\\\\/ico\\\\/ico_22.png\",\"arrate1\":100,\"arrate2\":100,\"arrate3\":100,\"aepevent\":\"N\",\"epilrate_textinfo\":\"\\\\uc5ec\\\\uae30\\\\ub9cc\\\\ud55c \\\\uacf3\\\\uc740 \\\\uc5b4\\\\ub514\\\\uc5d0\\\\ub3c4 \\\\uc5c6\\\\uc744 \\\\uac70\\\\uc608\\\\uc694.\",\"hero\":[],\"ugrade\":\"New\",\"islike\":\"N\",\"likecount\":0,\"isEditable\":\"N\",\"o_comm\":[{\"aep_cmcont\":\"\\\\uace0\\\\uac1d\\\\ub2d8\\\\uaed8,\\\\n\\\\n\\\\uba3c\\\\uc800 \\\\uc800\\\\ud76c \\\\uc778\\\\ud130\\\\ucee8\\\\ud2f0\\\\ub128\\\\ud0c8 \\\\uc11c\\\\uc6b8 \\\\ucf54\\\\uc5d1\\\\uc2a4 \\\\ud638\\\\ud154\\\\uc744 \\\\uc774\\\\uc6a9\\\\ud574 \\\\uc8fc\\\\uc154\\\\uc11c \\\\uac10\\\\uc0ac\\\\uc758 \\\\ub9d0\\\\uc500 \\\\ub4dc\\\\ub9bd\\\\ub2c8\\\\ub2e4. \\\\uc800\\\\ud76c \\\\ud638\\\\ud154\\\\uc5d0 \\\\uba38\\\\ubb34\\\\ub974\\\\uc2dc\\\\ub294 \\\\ub3d9\\\\uc548 \\\\ub9cc\\\\uc871\\\\uc2a4\\\\ub7ec\\\\uc6b4 \\\\uc2dc\\\\uac04\\\\uc744 \\\\ubcf4\\\\ub0b4\\\\uc2e0 \\\\uac83 \\\\uac19\\\\uc544 \\\\ub9e4\\\\uc6b0 \\\\uae30\\\\uc069\\\\ub2c8\\\\ub2e4. \\\\uc55e\\\\uc73c\\\\ub85c\\\\ub3c4 \\\\ub354\\\\uc6b1 \\\\ud3b8\\\\ub9ac\\\\ud55c \\\\uc2dc\\\\uc124\\\\uacfc \\\\uace0\\\\uac1d\\\\uc758 \\\\uae30\\\\ub300\\\\ub97c \\\\ub6f0\\\\uc5b4 \\\\ub118\\\\ub294 \\\\uc11c\\\\ube44\\\\uc2a4\\\\ub85c \\\\uace0\\\\uac1d\\\\ub2d8\\\\uc758 \\\\uae30\\\\ub300\\\\uc5d0 \\\\ubd80\\\\uc751\\\\ud560 \\\\uc218 \\\\uc788\\\\ub3c4\\\\ub85d \\\\ud56d\\\\uc0c1 \\\\ucd5c\\\\uc120\\\\uc744 \\\\ub2e4\\\\ud558\\\\uaca0\\\\uc2b5\\\\ub2c8\\\\ub2e4.\\\\n\\\\n\\\\uc544\\\\uc6b8\\\\ub7ec, \\\\uc18c\\\\uc911\\\\ud55c \\\\uc2dc\\\\uac04\\\\uc744 \\\\ud560\\\\uc560\\\\ud558\\\\uc5ec \\\\uc774\\\\uc6a9 \\\\uad00\\\\ub828 \\\\ud6c4\\\\uae30\\\\ub97c \\\\ub0a8\\\\uaca8\\\\uc8fc\\\\uc154\\\\uc11c \\\\ub300\\\\ub2e8\\\\ud788 \\\\uace0\\\\ub9d9\\\\uc2b5\\\\ub2c8\\\\ub2e4. \\\\uace0\\\\uac1d\\\\ub2d8\\\\uc758 \\\\ud6c4\\\\uae30\\\\ub97c \\\\ubc14\\\\ud0d5\\\\uc73c\\\\ub85c \\\\uc800\\\\ud76c \\\\ud638\\\\ud154 \\\\uc9c1\\\\uc6d0\\\\ub4e4\\\\uc740 \\\\ubcf4\\\\ub2e4 \\\\ud5a5\\\\uc0c1\\\\ub41c \\\\uc11c\\\\ube44\\\\uc2a4\\\\ub97c \\\\uc81c\\\\uacf5\\\\ud558\\\\ub3c4\\\\ub85d \\\\ub354\\\\uc6b1 \\\\ub178\\\\ub825\\\\ud558\\\\uaca0\\\\uc2b5\\\\ub2c8\\\\ub2e4.\\\\n\\\\n\\\\uace0\\\\uac1d\\\\ub2d8\\\\uc758 \\\\uac74\\\\uac15\\\\uacfc \\\\uac00\\\\uc871\\\\uc758 \\\\ud589\\\\ubcf5\\\\uc744 \\\\uae30\\\\uc6d0 \\\\ub4dc\\\\ub9bd\\\\ub2c8\\\\ub2e4.\\\\n\\\\n\\\\uac10\\\\uc0ac\\\\ud569\\\\ub2c8\\\\ub2e4.\\\\n\\\\n\\\\uc6b4\\\\uc601\\\\uc9c0\\\\uc6d0\\\\ud300\\\\nInterContinental Seoul COEX\",\"aep_cmreg\":1614133846,\"upath\":\"\\\\/profile\\\\/ico\\\\/ico_owner.png\",\"unick\":\"\\\\uc81c\\\\ud734\\\\uc810 \\\\ub2f5\\\\ubcc0\"}]},{\"aname\":\"\\\\uc778\\\\ud130\\\\ucee8\\\\ud2f0\\\\ub128\\\\ud0c8 \\\\uc11c\\\\uc6b8 \\\\ucf54\\\\uc5d1\\\\uc2a4\",\"armgname\":\"[\\\\uc220\\\\uae30\\\\ub85c\\\\uc6b4 \\\\uc0dd\\\\ud65c \\\\ud328\\\\ud0a4\\\\uc9c0] \\\\uc218\\\\ud53c\\\\ub9ac\\\\uc5b4 \\\\ub354\\\\ube14 \\\\uac1d\\\\uc2e4 \\\\uc774\\\\uc6a9\",\"unick\":\"kkkkkkkkk1\",\"epilrate\":10,\"aepreg\":1614080979,\"aepcont\":\"\\\\ud1a0\\\\uc694\\\\uc77c-\\\\uc77c\\\\uc694\\\\uc77c 1\\\\ubc15 \\\\uc774\\\\uc6a9\\\\ud588\\\\uc5b4\\\\uc694.\\\\n\\\\uccb4\\\\ud06c\\\\uc778\\\\uc2dc\\\\uac04\\\\ubcf4\\\\ub2e4 \\\\ud6e8\\\\uc52c \\\\uc77c\\\\ucc0d\\\\ub3c4\\\\ucc29\\\\ud574\\\\uc11c \\\\ucf00\\\\ub9ac\\\\uc5b4\\\\ub9cc \\\\ub9e1\\\\uae30\\\\ub824\\\\ud588\\\\ub294\\\\ub370 \\\\uc5bc\\\\ub9ac\\\\uccb4\\\\ud06c\\\\uc778 \\\\ub3c4\\\\uc640\\\\uc8fc\\\\uc154\\\\uc11c \\\\uc88b\\\\uc558\\\\uc5b4\\\\uc694.\\\\n\\\\ub2e4\\\\ub9cc \\\\uc7ac\\\\uc2e4\\\\uc911\\\\uc778 \\\\ubc29\\\\uc744 \\\\ubc1b\\\\uc544\\\\uc11c \\\\ub108\\\\ubb34 \\\\ub2f9\\\\ud669\\\\ud588\\\\uc5b4\\\\uc694\\\\u315c\\\\u315c\\\\u315c \\\\ubc29\\\\uc5d0 \\\\uc0ac\\\\ub78c\\\\uc774 \\\\uc5c6\\\\uc5b4\\\\uc11c \\\\ub2e4\\\\ud589\\\\uc774\\\\uae34 \\\\ud588\\\\ub294\\\\ub370 5\\\\uc131\\\\uae09 \\\\ud638\\\\ud154\\\\uc5d0\\\\uc11c\\\\ub3c4 \\\\uc774\\\\ub7f0 \\\\uc77c\\\\uc774 \\\\uc0dd\\\\uae30\\\\uae30\\\\ub3c4 \\\\ud558\\\\ub124\\\\ud558\\\\uba70 \\\\uc6c3\\\\uc5b4 \\\\ub118\\\\uae30\\\\uae34 \\\\ud588\\\\uc2b5\\\\ub2c8\\\\ub2e4. \\\\ub300\\\\ucc98\\\\ub3c4 \\\\uc798 \\\\ud574 \\\\uc8fc\\\\uc168\\\\uad6c\\\\uc694.\\\\n\\\\ub098\\\\uba38\\\\uc9c0 \\\\ubd80\\\\ub300\\\\uc2dc\\\\uc124\\\\uc740 \\\\uc11c\\\\ube44\\\\uc2a4\\\\uac00 \\\\uce5c\\\\ucca0\\\\ud574\\\\uc11c \\\\uc88b\\\\uc558\\\\uc544\\\\uc694.\",\"aerealstate\":\"R\",\"imgstate\":\"N\",\"upath_yn\":\"N\",\"upath\":\"\\\\/profile\\\\/ico\\\\/ico_23.png\",\"arrate1\":100,\"arrate2\":100,\"arrate3\":100,\"aepevent\":\"N\",\"epilrate_textinfo\":\"\\\\uc5ec\\\\uae30\\\\ub9cc\\\\ud55c \\\\uacf3\\\\uc740 \\\\uc5b4\\\\ub514\\\\uc5d0\\\\ub3c4 \\\\uc5c6\\\\uc744 \\\\uac70\\\\uc608\\\\uc694.\",\"hero\":[],\"ugrade\":\"New\",\"islike\":\"N\",\"likecount\":1,\"isEditable\":\"N\",\"o_comm\":[{\"aep_cmcont\":\"\\\\uace0\\\\uac1d\\\\ub2d8\\\\uaed8,\\\\n\\\\n\\\\uba3c\\\\uc800 \\\\uc800\\\\ud76c \\\\uc778\\\\ud130\\\\ucee8\\\\ud2f0\\\\ub128\\\\ud0c8 \\\\uc11c\\\\uc6b8 \\\\ucf54\\\\uc5d1\\\\uc2a4 \\\\ud638\\\\ud154\\\\uc744 \\\\uc774\\\\uc6a9\\\\ud574 \\\\uc8fc\\\\uc154\\\\uc11c \\\\uac10\\\\uc0ac\\\\uc758 \\\\ub9d0\\\\uc500 \\\\ub4dc\\\\ub9bd\\\\ub2c8\\\\ub2e4. \\\\uc800\\\\ud76c \\\\ud638\\\\ud154\\\\uc5d0 \\\\uba38\\\\ubb34\\\\ub974\\\\uc2dc\\\\ub294 \\\\ub3d9\\\\uc548 \\\\ub9cc\\\\uc871\\\\uc2a4\\\\ub7ec\\\\uc6b4 \\\\uc2dc\\\\uac04\\\\uc744 \\\\ubcf4\\\\ub0b4\\\\uc2e0 \\\\uac83 \\\\uac19\\\\uc544 \\\\ub9e4\\\\uc6b0 \\\\uae30\\\\uc069\\\\ub2c8\\\\ub2e4. \\\\ub2e4\\\\ub9cc, \\\\uccb4\\\\ud06c\\\\uc778\\\\uc2dc \\\\ubc1c\\\\uc0dd\\\\ud588\\\\ub358 \\\\ubb38\\\\uc81c\\\\ub85c \\\\ubd88\\\\ud3b8\\\\uc744 \\\\ub4dc\\\\ub9b0 \\\\uc810\\\\uc5d0 \\\\ub300\\\\ud574 \\\\uc0ac\\\\uacfc\\\\uc758 \\\\ub9d0\\\\uc500 \\\\uc62c\\\\ub9bd\\\\ub2c8\\\\ub2e4. \\\\ud5a5\\\\ud6c4 \\\\uac19\\\\uc740 \\\\uc2e4\\\\uc218\\\\uac00 \\\\ubc1c\\\\uc0dd\\\\ud558\\\\uc9c0 \\\\uc54a\\\\ub3c4\\\\ub85d \\\\ucd5c\\\\uc120\\\\uc758 \\\\ub178\\\\ub825\\\\uc744 \\\\ud558\\\\uaca0\\\\uc2b5\\\\ub2c8\\\\ub2e4. \\\\n\\\\n\\\\uc544\\\\uc6b8\\\\ub7ec, \\\\uc18c\\\\uc911\\\\ud55c \\\\uc2dc\\\\uac04\\\\uc744 \\\\ud560\\\\uc560\\\\ud558\\\\uc5ec \\\\uc774\\\\uc6a9 \\\\uad00\\\\ub828 \\\\ud6c4\\\\uae30\\\\ub97c \\\\ub0a8\\\\uaca8\\\\uc8fc\\\\uc154\\\\uc11c \\\\ub300\\\\ub2e8\\\\ud788 \\\\uace0\\\\ub9d9\\\\uc2b5\\\\ub2c8\\\\ub2e4. \\\\uace0\\\\uac1d\\\\ub2d8\\\\uc758 \\\\ud6c4\\\\uae30\\\\ub97c \\\\ubc14\\\\ud0d5\\\\uc73c\\\\ub85c \\\\uc800\\\\ud76c \\\\ud638\\\\ud154 \\\\uc9c1\\\\uc6d0\\\\ub4e4\\\\uc740 \\\\ubcf4\\\\ub2e4 \\\\ud5a5\\\\uc0c1\\\\ub41c \\\\uc11c\\\\ube44\\\\uc2a4\\\\ub97c \\\\uc81c\\\\uacf5\\\\ud558\\\\ub3c4\\\\ub85d \\\\ub354\\\\uc6b1 \\\\ub178\\\\ub825\\\\ud558\\\\uaca0\\\\uc2b5\\\\ub2c8\\\\ub2e4.\\\\n\\\\n\\\\uace0\\\\uac1d\\\\ub2d8\\\\uc758 \\\\uac74\\\\uac15\\\\uacfc \\\\uac00\\\\uc871\\\\uc758 \\\\ud589\\\\ubcf5\\\\uc744 \\\\uae30\\\\uc6d0 \\\\ub4dc\\\\ub9bd\\\\ub2c8\\\\ub2e4.\\\\n\\\\n\\\\uac10\\\\uc0ac\\\\ud569\\\\ub2c8\\\\ub2e4.\\\\n\\\\n\\\\uc6b4\\\\uc601\\\\uc9c0\\\\uc6d0\\\\ud300\\\\nInterContinental Seoul COEX\",\"aep_cmreg\":1614133792,\"upath\":\"\\\\/profile\\\\/ico\\\\/ico_owner.png\",\"unick\":\"\\\\uc81c\\\\ud734\\\\uc810 \\\\ub2f5\\\\ubcc0\"}]},{\"aname\":\"\\\\uc778\\\\ud130\\\\ucee8\\\\ud2f0\\\\ub128\\\\ud0c8 \\\\uc11c\\\\uc6b8 \\\\ucf54\\\\uc5d1\\\\uc2a4\",\"armgname\":\"[\\\\ub2e8 4\\\\uc77c! \\\\ub2e8\\\\ub3c5 \\\\uc5bc\\\\ub9ac\\\\ubc84\\\\ub4dc \\\\ud2b9\\\\uac00] \\\\uc218\\\\ud53c\\\\ub9ac\\\\uc5b4 \\\\ud2b8\\\\uc708 \\\\uac1d\\\\uc2e4 \\\\uc774\\\\uc6a9\",\"unick\":\"\\\\ubbf8\\\\ub2c8\\\\uadf8\\\\ub2c8\\\\ubbf8\",\"epilrate\":10,\"aepreg\":1614053265,\"aepcont\":\"\\\\uc124\\\\uc5f0\\\\ud734\\\\ud638\\\\uce89\\\\uc2a4\\\\ub85c\\\\uc120\\\\ud0dd\\\\ud55c\\\\uc778\\\\ud130\\\\ucf58\\\\ud2f0\\\\ub128\\\\ud138\\\\ucf54\\\\uc5d1\\\\uc2a4\\\\ud83d\\\\ude0d\\\\n\\\\uc9c1\\\\uc6d0\\\\ubd84\\\\ubaa8\\\\ub450\\\\uce5c\\\\uc808\\\\ud558\\\\uc2dc\\\\uace0~\\\\ub8f8\\\\uc11c\\\\ube44\\\\uc2a4\\\\ub3c4\\\\ub118\\\\ub098\\\\ub9cc\\\\uc871\\\\uc2a4\\\\ub7ec\\\\uc6e0\\\\uc2b5\\\\ub2c8\\\\ub2e4~\\\\n\\\\ub610\\\\ubc29\\\\ubb38\\\\ud560\\\\uc758\\\\uc9c02\\\\ubc31\\\\ud37c\\\\uc13c\\\\ud2b8\\\\uc785\\\\ub2c8\\\\ub2e4~^*^\",\"aerealstate\":\"R\",\"imgstate\":\"Y\",\"upath_yn\":\"N\",\"upath\":\"\\\\/profile\\\\/ico\\\\/ico_21.png\",\"arrate1\":100,\"arrate2\":100,\"arrate3\":100,\"aepevent\":\"N\",\"epilrate_textinfo\":\"\\\\uc5ec\\\\uae30\\\\ub9cc\\\\ud55c \\\\uacf3\\\\uc740 \\\\uc5b4\\\\ub514\\\\uc5d0\\\\ub3c4 \\\\uc5c6\\\\uc744 \\\\uac70\\\\uc608\\\\uc694.\",\"hero\":[],\"ugrade\":\"New\",\"islike\":\"N\",\"likecount\":0,\"isEditable\":\"N\",\"aepimg\":[{\"aep_imgpath\":\"\\\\/talk\\\\/epilogue\\\\/5951498\\\\/60347f9126274.jpg\",\"aep_imgsize\":\"1170x876\"},{\"aep_imgpath\":\"\\\\/talk\\\\/epilogue\\\\/5951498\\\\/60347f91298f9.jpg\",\"aep_imgsize\":\"1170x876\"},{\"aep_imgpath\":\"\\\\/talk\\\\/epilogue\\\\/5951498\\\\/60347f912bd06.jpg\",\"aep_imgsize\":\"1170x1560\"},{\"aep_imgpath\":\"\\\\/talk\\\\/epilogue\\\\/5951498\\\\/60347f9130325.jpg\",\"aep_imgsize\":\"1170x876\"},{\"aep_imgpath\":\"\\\\/talk\\\\/epilogue\\\\/5951498\\\\/60347f9134982.jpg\",\"aep_imgsize\":\"1170x876\"}],\"o_comm\":[{\"aep_cmcont\":\"\\\\uace0\\\\uac1d\\\\ub2d8\\\\uaed8,\\\\n\\\\n\\\\uba3c\\\\uc800 \\\\uc800\\\\ud76c \\\\uc778\\\\ud130\\\\ucee8\\\\ud2f0\\\\ub128\\\\ud0c8 \\\\uc11c\\\\uc6b8 \\\\ucf54\\\\uc5d1\\\\uc2a4 \\\\ud638\\\\ud154\\\\uc744 \\\\uc774\\\\uc6a9\\\\ud574 \\\\uc8fc\\\\uc154\\\\uc11c \\\\uac10\\\\uc0ac\\\\uc758 \\\\ub9d0\\\\uc500 \\\\ub4dc\\\\ub9bd\\\\ub2c8\\\\ub2e4. \\\\uc800\\\\ud76c \\\\ud638\\\\ud154\\\\uc5d0 \\\\uba38\\\\ubb34\\\\ub974\\\\uc2dc\\\\ub294 \\\\ub3d9\\\\uc548 \\\\ub9cc\\\\uc871\\\\uc2a4\\\\ub7ec\\\\uc6b4 \\\\uc2dc\\\\uac04\\\\uc744 \\\\ubcf4\\\\ub0b4\\\\uc2e0 \\\\uac83 \\\\uac19\\\\uc544 \\\\ub9e4\\\\uc6b0 \\\\uae30\\\\uc069\\\\ub2c8\\\\ub2e4. \\\\uc55e\\\\uc73c\\\\ub85c\\\\ub3c4 \\\\ub354\\\\uc6b1 \\\\ud3b8\\\\ub9ac\\\\ud55c \\\\uc2dc\\\\uc124\\\\uacfc \\\\uace0\\\\uac1d\\\\uc758 \\\\uae30\\\\ub300\\\\ub97c \\\\ub6f0\\\\uc5b4 \\\\ub118\\\\ub294 \\\\uc11c\\\\ube44\\\\uc2a4\\\\ub85c \\\\uace0\\\\uac1d\\\\ub2d8\\\\uc758 \\\\uae30\\\\ub300\\\\uc5d0 \\\\ubd80\\\\uc751\\\\ud560 \\\\uc218 \\\\uc788\\\\ub3c4\\\\ub85d \\\\ud56d\\\\uc0c1 \\\\ucd5c\\\\uc120\\\\uc744 \\\\ub2e4\\\\ud558\\\\uaca0\\\\uc2b5\\\\ub2c8\\\\ub2e4.\\\\n\\\\n\\\\uc544\\\\uc6b8\\\\ub7ec, \\\\uc18c\\\\uc911\\\\ud55c \\\\uc2dc\\\\uac04\\\\uc744 \\\\ud560\\\\uc560\\\\ud558\\\\uc5ec \\\\uc774\\\\uc6a9 \\\\uad00\\\\ub828 \\\\ud6c4\\\\uae30\\\\ub97c \\\\ub0a8\\\\uaca8\\\\uc8fc\\\\uc154\\\\uc11c \\\\ub300\\\\ub2e8\\\\ud788 \\\\uace0\\\\ub9d9\\\\uc2b5\\\\ub2c8\\\\ub2e4. \\\\uace0\\\\uac1d\\\\ub2d8\\\\uc758 \\\\ud6c4\\\\uae30\\\\ub97c \\\\ubc14\\\\ud0d5\\\\uc73c\\\\ub85c \\\\uc800\\\\ud76c \\\\ud638\\\\ud154 \\\\uc9c1\\\\uc6d0\\\\ub4e4\\\\uc740 \\\\ubcf4\\\\ub2e4 \\\\ud5a5\\\\uc0c1\\\\ub41c \\\\uc11c\\\\ube44\\\\uc2a4\\\\ub97c \\\\uc81c\\\\uacf5\\\\ud558\\\\ub3c4\\\\ub85d \\\\ub354\\\\uc6b1 \\\\ub178\\\\ub825\\\\ud558\\\\uaca0\\\\uc2b5\\\\ub2c8\\\\ub2e4.\\\\n\\\\n\\\\uace0\\\\uac1d\\\\ub2d8\\\\uc758 \\\\uac74\\\\uac15\\\\uacfc \\\\uac00\\\\uc871\\\\uc758 \\\\ud589\\\\ubcf5\\\\uc744 \\\\uae30\\\\uc6d0 \\\\ub4dc\\\\ub9bd\\\\ub2c8\\\\ub2e4.\\\\n\\\\n\\\\uac10\\\\uc0ac\\\\ud569\\\\ub2c8\\\\ub2e4.\\\\n\\\\n\\\\uc6b4\\\\uc601\\\\uc9c0\\\\uc6d0\\\\ud300\\\\nInterContinental Seoul COEX\",\"aep_cmreg\":1614133267,\"upath\":\"\\\\/profile\\\\/ico\\\\/ico_owner.png\",\"unick\":\"\\\\uc81c\\\\ud734\\\\uc810 \\\\ub2f5\\\\ubcc0\"}]},{\"aname\":\"\\\\uc778\\\\ud130\\\\ucee8\\\\ud2f0\\\\ub128\\\\ud0c8 \\\\uc11c\\\\uc6b8 \\\\ucf54\\\\uc5d1\\\\uc2a4\",\"armgname\":\"\\\\uc218\\\\ud53c\\\\ub9ac\\\\uc5b4 \\\\ub354\\\\ube14 \\\\uac1d\\\\uc2e4 \\\\uc774\\\\uc6a9\",\"unick\":\"\\\\ud0f1\\\\ud0f1\\\\ubd80\\\\ub9ac\",\"epilrate\":10,\"aepreg\":1614049293,\"aepcont\":\"\\\\uc790\\\\uc8fc \\\\uc774\\\\uc6a9\\\\ud558\\\\uace0\\\\uc788\\\\ub294\\\\ub370 \\\\ub108\\\\ubb34 \\\\uc88b\\\\uc544\\\\uc694\",\"aerealstate\":\"R\",\"imgstate\":\"N\",\"upath_yn\":\"N\",\"upath\":\"\\\\/profile\\\\/ico\\\\/ico_24.png\",\"arrate1\":100,\"arrate2\":100,\"arrate3\":100,\"aepevent\":\"N\",\"epilrate_textinfo\":\"\\\\uc5ec\\\\uae30\\\\ub9cc\\\\ud55c \\\\uacf3\\\\uc740 \\\\uc5b4\\\\ub514\\\\uc5d0\\\\ub3c4 \\\\uc5c6\\\\uc744 \\\\uac70\\\\uc608\\\\uc694.\",\"hero\":[],\"ugrade\":\"New\",\"islike\":\"N\",\"likecount\":0,\"isEditable\":\"N\",\"o_comm\":[{\"aep_cmcont\":\"\\\\uace0\\\\uac1d\\\\ub2d8\\\\uaed8,\\\\n\\\\n\\\\uba3c\\\\uc800 \\\\uc800\\\\ud76c \\\\uc778\\\\ud130\\\\ucee8\\\\ud2f0\\\\ub128\\\\ud0c8 \\\\uc11c\\\\uc6b8 \\\\ucf54\\\\uc5d1\\\\uc2a4 \\\\ud638\\\\ud154\\\\uc744 \\\\uc774\\\\uc6a9\\\\ud574 \\\\uc8fc\\\\uc154\\\\uc11c \\\\uac10\\\\uc0ac\\\\uc758 \\\\ub9d0\\\\uc500 \\\\ub4dc\\\\ub9bd\\\\ub2c8\\\\ub2e4. \\\\uc800\\\\ud76c \\\\ud638\\\\ud154\\\\uc5d0 \\\\uba38\\\\ubb34\\\\ub974\\\\uc2dc\\\\ub294 \\\\ub3d9\\\\uc548 \\\\ub9cc\\\\uc871\\\\uc2a4\\\\ub7ec\\\\uc6b4 \\\\uc2dc\\\\uac04\\\\uc744 \\\\ubcf4\\\\ub0b4\\\\uc2e0 \\\\uac83 \\\\uac19\\\\uc544 \\\\ub9e4\\\\uc6b0 \\\\uae30\\\\uc069\\\\ub2c8\\\\ub2e4. \\\\uc55e\\\\uc73c\\\\ub85c\\\\ub3c4 \\\\ub354\\\\uc6b1 \\\\ud3b8\\\\ub9ac\\\\ud55c \\\\uc2dc\\\\uc124\\\\uacfc \\\\uace0\\\\uac1d\\\\uc758 \\\\uae30\\\\ub300\\\\ub97c \\\\ub6f0\\\\uc5b4 \\\\ub118\\\\ub294 \\\\uc11c\\\\ube44\\\\uc2a4\\\\ub85c \\\\uace0\\\\uac1d\\\\ub2d8\\\\uc758 \\\\uae30\\\\ub300\\\\uc5d0 \\\\ubd80\\\\uc751\\\\ud560 \\\\uc218 \\\\uc788\\\\ub3c4\\\\ub85d \\\\ud56d\\\\uc0c1 \\\\ucd5c\\\\uc120\\\\uc744 \\\\ub2e4\\\\ud558\\\\uaca0\\\\uc2b5\\\\ub2c8\\\\ub2e4.\\\\n\\\\n\\\\uc544\\\\uc6b8\\\\ub7ec, \\\\uc18c\\\\uc911\\\\ud55c \\\\uc2dc\\\\uac04\\\\uc744 \\\\ud560\\\\uc560\\\\ud558\\\\uc5ec \\\\uc774\\\\uc6a9 \\\\uad00\\\\ub828 \\\\ud6c4\\\\uae30\\\\ub97c \\\\ub0a8\\\\uaca8\\\\uc8fc\\\\uc154\\\\uc11c \\\\ub300\\\\ub2e8\\\\ud788 \\\\uace0\\\\ub9d9\\\\uc2b5\\\\ub2c8\\\\ub2e4. \\\\uace0\\\\uac1d\\\\ub2d8\\\\uc758 \\\\ud6c4\\\\uae30\\\\ub97c \\\\ubc14\\\\ud0d5\\\\uc73c\\\\ub85c \\\\uc800\\\\ud76c \\\\ud638\\\\ud154 \\\\uc9c1\\\\uc6d0\\\\ub4e4\\\\uc740 \\\\ubcf4\\\\ub2e4 \\\\ud5a5\\\\uc0c1\\\\ub41c \\\\uc11c\\\\ube44\\\\uc2a4\\\\ub97c \\\\uc81c\\\\uacf5\\\\ud558\\\\ub3c4\\\\ub85d \\\\ub354\\\\uc6b1 \\\\ub178\\\\ub825\\\\ud558\\\\uaca0\\\\uc2b5\\\\ub2c8\\\\ub2e4.\\\\n\\\\n\\\\uace0\\\\uac1d\\\\ub2d8\\\\uc758 \\\\uac74\\\\uac15\\\\uacfc \\\\uac00\\\\uc871\\\\uc758 \\\\ud589\\\\ubcf5\\\\uc744 \\\\uae30\\\\uc6d0 \\\\ub4dc\\\\ub9bd\\\\ub2c8\\\\ub2e4.\\\\n\\\\n\\\\uac10\\\\uc0ac\\\\ud569\\\\ub2c8\\\\ub2e4.\\\\n\\\\n\\\\uc6b4\\\\uc601\\\\uc9c0\\\\uc6d0\\\\ud300\\\\nInterContinental Seoul COEX\",\"aep_cmreg\":1614132837,\"upath\":\"\\\\/profile\\\\/ico\\\\/ico_owner.png\",\"unick\":\"\\\\uc81c\\\\ud734\\\\uc810 \\\\ub2f5\\\\ubcc0\"}]}],\"count\":254,\"score_star\":\"45\"},\"total_page\":26}'"
      ]
     },
     "execution_count": 21,
     "metadata": {},
     "output_type": "execute_result"
    }
   ],
   "source": [
    "response.text"
   ]
  },
  {
   "cell_type": "code",
   "execution_count": 23,
   "metadata": {},
   "outputs": [],
   "source": [
    "import re"
   ]
  },
  {
   "cell_type": "code",
   "execution_count": 25,
   "metadata": {},
   "outputs": [
    {
     "data": {
      "text/plain": [
       "'254'"
=======
       "                        RoomType     Price  \\\n",
       "2003                         스위트  150,000원   \n",
       "2004                   프리미어 스위트   150,000원   \n",
       "2005  로얄 스위트 (수영장 제외 / 조식 2인 포함)  170,000원   \n",
       "2006                         디럭스   70,000원   \n",
       "2007                      로얄 디럭스   80,000원   \n",
       "2008                         스위트  120,000원   \n",
       "2009                         VIP  140,000원   \n",
       "2010                        스탠다드   75,000원   \n",
       "2011                         디럭스   80,000원   \n",
       "2012                    비즈니스 더블룸   85,000원   \n",
       "\n",
       "                                                   Link  \n",
       "2003  https://www.goodchoice.kr/product/detail?ano=1...  \n",
       "2004  https://www.goodchoice.kr/product/detail?ano=1...  \n",
       "2005  https://www.goodchoice.kr/product/detail?ano=1...  \n",
       "2006  https://www.goodchoice.kr/product/detail?ano=1...  \n",
       "2007  https://www.goodchoice.kr/product/detail?ano=1...  \n",
       "2008  https://www.goodchoice.kr/product/detail?ano=1...  \n",
       "2009  https://www.goodchoice.kr/product/detail?ano=1...  \n",
       "2010  https://www.goodchoice.kr/product/detail?ano=1...  \n",
       "2011  https://www.goodchoice.kr/product/detail?ano=1...  \n",
       "2012  https://www.goodchoice.kr/product/detail?ano=1...  "
>>>>>>> 20b952e5f497a391cd03abb768a14b36a1d43dc7
      ]
     },
     "execution_count": 4,
     "metadata": {},
     "output_type": "execute_result"
    }
   ],
   "source": [
<<<<<<< HEAD
    "count = re.findall('\"count\":([0-9]+)', response.text)[0]\n",
    "count"
   ]
  },
  {
   "cell_type": "code",
   "execution_count": null,
   "metadata": {},
   "outputs": [],
   "source": [
    "url = \"https://www.goodchoice.kr/product/get_review_non\"\n",
    "params = {\"page\": 0, \"ano\": 6980}\n",
    "response = requests.post(url, params)\n",
    "count = re.findall('\"count\":([0-9]+)', response.text)[0]\n",
    "count"
=======
    "print(test.shape)\n",
    "test.tail(10)"
>>>>>>> 20b952e5f497a391cd03abb768a14b36a1d43dc7
   ]
  },
  {
   "cell_type": "code",
   "execution_count": null,
<<<<<<< HEAD
   "metadata": {},
   "outputs": [],
   "source": []
  },
  {
   "cell_type": "code",
   "execution_count": null,
=======
   "id": "treated-cherry",
>>>>>>> 20b952e5f497a391cd03abb768a14b36a1d43dc7
   "metadata": {},
   "outputs": [],
   "source": [
    "# items.py"
   ]
  },
  {
   "cell_type": "code",
   "execution_count": null,
<<<<<<< HEAD
   "metadata": {},
   "outputs": [],
   "source": []
  },
  {
   "cell_type": "code",
   "execution_count": null,
   "metadata": {},
   "outputs": [],
   "source": []
  },
  {
   "cell_type": "code",
   "execution_count": null,
=======
   "id": "collected-shape",
>>>>>>> 20b952e5f497a391cd03abb768a14b36a1d43dc7
   "metadata": {},
   "outputs": [],
   "source": []
  },
  {
   "cell_type": "code",
   "execution_count": null,
   "metadata": {},
   "outputs": [],
   "source": [
    "# spider.py"
   ]
  },
  {
   "cell_type": "code",
   "execution_count": null,
<<<<<<< HEAD
   "metadata": {},
   "outputs": [],
   "source": []
  },
  {
   "cell_type": "code",
   "execution_count": null,
   "metadata": {},
   "outputs": [],
   "source": []
  },
  {
   "cell_type": "code",
   "execution_count": null,
   "metadata": {},
   "outputs": [],
   "source": []
  },
  {
   "cell_type": "code",
   "execution_count": null,
   "metadata": {},
   "outputs": [],
   "source": []
  },
  {
   "cell_type": "code",
   "execution_count": null,
=======
   "id": "assured-trace",
>>>>>>> 20b952e5f497a391cd03abb768a14b36a1d43dc7
   "metadata": {},
   "outputs": [],
   "source": []
  }
 ],
 "metadata": {
  "kernelspec": {
   "display_name": "Python 3",
   "language": "python",
   "name": "python3"
  },
  "language_info": {
   "codemirror_mode": {
    "name": "ipython",
    "version": 3
   },
   "file_extension": ".py",
   "mimetype": "text/x-python",
   "name": "python",
   "nbconvert_exporter": "python",
   "pygments_lexer": "ipython3",
   "version": "3.6.9"
  }
 },
 "nbformat": 4,
 "nbformat_minor": 5
}
