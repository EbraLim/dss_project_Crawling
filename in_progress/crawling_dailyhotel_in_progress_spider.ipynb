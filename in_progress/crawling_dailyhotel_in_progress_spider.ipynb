{
 "cells": [
  {
   "cell_type": "markdown",
   "metadata": {},
   "source": [
    "## Checklist\n",
    "\n",
    "### 진행예정\n",
    " 1) 추가필요 열: 날짜 \\\n",
    " 2) 타 플랫폼과 합쳤을 때 형식 통일하도록 data type과 Nan 처리방법 등 정의 \\\n",
    " 3) 메리어트 계열사 제외처리 필요\u001e",
    "\n",
    " \n",
    "\n",
    "### 완료\n",
    " 1) page바꿔가면서 했을 때 상품들 연속성 CHK (limit=50에 따른 상품 누락 여부 확인) -> 이상없음. \\\n",
    " 2) page=1, 2 이상 구분할 때 [4], [1]이 아니라 '전체'를 가져오게 해야겠다. 시간 저녁되니까 숫자로 안된다. -> 해결 \\\n",
    " 3) today 기준시 기준으로, 한국보다 9시간 느림 -> 한국시로 맞추기 -> 해결\n",
    " 4) 리뷰 추가 필요 -> 해결\n",
    " 5) headers에서 app-version 나중에 업데이트 필요할 수도 있음 -> 업데이트 이전의 app-version 넣어도 이상없음 -> 해결\n",
    "### 추후 체크 디버깅 예상\n",
    " 1) X"
   ]
  },
  {
   "cell_type": "code",
   "execution_count": 1,
   "metadata": {},
   "outputs": [],
   "source": [
    "import pandas as pd\n",
    "import numpy as np"
   ]
  },
  {
   "cell_type": "code",
   "execution_count": 2,
   "metadata": {},
   "outputs": [],
   "source": [
    "# 1. 프로젝트 생성"
   ]
  },
  {
   "cell_type": "code",
   "execution_count": 2,
   "metadata": {},
   "outputs": [
    {
     "name": "stdout",
     "output_type": "stream",
     "text": [
      "New Scrapy project 'dailyhotel', using template directory '/home/ubuntu/.pyenv/versions/3.6.9/envs/python3/lib/python3.6/site-packages/scrapy/templates/project', created in:\r\n",
      "    /home/ubuntu/python3/notebook/project/crawling/crawling-repo-2/in_progress/dailyhotel\r\n",
      "\r\n",
      "You can start your first spider with:\r\n",
      "    cd dailyhotel\r\n",
      "    scrapy genspider example example.com\r\n"
     ]
    }
   ],
   "source": [
    "# !rm -rf dailyhotel\n",
    "!scrapy startproject dailyhotel"
   ]
  },
  {
   "cell_type": "code",
   "execution_count": 3,
   "metadata": {},
   "outputs": [
    {
     "name": "stdout",
     "output_type": "stream",
     "text": [
      "\u001b[01;34mdailyhotel\u001b[00m\r\n",
      "├── DailyhotelKeys.py\r\n",
      "├── \u001b[01;34m__pycache__\u001b[00m\r\n",
      "│   └── DailyhotelKeys.cpython-36.pyc\r\n",
      "├── \u001b[01;34mdailyhotel\u001b[00m\r\n",
      "│   ├── __init__.py\r\n",
      "│   ├── \u001b[01;34m__pycache__\u001b[00m\r\n",
      "│   │   ├── __init__.cpython-36.pyc\r\n",
      "│   │   ├── items.cpython-36.pyc\r\n",
      "│   │   ├── mongodb.cpython-36.pyc\r\n",
      "│   │   ├── pipelines.cpython-36.pyc\r\n",
      "│   │   └── settings.cpython-36.pyc\r\n",
      "│   ├── items.py\r\n",
      "│   ├── middlewares.py\r\n",
      "│   ├── mongodb.py\r\n",
      "│   ├── pipelines.py\r\n",
      "│   ├── settings.py\r\n",
      "│   └── \u001b[01;34mspiders\u001b[00m\r\n",
      "│       ├── __init__.py\r\n",
      "│       ├── \u001b[01;34m__pycache__\u001b[00m\r\n",
      "│       │   ├── __init__.cpython-36.pyc\r\n",
      "│       │   └── spider.cpython-36.pyc\r\n",
      "│       └── spider.py\r\n",
      "├── dailyhotel.csv\r\n",
      "└── scrapy.cfg\r\n",
      "\r\n",
      "5 directories, 19 files\r\n"
     ]
    }
   ],
   "source": [
    "!tree dailyhotel"
   ]
  },
  {
   "cell_type": "code",
   "execution_count": 28,
   "metadata": {},
   "outputs": [],
   "source": [
    "# 2. xpath 찾기: headers 설정"
   ]
  },
  {
   "cell_type": "markdown",
   "metadata": {},
   "source": [
    "### hotel_key 가져오는 모듈 생성"
   ]
  },
  {
   "cell_type": "code",
   "execution_count": 10,
   "metadata": {},
   "outputs": [],
   "source": [
    "# hotel key 얻는 모듈 생성 -> dailyhotel.py\n",
    "def get_hotel_keys():\n",
    "    import scrapy, requests\n",
    "    from scrapy.http import TextResponse\n",
    "    import datetime\n",
    "    \n",
    "    \n",
    "    KST = datetime.timezone(datetime.timedelta(hours=9))\n",
    "    today = datetime.datetime.now(tz=KST) # 한국시간으로 설정\n",
    "    start_date= today.strftime(\"%Y-%m-%d\") # 시작일 디폴트 = 오늘\n",
    "    end_date = (today + datetime.timedelta(days=1)).strftime(\"%Y-%m-%d\") # 종료일 디폴트 = 내일\n",
    "    staydays = (datetime.datetime.strptime(end_date,'%Y-%m-%d').date() - \\\n",
    "                datetime.datetime.strptime(start_date,'%Y-%m-%d').date()).days # 숙박일수 디폴트 = 1박start_date, end_date\n",
    "    persons, staydays = 1, 1\n",
    "    \n",
    "    \n",
    "    # 호텔리스트 가져올 parent_url 생성\n",
    "    page = 1\n",
    "    hotelidx = []\n",
    "    while True:\n",
    "        parent_url = f\"https://www.dailyhotel.com/newdelhi/goodnight/api/v4/stays/sales?dateCheckIn={start_date}&regionIdx=30070&shortCutType=hotel_resort&persons={persons}&stays={staydays}&details=true&regionStayType=hotel_resort&stayType=hotel,resort&page={page}&limit=50\"\n",
    "        headers = {'app-version': '2.2.14'}\n",
    "        req = requests.get(parent_url, headers=headers)\n",
    "        response = req.json()\n",
    "        list_all = response['data']['staySaleSections']\n",
    "\n",
    "        if len(list_all) > 0:\n",
    "            for each in list_all:\n",
    "                if each['sectionViewType'] == 'NORMAL_섹션뷰타입':\n",
    "                    lists = each['staySales']\n",
    "                    print('page=', str(page))\n",
    "                    page += 1\n",
    "        else:\n",
    "            print('All registered hotels have been searched.') # 이거는 확인용\n",
    "            break\n",
    "\n",
    "\n",
    "        # parent_url에서 각 호텔들의 Index number 가져오기\n",
    "        for each in lists:\n",
    "            hotelidx.append(each['hotelIdx'])\n",
    "    \n",
    "    return hotelidx"
   ]
  },
  {
   "cell_type": "markdown",
   "metadata": {},
   "source": [
    "### 가져온 hotel_keys로 xpath찾기"
   ]
  },
  {
   "cell_type": "code",
   "execution_count": 22,
   "metadata": {
    "scrolled": true
   },
   "outputs": [
    {
     "data": {
      "text/plain": [
       "1491"
      ]
     },
     "execution_count": 22,
     "metadata": {},
     "output_type": "execute_result"
    }
   ],
   "source": [
    "# 일단 hotel_keys 받고 url 만들어서 yield시킬 예정\n",
    "# 테스트\n",
    "idx = hotelidx[0]\n",
    "staydays = 1\n",
    "start_date = \"2021-03-10\"\n",
    "\n",
    "\n",
    "hotel_url = f'https://www.dailyhotel.com/newdelhi/goodnight/api/v9/hotel/{idx}?stays={staydays}&dateCheckIn={start_date}&regionStayType=all'\n",
    "headers = {\n",
    "    'app-version': '2.2.13'\n",
    "}\n",
    "req = requests.get(hotel_url, headers=headers)\n",
    "response = TextResponse(req.url, body=req.text, encoding='utf-8')\n",
    "resp_content = response.json()\n",
    "\n",
    "\n",
    "#name\n",
    "name = resp_content['data']['name'] \n",
    "#level\n",
    "level = resp_content['data']['stayGradeName'] \n",
    "#score\n",
    "try:\n",
    "    score = round(resp_content['data']['rating']['values']/100*5, 1) \n",
    "except:\n",
    "    score = '점수없음'\n",
    "# location\n",
    "location = resp_content['data']['address']\n",
    "# roomtype\n",
    "roomtype = []\n",
    "for each in resp_content['data']['rooms']:\n",
    "    roomtype.append(each['roomName'])\n",
    "#price\n",
    "price = []\n",
    "for each in resp_content['data']['rooms']:\n",
    "    price.append(each['amount']['discountAverage'])\n",
    "#review\n",
    "review = resp_content['data']['statistic']['reviewScoreTotalCount']\n",
    "#link\n",
    "hotel_desc_url = f\"https://www.dailyhotel.com/stays/{idx}?dateCheckIn={start_date}&stays={staydays}\" # 크롤링이랑 예약링크 다름 -> request url과 다르도록!\n",
    "\n",
    "# print(name)\n",
    "# print(level)\n",
    "# print(score)\n",
    "# print(location)\n",
    "# print(roomtype)\n",
    "# print(price)\n",
    "# print(review)\n",
    "# print(hotel_desc_url)"
   ]
  },
  {
   "cell_type": "code",
   "execution_count": 12,
   "metadata": {},
   "outputs": [],
   "source": [
    "# 3. item.py"
   ]
  },
  {
   "cell_type": "code",
   "execution_count": 3,
   "metadata": {},
   "outputs": [
    {
     "name": "stdout",
     "output_type": "stream",
     "text": [
      "Overwriting dailyhotel/dailyhotel/items.py\n"
     ]
    }
   ],
   "source": [
    "%%writefile dailyhotel/dailyhotel/items.py\n",
    "import scrapy\n",
    "\n",
    "\n",
    "class DailyhotelItem(scrapy.Item):\n",
    "    date = scrapy.Field()\n",
    "    platform = scrapy.Field()\n",
    "    name = scrapy.Field()\n",
    "    level = scrapy.Field()\n",
    "    score = scrapy.Field()\n",
    "    review_count = scrapy.Field()\n",
    "    location = scrapy.Field()\n",
    "    room_type = scrapy.Field()\n",
    "    price = scrapy.Field()\n",
    "    link = scrapy.Field()"
   ]
  },
  {
   "cell_type": "markdown",
   "metadata": {},
   "source": [
    "# 4. spider.py"
   ]
  },
  {
   "cell_type": "code",
   "execution_count": 4,
   "metadata": {
    "scrolled": true
   },
   "outputs": [
    {
     "name": "stdout",
     "output_type": "stream",
     "text": [
      "Writing dailyhotel/dailyhotel/spiders/spider.py\n"
     ]
    }
   ],
   "source": [
    "%%writefile dailyhotel/dailyhotel/spiders/spider.py\n",
    "import scrapy, requests\n",
    "import json\n",
    "import datetime\n",
    "from DailyhotelKeys import get_hotel_keys\n",
    "from dailyhotel.items import DailyhotelItem\n",
    "\n",
    "\n",
    "class DailyhotelSpider(scrapy.Spider):\n",
    "    name = \"Dailyhotel\"\n",
    "    allow_domain=[\"dailyhotel.com\"]\n",
    "    KST = datetime.timezone(datetime.timedelta(hours=9))\n",
    "    today = datetime.datetime.now(tz=KST) # 한국시간으로 설정\n",
    "    start_date= today.strftime(\"%Y-%m-%d\") # 시작일 디폴트 = 오늘\n",
    "    end_date = (today + datetime.timedelta(days=1)).strftime(\"%Y-%m-%d\") # 종료일 디폴트 = 내일\n",
    "    staydays = (datetime.datetime.strptime(end_date,'%Y-%m-%d').date() - \\\n",
    "                datetime.datetime.strptime(start_date,'%Y-%m-%d').date()).days # 숙박일수 디폴트 = 1박start_date, end_date\n",
    "    persons, staydays = 2, 1\n",
    "    start_urls= [\"https://www.dailyhotel.com/\"]\n",
    "    \n",
    "    \n",
    "    def parse(self, response):\n",
    "        hotel_idx = get_hotel_keys()\n",
    "        KST = datetime.timezone(datetime.timedelta(hours=9))\n",
    "        today = datetime.datetime.now(tz=KST) # 한국시간으로 설정\n",
    "        start_date= today.strftime(\"%Y-%m-%d\") # 시작일 디폴트 = 오늘\n",
    "        links = []\n",
    "        start_urls = \"https://www.dailyhotel.com/\"\n",
    "        headers = {'app-version': '2.2.14',\n",
    "                   'user-agent': 'Mozilla/5.0 (Macintosh; Intel Mac OS X 10_15_7) AppleWebKit/537.36 (KHTML, like Gecko) Chrome/88.0.4324.192 Safari/537.36',\n",
    "                  }\n",
    "        for idx in hotel_idx:\n",
    "            hotel_url = start_urls + f'newdelhi/goodnight/api/v9/hotel/{idx}?stays=1&dateCheckIn={start_date}&regionStayType=all'\n",
    "            links.append(hotel_url)   \n",
    "        for link in links:\n",
    "            yield scrapy.Request(link, headers=headers, callback=self.parse_content)\n",
    "    \n",
    "    \n",
    "    def parse_content(self, response):\n",
    "        KST = datetime.timezone(datetime.timedelta(hours=9))\n",
    "        today = datetime.datetime.now(tz=KST) # 한국시간으로 설정\n",
    "        start_date= today.strftime(\"%Y-%m-%d\") # 시작일 디폴트 = 오늘  \n",
    "        resp_content = response.json()\n",
    "        staydays=1        \n",
    "        #date\n",
    "        date = start_date\n",
    "        #name\n",
    "        name = resp_content['data']['name'] \n",
    "        #level\n",
    "        level = resp_content['data']['stayGradeName'] \n",
    "        #score\n",
    "        try:\n",
    "            score = float(round(resp_content['data']['rating']['values']/100*5, 1))\n",
    "        except:\n",
    "            score = float(0)\n",
    "        # location\n",
    "        location = resp_content['data']['address']\n",
    "        # roomtype\n",
    "        roomtypes = []\n",
    "        for each in resp_content['data']['rooms']:\n",
    "            roomtypes.append(each['roomName'])\n",
    "        #price\n",
    "        prices = []\n",
    "        for each in resp_content['data']['rooms']:\n",
    "            prices.append(int(each['amount']['discountAverage']))\n",
    "        #review\n",
    "        review = resp_content['data']['statistic']['reviewScoreTotalCount']\n",
    "        #link\n",
    "        hotel_id = resp_content['data']['idx']\n",
    "        hotel_desc_url = f\"https://www.dailyhotel.com/stays/{hotel_id}?dateCheckIn={start_date}&stays={staydays}\" # 크롤링이랑 예약링크 다름 -> request url과 다르도록!\n",
    "        #platform\n",
    "        platform = \"데일리호텔\"\n",
    "\n",
    "        \n",
    "        item = DailyhotelItem()\n",
    "        for i in range(len(roomtypes)):\n",
    "            item['date'] = date\n",
    "            item['platform'] = platform\n",
    "            item['name'] = name\n",
    "            item['level'] = level\n",
    "            item['score'] = score\n",
    "            item['review_count'] = review\n",
    "            item['location'] = location\n",
    "            item['room_type'] = roomtypes[i]\n",
    "            item['price'] = prices[i]\n",
    "            item['link'] = hotel_desc_url     \n",
    "            yield item"
   ]
  },
  {
   "cell_type": "code",
   "execution_count": 30,
   "metadata": {},
   "outputs": [],
   "source": [
    "# 5. settings.py: robots.txt 여부 파악"
   ]
  },
  {
   "cell_type": "code",
   "execution_count": 31,
   "metadata": {},
   "outputs": [],
   "source": [
    "# 6. 프로젝트 실행"
   ]
  },
  {
   "cell_type": "code",
   "execution_count": 36,
   "metadata": {},
   "outputs": [
    {
     "data": {
      "text/plain": [
       "'/home/ubuntu/python3/project/codes/crawling'"
      ]
     },
     "execution_count": 36,
     "metadata": {},
     "output_type": "execute_result"
    }
   ],
   "source": [
    "%pwd"
   ]
  },
  {
   "cell_type": "code",
   "execution_count": 5,
   "metadata": {},
   "outputs": [
    {
     "name": "stdout",
     "output_type": "stream",
     "text": [
      "Overwriting run.sh\n"
     ]
    }
   ],
   "source": [
    "%%writefile run.sh\n",
    "cd dailyhotel\n",
    "rm dailyhotel.csv\n",
    "scrapy crawl Dailyhotel -o dailyhotel.csv "
   ]
  },
  {
   "cell_type": "code",
   "execution_count": 1,
   "metadata": {},
   "outputs": [],
   "source": [
    "# 7. pipeline.py: 크롤링데이터 mongodb에 저장"
   ]
  },
  {
   "cell_type": "code",
   "execution_count": 2,
   "metadata": {},
   "outputs": [],
   "source": [
    "# scrapy project에 pymongo module 생성"
   ]
  },
  {
   "cell_type": "code",
   "execution_count": 6,
   "metadata": {},
   "outputs": [
    {
     "name": "stdout",
     "output_type": "stream",
     "text": [
      "Writing dailyhotel/dailyhotel/mongodb.py\n"
     ]
    }
   ],
   "source": [
    "%%writefile dailyhotel/dailyhotel/mongodb.py\n",
    "import pymongo\n",
    "\n",
    "\n",
    "client = pymongo.MongoClient(\"mongodb://15.165.254.37:27017\")\n",
    "collection = client.hotel.hotel_info"
   ]
  },
  {
   "cell_type": "code",
   "execution_count": 26,
   "metadata": {},
   "outputs": [],
   "source": [
    "# pipeline.py 설정"
   ]
  },
  {
   "cell_type": "code",
   "execution_count": 7,
   "metadata": {},
   "outputs": [
    {
     "name": "stdout",
     "output_type": "stream",
     "text": [
      "Overwriting dailyhotel/dailyhotel/pipelines.py\n"
     ]
    }
   ],
   "source": [
    "%%writefile dailyhotel/dailyhotel/pipelines.py\n",
    "from itemadapter import ItemAdapter\n",
    "from .mongodb import collection\n",
    "\n",
    "class DailyhotelPipeline:\n",
    "    def process_item(self, item, spider):\n",
    "        data = {\"date\": item['date'], \"platform\": item['platform'], \"name\": item['name'],\n",
    "                \"level\": item['level'], \"score\": item['score'], \"review\": item['review_count'],\n",
    "                \"location\": item['location'], \"room_type\": item['room_type'],\n",
    "                \"price\": item['price'], \"link\": item['link']}\n",
    "        collection.insert(data)\n",
    "        return item"
   ]
  },
  {
   "cell_type": "code",
   "execution_count": 9,
   "metadata": {},
   "outputs": [],
   "source": [
    "# 8. settings.py -> pipeline 설정변경"
   ]
  },
  {
   "cell_type": "markdown",
   "metadata": {},
   "source": [
    "```\n",
    "ITEM_PIPELINES = {\n",
    "   'dailyhotel.pipelines.DailyhotelPipeline': 300,\n",
    "}\n",
    "```"
   ]
  },
  {
   "cell_type": "code",
   "execution_count": 10,
   "metadata": {},
   "outputs": [],
   "source": [
    "# 9. 프로젝트 실행!"
   ]
  },
  {
   "cell_type": "code",
   "execution_count": null,
   "metadata": {},
   "outputs": [],
   "source": [
    "!/bin/bash run.sh"
   ]
  },
  {
   "cell_type": "code",
   "execution_count": 8,
   "metadata": {},
   "outputs": [],
   "source": [
    "# 12초"
   ]
  },
  {
   "cell_type": "code",
   "execution_count": 9,
   "metadata": {},
   "outputs": [
    {
     "name": "stdout",
     "output_type": "stream",
     "text": [
      "(1807, 10)\n"
     ]
    },
    {
     "data": {
      "text/html": [
       "<div>\n",
       "<style scoped>\n",
       "    .dataframe tbody tr th:only-of-type {\n",
       "        vertical-align: middle;\n",
       "    }\n",
       "\n",
       "    .dataframe tbody tr th {\n",
       "        vertical-align: top;\n",
       "    }\n",
       "\n",
       "    .dataframe thead th {\n",
       "        text-align: right;\n",
       "    }\n",
       "</style>\n",
       "<table border=\"1\" class=\"dataframe\">\n",
       "  <thead>\n",
       "    <tr style=\"text-align: right;\">\n",
       "      <th></th>\n",
       "      <th>date</th>\n",
       "      <th>level</th>\n",
       "      <th>link</th>\n",
       "      <th>location</th>\n",
       "      <th>name</th>\n",
       "      <th>platform</th>\n",
       "      <th>price</th>\n",
       "      <th>review_count</th>\n",
       "      <th>room_type</th>\n",
       "      <th>score</th>\n",
       "    </tr>\n",
       "  </thead>\n",
       "  <tbody>\n",
       "    <tr>\n",
       "      <th>1802</th>\n",
       "      <td>2021-03-12</td>\n",
       "      <td>특1급</td>\n",
       "      <td>https://www.dailyhotel.com/stays/27910?dateChe...</td>\n",
       "      <td>서울 용산구 청파로20길 95</td>\n",
       "      <td>그랜드 머큐어 앰배서더 호텔 앤 레지던스 서울 용산</td>\n",
       "      <td>데일리호텔</td>\n",
       "      <td>445000</td>\n",
       "      <td>745</td>\n",
       "      <td>[HOT DEAL!] 디럭스 스위트 2베드룸</td>\n",
       "      <td>4.8</td>\n",
       "    </tr>\n",
       "    <tr>\n",
       "      <th>1803</th>\n",
       "      <td>2021-03-12</td>\n",
       "      <td>특1급</td>\n",
       "      <td>https://www.dailyhotel.com/stays/27910?dateChe...</td>\n",
       "      <td>서울 용산구 청파로20길 95</td>\n",
       "      <td>그랜드 머큐어 앰배서더 호텔 앤 레지던스 서울 용산</td>\n",
       "      <td>데일리호텔</td>\n",
       "      <td>467500</td>\n",
       "      <td>745</td>\n",
       "      <td>디럭스 스위트 2베드룸</td>\n",
       "      <td>4.8</td>\n",
       "    </tr>\n",
       "    <tr>\n",
       "      <th>1804</th>\n",
       "      <td>2021-03-12</td>\n",
       "      <td>특1급</td>\n",
       "      <td>https://www.dailyhotel.com/stays/27910?dateChe...</td>\n",
       "      <td>서울 용산구 청파로20길 95</td>\n",
       "      <td>그랜드 머큐어 앰배서더 호텔 앤 레지던스 서울 용산</td>\n",
       "      <td>데일리호텔</td>\n",
       "      <td>506600</td>\n",
       "      <td>745</td>\n",
       "      <td>[HOT DEAL!ㅣ조식 2인 포함] 디럭스 스위트 2베드룸</td>\n",
       "      <td>4.8</td>\n",
       "    </tr>\n",
       "    <tr>\n",
       "      <th>1805</th>\n",
       "      <td>2021-03-12</td>\n",
       "      <td>특1급</td>\n",
       "      <td>https://www.dailyhotel.com/stays/27910?dateChe...</td>\n",
       "      <td>서울 용산구 청파로20길 95</td>\n",
       "      <td>그랜드 머큐어 앰배서더 호텔 앤 레지던스 서울 용산</td>\n",
       "      <td>데일리호텔</td>\n",
       "      <td>529100</td>\n",
       "      <td>745</td>\n",
       "      <td>[조식 PKG] 디럭스 스위트 2베드룸</td>\n",
       "      <td>4.8</td>\n",
       "    </tr>\n",
       "    <tr>\n",
       "      <th>1806</th>\n",
       "      <td>2021-03-12</td>\n",
       "      <td>특1급</td>\n",
       "      <td>https://www.dailyhotel.com/stays/27910?dateChe...</td>\n",
       "      <td>서울 용산구 청파로20길 95</td>\n",
       "      <td>그랜드 머큐어 앰배서더 호텔 앤 레지던스 서울 용산</td>\n",
       "      <td>데일리호텔</td>\n",
       "      <td>577000</td>\n",
       "      <td>745</td>\n",
       "      <td>[The Lounge l EFL 2인 포함PKG] 디럭스 스위트 2베드룸</td>\n",
       "      <td>4.8</td>\n",
       "    </tr>\n",
       "  </tbody>\n",
       "</table>\n",
       "</div>"
      ],
      "text/plain": [
       "            date level                                               link  \\\n",
       "1802  2021-03-12   특1급  https://www.dailyhotel.com/stays/27910?dateChe...   \n",
       "1803  2021-03-12   특1급  https://www.dailyhotel.com/stays/27910?dateChe...   \n",
       "1804  2021-03-12   특1급  https://www.dailyhotel.com/stays/27910?dateChe...   \n",
       "1805  2021-03-12   특1급  https://www.dailyhotel.com/stays/27910?dateChe...   \n",
       "1806  2021-03-12   특1급  https://www.dailyhotel.com/stays/27910?dateChe...   \n",
       "\n",
       "              location                          name platform   price  \\\n",
       "1802  서울 용산구 청파로20길 95  그랜드 머큐어 앰배서더 호텔 앤 레지던스 서울 용산    데일리호텔  445000   \n",
       "1803  서울 용산구 청파로20길 95  그랜드 머큐어 앰배서더 호텔 앤 레지던스 서울 용산    데일리호텔  467500   \n",
       "1804  서울 용산구 청파로20길 95  그랜드 머큐어 앰배서더 호텔 앤 레지던스 서울 용산    데일리호텔  506600   \n",
       "1805  서울 용산구 청파로20길 95  그랜드 머큐어 앰배서더 호텔 앤 레지던스 서울 용산    데일리호텔  529100   \n",
       "1806  서울 용산구 청파로20길 95  그랜드 머큐어 앰배서더 호텔 앤 레지던스 서울 용산    데일리호텔  577000   \n",
       "\n",
       "      review_count                                  room_type  score  \n",
       "1802           745                  [HOT DEAL!] 디럭스 스위트 2베드룸     4.8  \n",
       "1803           745                              디럭스 스위트 2베드룸     4.8  \n",
       "1804           745         [HOT DEAL!ㅣ조식 2인 포함] 디럭스 스위트 2베드룸     4.8  \n",
       "1805           745                     [조식 PKG] 디럭스 스위트 2베드룸     4.8  \n",
       "1806           745  [The Lounge l EFL 2인 포함PKG] 디럭스 스위트 2베드룸     4.8  "
      ]
     },
     "execution_count": 9,
     "metadata": {},
     "output_type": "execute_result"
    }
   ],
   "source": [
    "import pandas as pd\n",
    "data = pd.read_csv('dailyhotel/dailyhotel.csv', encoding='utf-8-sig')\n",
    "print(data.shape)\n",
    "data.tail()"
   ]
  },
  {
   "cell_type": "code",
   "execution_count": null,
   "metadata": {},
   "outputs": [],
   "source": [
    "# 10. crontab 실행"
   ]
  }
 ],
 "metadata": {
  "kernelspec": {
   "display_name": "Python 3",
   "language": "python",
   "name": "python3"
  },
  "language_info": {
   "codemirror_mode": {
    "name": "ipython",
    "version": 3
   },
   "file_extension": ".py",
   "mimetype": "text/x-python",
   "name": "python",
   "nbconvert_exporter": "python",
   "pygments_lexer": "ipython3",
   "version": "3.8.5"
  }
 },
 "nbformat": 4,
 "nbformat_minor": 5
}
