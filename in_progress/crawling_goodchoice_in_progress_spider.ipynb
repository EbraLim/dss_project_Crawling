{
 "cells": [
  {
   "cell_type": "markdown",
   "metadata": {},
   "source": [
    "## checklist\n",
    "\n",
    "### 진행예정\n",
    " 1) 추가필요 열: 플랫폼명, 날짜 \\\n",
    " 2) 타 플랫폼과 합쳤을 때 형식 통일하도록 data type과 Nan 처리방법 등 정의 \\\n",
    " 3) 실행소요시간 마지막에 매직커맨드로 체크 \\\n",
    " 4) import는 설치 및 실행하는 거 settings.py 등으로 세팅하기 \\\n",
    " 5) MySQL로 나눠서 관리할 거면, 이름, 주소, 리뷰수 등은 순환주기 하루 어떤가? \\\n",
    "    리뷰수가 request를 한 번 더 보내야 해서 시간을 잡아먹는다 \\\n",
    "    그러면 어차피 스파이더를 두 개로 쪼개야하기는 하겠다\n",
    " 6) 쌓다가 원하는 호텔 원하는 가격 등 조건 방 나오면 알림 전달 서비스 추가도 좋을듯!\n",
    "\n",
    "\n",
    "### 완료\n",
    " 1) page바꿔가면서 했을 때 상품들 연속성 CHK (limit=50에 따른 상품 누락 여부 확인) -> 이상없음. \\\n",
    " 2) page=1, 2 이상 구분할 때 [4], [1]이 아니라 '전체'를 가져오게 해야겠다. 시간 저녁되니까 숫자로 안된다. -> 해결 \\\n",
    " 3) 리뷰수 추가 완료\n",
    "\n",
    "### 추후 체크 디버깅 예상\n",
    " 1) 예약만실 시 그대로 반영 or 삭제"
   ]
  },
  {
   "cell_type": "code",
   "execution_count": 1,
   "metadata": {},
   "outputs": [],
   "source": [
    "import numpy as np\n",
    "import pandas as pd"
   ]
  },
  {
   "cell_type": "code",
   "execution_count": 1,
   "metadata": {},
   "outputs": [],
   "source": [
    "# 1. 프로젝트 생성"
   ]
  },
  {
   "cell_type": "code",
   "execution_count": 1,
   "metadata": {},
   "outputs": [
    {
     "name": "stdout",
     "output_type": "stream",
     "text": [
      "New Scrapy project 'goodchoice', using template directory '/home/ubuntu/.pyenv/versions/3.6.9/envs/python3/lib/python3.6/site-packages/scrapy/templates/project', created in:\r\n",
      "    /home/ubuntu/python3/notebook/project/crawling/crawling-repo-2/in_progress/goodchoice\r\n",
      "\r\n",
      "You can start your first spider with:\r\n",
      "    cd goodchoice\r\n",
      "    scrapy genspider example example.com\r\n"
     ]
    }
   ],
   "source": [
    "# !rm -rf goodchoice\n",
    "!scrapy startproject goodchoice"
   ]
  },
  {
   "cell_type": "code",
   "execution_count": 2,
   "metadata": {},
   "outputs": [
    {
     "name": "stdout",
     "output_type": "stream",
     "text": [
      "\u001b[01;34mgoodchoice\u001b[00m\r\n",
      "├── \u001b[01;34mgoodchoice\u001b[00m\r\n",
      "│   ├── __init__.py\r\n",
      "│   ├── \u001b[01;34m__pycache__\u001b[00m\r\n",
      "│   │   ├── __init__.cpython-36.pyc\r\n",
      "│   │   ├── items.cpython-36.pyc\r\n",
      "│   │   ├── mongodb.cpython-36.pyc\r\n",
      "│   │   ├── pipelines.cpython-36.pyc\r\n",
      "│   │   └── settings.cpython-36.pyc\r\n",
      "│   ├── items.py\r\n",
      "│   ├── middlewares.py\r\n",
      "│   ├── mongodb.py\r\n",
      "│   ├── pipelines.py\r\n",
      "│   ├── settings.py\r\n",
      "│   └── \u001b[01;34mspiders\u001b[00m\r\n",
      "│       ├── __init__.py\r\n",
      "│       ├── \u001b[01;34m__pycache__\u001b[00m\r\n",
      "│       │   ├── __init__.cpython-36.pyc\r\n",
      "│       │   └── spider.cpython-36.pyc\r\n",
      "│       └── spider.py\r\n",
      "├── goodchoice.csv\r\n",
      "└── scrapy.cfg\r\n",
      "\r\n",
      "4 directories, 17 files\r\n"
     ]
    }
   ],
   "source": [
    "!tree goodchoice"
   ]
  },
  {
   "cell_type": "code",
   "execution_count": 3,
   "metadata": {},
   "outputs": [],
   "source": [
    "# 2. xpath 찾기"
   ]
  },
  {
   "cell_type": "code",
   "execution_count": 1,
   "metadata": {},
   "outputs": [],
   "source": [
    "# 1) gu별로 페이지 받았을 때, 호텔리스트 받기 위한 xpath"
   ]
  },
  {
   "cell_type": "code",
   "execution_count": null,
   "metadata": {},
   "outputs": [],
   "source": [
    "links = response.xpath('//*[@id=\"poduct_list_area\"]/li/a/@href').extract()"
   ]
  },
  {
   "cell_type": "code",
   "execution_count": null,
   "metadata": {},
   "outputs": [],
   "source": [
    "# 2) 호텔별로 상세페이지 링크 받았을 때, 각호텔별 상세정보 받기 위한 xpath"
   ]
  },
  {
   "cell_type": "code",
   "execution_count": 6,
   "metadata": {},
   "outputs": [],
   "source": [
    "# xpath 찾기 전에 필요한 사전 import & settings\n",
    "import scrapy, requests\n",
    "from scrapy.http import TextResponse\n",
    "import datetime\n",
    "import re\n",
    "\n",
    "\n",
    "KST = datetime.timezone(datetime.timedelta(hours=9))\n",
    "today = datetime.datetime.now(tz=KST)\n",
    "start_date= today.strftime(\"%Y-%m-%d\") # 시작일 디폴트 = 오늘\n",
    "end_date = (today + datetime.timedelta(days=1)).strftime(\"%Y-%m-%d\") # 종료일 디폴트 = 내일\n",
    "staydays = (datetime.datetime.strptime(end_date,'%Y-%m-%d').date() - \\\n",
    "            datetime.datetime.strptime(start_date,'%Y-%m-%d').date()).days # 숙박일수 디폴트 = 1박start_date, end_date\n",
    "persons = 2\n",
    "gu_code = ['2012']\n",
    "\n",
    "\n",
    "# 2012 하나에 대해 링크들 가져오기\n",
    "for gu in gu_code:\n",
    "        url = f'https://www.goodchoice.kr/product/search/2/{gu}?sort=HIT\\\n",
    "&sel_date={start_date}&sel_date2={end_date}&persons={persons}'\n",
    "        req = requests.get(url)\n",
    "        response = TextResponse(req.url, body=req.text, encoding='utf-8')\n",
    "        links = response.xpath('//*[@id=\"poduct_list_area\"]/li/a/@href').extract()"
   ]
  },
  {
   "cell_type": "code",
   "execution_count": 22,
   "metadata": {
    "collapsed": true
   },
   "outputs": [
    {
     "name": "stdout",
     "output_type": "stream",
     "text": [
      "[공동구매] 인터컨티넨탈 서울 코엑스\n",
      "5성급\n",
      "9.6\n",
      "서울 강남구 삼성동 159\n",
      "['[주중! 공동구매 머선129 패키지] 수피리어 더블', '[주중! 공동구매 머선129 패키지] 수피리어 트윈', '[주중! 공동구매 머선129 패키지-2인 조식] ...', '[주중! 공동구매 머선129 패키지-2인 조식] ...', '[미니바 습격 패키지] 수피리어 더블', '[미니바 습격 패키지] 수피리어 트윈', '[봄캉스 특가! Fresh한 시작] 수피리어 더블', '[봄캉스 특가! Fresh한 시작] 수피리어 트윈', '수피리어 더블', '수피리어 트윈', '[Stay and Eat more 패키지] 수피리어 더블', '[Stay and Eat more 패키지] 수피리어 트윈', '[술기로운 생활 패키지] 수피리어 더블', '[술기로운 생활 패키지] 수피리어 트윈', '[비타 스프링 패키지] 수피리어 더블', '[비타 스프링 패키지] 수피리어 트윈', '[Lovely Bubbly 키즈 패키지] 수피리어 더블', '[Lovely Bubbly 키즈 패키지] 수피리어 트윈', '[반짝이는 연애일기 패키지] 수피리어 더블', '[반짝이는 연애일기 패키지] 수피리어 트윈']\n",
      "['119,000원', '119,000원', '159,000원', '159,000원', '185,000원', '185,000원', '202,000원', '202,000원', '211,750원', '211,750원', '212,960원', '212,960원', '220,000원', '220,000원', '230,000원', '230,000원', '250,000원', '250,000원', '260,000원', '260,000원']\n",
      "261\n",
      "https://www.goodchoice.kr/product/detail?ano=6980&adcno=2&sel_date=2021-03-11&sel_date2=2021-03-12\n"
     ]
    }
   ],
   "source": [
    "# 2012 링크들 중 3개에 대해서 테스트 진행 -> Success\n",
    "for link in links[:1]:\n",
    "    req = requests.get(link)\n",
    "    response = TextResponse(req.url, body=req.text, encoding='utf-8')\n",
    "    \n",
    "    # name\n",
    "    name = response.xpath('//*[@id=\"content\"]/div[1]/div[2]/div[1]/h2/text()')[0].extract()\n",
    "    # level\n",
    "    level = response.xpath('//*[@id=\"content\"]/div[1]/div[2]/div[1]/span/text()')[0].extract()\n",
    "    # score\n",
    "    try:\n",
    "        score = response.xpath('//*[@id=\"content\"]/div[1]/div[2]/div[1]/div[1]/span/text()')[0].extract()\n",
    "    except:\n",
    "        score = ['점수없음']\n",
    "    # location    \n",
    "    location = response.xpath('//*[@id=\"content\"]/div[1]/div[2]/div[1]/p[2]/text()')[0].extract()\n",
    "    # roomtype\n",
    "    try:\n",
    "        roomtype = response.xpath('//*[@id=\"product_filter_form\"]/article/div/strong/text()')[1:].extract()\n",
    "    except:\n",
    "        roomtype = ['예약만실']\n",
    "\n",
    "    # price\n",
    "    price = []\n",
    "    for num in range(2, 2+len(roomtype)):\n",
    "        try:\n",
    "            price.append(response.xpath(f'//*[@id=\"product_filter_form\"]/article/div[{num}]/div[3]/div/div/div/p[2]/b/text()')[0].extract())\n",
    "        except:\n",
    "            price.append('다른날짜확인')\n",
    "\n",
    "    # review (link에 직접 담겨있지 않으며 link url의 hotel_id로 request url 재구성 필요)\n",
    "    hotel_id = re.findall(\"ano\\=([0-9]+)\\&\", response.url)[0]\n",
    "    review_url = 'https://www.goodchoice.kr/product/get_review_non'\n",
    "    params = {\"page\": 0, \"ano\": hotel_id}\n",
    "    response2 = requests.post(review_url, params)\n",
    "    review = re.findall('\"count\":([0-9]+)', response2.text)[0]\n",
    "\n",
    "    # link\n",
    "    hotel_desc_url = response.url\n",
    "    \n",
    "    \n",
    "    print(name), print(level), print(score), print(location),print(roomtype), print(price), print(review), print(link) "
   ]
  },
  {
   "cell_type": "code",
   "execution_count": 18,
   "metadata": {},
   "outputs": [],
   "source": [
    "# 3. items.py"
   ]
  },
  {
   "cell_type": "code",
   "execution_count": 2,
   "metadata": {},
   "outputs": [
    {
     "name": "stdout",
     "output_type": "stream",
     "text": [
      "Overwriting goodchoice/goodchoice/items.py\n"
     ]
    }
   ],
   "source": [
    "%%writefile goodchoice/goodchoice/items.py\n",
    "import scrapy\n",
    "\n",
    "\n",
    "class GoodchoiceItem(scrapy.Item):\n",
    "    date = scrapy.Field()\n",
    "    platform = scrapy.Field()\n",
    "    name = scrapy.Field()\n",
    "    level = scrapy.Field()\n",
    "    score = scrapy.Field()\n",
    "    review_count = scrapy.Field()\n",
    "    location = scrapy.Field()\n",
    "    room_type = scrapy.Field()\n",
    "    price = scrapy.Field()\n",
    "    link = scrapy.Field()"
   ]
  },
  {
   "cell_type": "code",
   "execution_count": 21,
   "metadata": {},
   "outputs": [],
   "source": [
    "# 4. spider.py"
   ]
  },
  {
   "cell_type": "code",
   "execution_count": 3,
   "metadata": {},
   "outputs": [
    {
     "name": "stdout",
     "output_type": "stream",
     "text": [
      "Writing goodchoice/goodchoice/spiders/spider.py\n"
     ]
    }
   ],
   "source": [
    "%%writefile goodchoice/goodchoice/spiders/spider.py\n",
    "import scrapy, requests\n",
    "from scrapy.http import TextResponse\n",
    "import datetime\n",
    "import re\n",
    "from goodchoice.items import GoodchoiceItem\n",
    "\n",
    "\n",
    "class GoodchoiceSpider(scrapy.Spider):\n",
    "    name = \"Goodchoice\"\n",
    "    allow_domain= [\"goodchoice.kr/\"]\n",
    "    KST = datetime.timezone(datetime.timedelta(hours=9))\n",
    "    today = datetime.datetime.now(tz=KST) # 한국시간으로 설정\n",
    "    start_date= today.strftime(\"%Y-%m-%d\") # 시작일 디폴트 = 오늘\n",
    "    end_date = (today + datetime.timedelta(days=1)).strftime(\"%Y-%m-%d\") # 종료일 디폴트 = 내일\n",
    "    staydays = (datetime.datetime.strptime(end_date,'%Y-%m-%d').date() - \\\n",
    "                datetime.datetime.strptime(start_date,'%Y-%m-%d').date()).days # 숙박일수 디폴트 = 1박start_date, end_date\n",
    "    persons, staydays = 2, 1\n",
    "    start_urls= [\"https://www.dailyhotel.com/\"]\n",
    "\n",
    "    \n",
    "    def start_requests(self):\n",
    "        KST = datetime.timezone(datetime.timedelta(hours=9))\n",
    "        today = datetime.datetime.now(tz=KST) # 한국시간으로 설정\n",
    "        start_date= today.strftime(\"%Y-%m-%d\") # 시작일 디폴트 = 오늘\n",
    "        end_date = (today + datetime.timedelta(days=1)).strftime(\"%Y-%m-%d\") # 종료일 디폴트 = 내일\n",
    "        persons = 2\n",
    "        gu_code = ['2012', '2019', '2016', '2014', '2015', '2020', '2018', '2017', '2021']\n",
    "        for gu in gu_code:\n",
    "            start_url = f'https://www.goodchoice.kr/product/search/2/{gu}?sort=HIT\\\n",
    "            &sel_date={start_date}&sel_date2={end_date}&persons={persons}'\n",
    "            yield scrapy.Request(start_url, callback=self.parse)\n",
    "            \n",
    "            \n",
    "    def parse(self, response):\n",
    "        links = response.xpath('//*[@id=\"poduct_list_area\"]/li/a/@href').extract()\n",
    "        for link in links:\n",
    "            yield scrapy.Request(link, callback=self.parse_content)\n",
    "            \n",
    "            \n",
    "    def parse_content(self, response):\n",
    "        KST = datetime.timezone(datetime.timedelta(hours=9))\n",
    "        today = datetime.datetime.now(tz=KST) # 한국시간으로 설정\n",
    "        start_date= today.strftime(\"%Y-%m-%d\") # 시작일 디폴트 = 오늘\n",
    "        # date\n",
    "        date = start_date\n",
    "        # name\n",
    "        name = response.xpath('//*[@id=\"content\"]/div[1]/div[2]/div[1]/h2/text()')[0].extract()\n",
    "        # level\n",
    "        level = response.xpath('//*[@id=\"content\"]/div[1]/div[2]/div[1]/span/text()')[0].extract()\n",
    "        # score\n",
    "        try:\n",
    "            tmp = response.xpath('//*[@id=\"content\"]/div[1]/div[2]/div[1]/div[1]/span/text()')[0].extract()\n",
    "            score = float(tmp)\n",
    "        except:\n",
    "            score = float(0)\n",
    "        # location    \n",
    "        location = response.xpath('//*[@id=\"content\"]/div[1]/div[2]/div[1]/p[2]/text()')[0].extract()\n",
    "        # roomtype\n",
    "        try:\n",
    "            roomtype = response.xpath('//*[@id=\"product_filter_form\"]/article/div/strong/text()')[1:].extract()\n",
    "        except:\n",
    "            roomtype = ['예약만실']\n",
    "        # price\n",
    "        price = []\n",
    "        for num in range(2, 2+len(roomtype)):\n",
    "            try:\n",
    "                tmp = response.xpath(f'//*[@id=\"product_filter_form\"]/article/div[{num}]/div[3]/div/div/div/p[2]/b/text()')[0].extract()\n",
    "                tmp = tmp.replace(',',\"\")\n",
    "                tmp = tmp.replace('원','')\n",
    "                price.append(int(tmp))\n",
    "            except:\n",
    "                price.append(int(0))\n",
    "        # review (link에 직접 담겨있지 않으며 link url의 hotel_id로 request url 재구성 필요)\n",
    "        hotel_id = re.findall(\"ano\\=([0-9]+)\\&\", response.url)[0]\n",
    "        review_url = 'https://www.goodchoice.kr/product/get_review_non'\n",
    "        params = {\"page\": 0, \"ano\": hotel_id}\n",
    "        response2 = requests.post(review_url, params)\n",
    "        review = re.findall('\"count\":([0-9]+)', response2.text)[0]\n",
    "        # link\n",
    "        hotel_desc_url = response.url\n",
    "        # platform\n",
    "        platform = \"여기어때\"\n",
    "        \n",
    "        \n",
    "        item = GoodchoiceItem()\n",
    "        for i in range(len(roomtype)):\n",
    "            item['date'] = date\n",
    "            item['platform'] = platform\n",
    "            item['name'] = name\n",
    "            item['level'] = level\n",
    "            item['score'] = score\n",
    "            item['review_count'] = review\n",
    "            item['location'] = location\n",
    "            item['room_type'] = roomtype[i]\n",
    "            item['price'] = price[i]\n",
    "            item['link'] = hotel_desc_url\n",
    "            yield item"
   ]
  },
  {
   "cell_type": "code",
   "execution_count": null,
   "metadata": {},
   "outputs": [],
   "source": [
    "# 5. settings.py: robots.txt 여부 파악"
   ]
  },
  {
   "cell_type": "code",
   "execution_count": 24,
   "metadata": {},
   "outputs": [],
   "source": [
    "# 6. 프로젝트 실행"
   ]
  },
  {
   "cell_type": "code",
   "execution_count": 87,
   "metadata": {},
   "outputs": [
    {
     "data": {
      "text/plain": [
       "'/home/ubuntu/python3/project/codes/crawling'"
      ]
     },
     "execution_count": 87,
     "metadata": {},
     "output_type": "execute_result"
    }
   ],
   "source": [
    "%pwd"
   ]
  },
  {
   "cell_type": "code",
   "execution_count": 4,
   "metadata": {},
   "outputs": [
    {
     "name": "stdout",
     "output_type": "stream",
     "text": [
      "Writing rungood.sh\n"
     ]
    }
   ],
   "source": [
    "%%writefile rungood.sh\n",
    "cd goodchoice\n",
    "rm goodchoice.csv\n",
    "scrapy crawl Goodchoice -o goodchoice.csv "
   ]
  },
  {
   "cell_type": "code",
   "execution_count": 7,
   "metadata": {},
   "outputs": [],
   "source": [
    "# 실행시간 2:33"
   ]
  },
  {
   "cell_type": "code",
   "execution_count": 1,
   "metadata": {},
   "outputs": [],
   "source": [
    "# 7. pipeline.py: 크롤링데이터 mongodb에 저장"
   ]
  },
  {
   "cell_type": "code",
   "execution_count": 2,
   "metadata": {},
   "outputs": [],
   "source": [
    "# scrapy project에 pymongo module 생성"
   ]
  },
  {
   "cell_type": "code",
   "execution_count": 5,
   "metadata": {},
   "outputs": [
    {
     "name": "stdout",
     "output_type": "stream",
     "text": [
      "Writing goodchoice/goodchoice/mongodb.py\n"
     ]
    }
   ],
   "source": [
    "%%writefile goodchoice/goodchoice/mongodb.py\n",
    "import pymongo\n",
    "\n",
    "\n",
    "client = pymongo.MongoClient(\"mongodb://15.165.254.37:27017\")\n",
    "collection = client.hotel.hotel_info"
   ]
  },
  {
   "cell_type": "code",
   "execution_count": 1,
   "metadata": {},
   "outputs": [],
   "source": [
    "# pipeline.py 설정"
   ]
  },
  {
   "cell_type": "code",
   "execution_count": 6,
   "metadata": {},
   "outputs": [
    {
     "name": "stdout",
     "output_type": "stream",
     "text": [
      "Overwriting goodchoice/goodchoice/pipelines.py\n"
     ]
    }
   ],
   "source": [
    "%%writefile goodchoice/goodchoice/pipelines.py\n",
    "from itemadapter import ItemAdapter\n",
    "from .mongodb import collection\n",
    "\n",
    "\n",
    "class GoodchoicePipeline:\n",
    "    def process_item(self, item, spider):\n",
    "        data = {\"date\": item['date'], \"platform\": item['platform'], \"name\": item['name'],\n",
    "                \"level\": item['level'], \"score\": item['score'], \"review\": item['review_count'],\n",
    "                \"location\": item['location'], \"room_type\": item['room_type'],\n",
    "                \"price\": item['price'], \"link\": item['link']}\n",
    "        collection.insert(data)\n",
    "        return item"
   ]
  },
  {
   "cell_type": "code",
   "execution_count": 3,
   "metadata": {},
   "outputs": [],
   "source": [
    "# 8. settings.py -> pipeline 설정변경"
   ]
  },
  {
   "cell_type": "markdown",
   "metadata": {},
   "source": [
    "```\n",
    "ITEM_PIPELINES = {\n",
    "   'goodchoice.pipelines.GoodchoicePipeline': 300,\n",
    "}\n",
    "```"
   ]
  },
  {
   "cell_type": "code",
   "execution_count": 4,
   "metadata": {},
   "outputs": [],
   "source": [
    "# 9. 프로젝트 실행!"
   ]
  },
  {
   "cell_type": "code",
   "execution_count": null,
   "metadata": {},
   "outputs": [],
   "source": [
    "!source rungood.sh"
   ]
  },
  {
   "cell_type": "code",
   "execution_count": 40,
   "metadata": {},
   "outputs": [],
   "source": [
    "# 실행시간 2:05"
   ]
  },
  {
   "cell_type": "code",
   "execution_count": 9,
   "metadata": {
    "scrolled": true
   },
   "outputs": [
    {
     "name": "stdout",
     "output_type": "stream",
     "text": [
      "(2259, 10)\n"
     ]
    },
    {
     "data": {
      "text/html": [
       "<div>\n",
       "<style scoped>\n",
       "    .dataframe tbody tr th:only-of-type {\n",
       "        vertical-align: middle;\n",
       "    }\n",
       "\n",
       "    .dataframe tbody tr th {\n",
       "        vertical-align: top;\n",
       "    }\n",
       "\n",
       "    .dataframe thead th {\n",
       "        text-align: right;\n",
       "    }\n",
       "</style>\n",
       "<table border=\"1\" class=\"dataframe\">\n",
       "  <thead>\n",
       "    <tr style=\"text-align: right;\">\n",
       "      <th></th>\n",
       "      <th>date</th>\n",
       "      <th>level</th>\n",
       "      <th>link</th>\n",
       "      <th>location</th>\n",
       "      <th>name</th>\n",
       "      <th>platform</th>\n",
       "      <th>price</th>\n",
       "      <th>review_count</th>\n",
       "      <th>room_type</th>\n",
       "      <th>score</th>\n",
       "    </tr>\n",
       "  </thead>\n",
       "  <tbody>\n",
       "    <tr>\n",
       "      <th>2254</th>\n",
       "      <td>2021-03-12</td>\n",
       "      <td>4성급</td>\n",
       "      <td>https://www.goodchoice.kr/product/detail?ano=6...</td>\n",
       "      <td>서울 종로구 관훈동 155-2</td>\n",
       "      <td>나인트리 프리미어 호텔 인사동</td>\n",
       "      <td>여기어때</td>\n",
       "      <td>148000</td>\n",
       "      <td>409</td>\n",
       "      <td>[또또 1+1] 스탠다드 트윈</td>\n",
       "      <td>9.5</td>\n",
       "    </tr>\n",
       "    <tr>\n",
       "      <th>2255</th>\n",
       "      <td>2021-03-12</td>\n",
       "      <td>4성급</td>\n",
       "      <td>https://www.goodchoice.kr/product/detail?ano=6...</td>\n",
       "      <td>서울 종로구 관훈동 155-2</td>\n",
       "      <td>나인트리 프리미어 호텔 인사동</td>\n",
       "      <td>여기어때</td>\n",
       "      <td>158000</td>\n",
       "      <td>409</td>\n",
       "      <td>[또또 1+1] 스탠다드 더블</td>\n",
       "      <td>9.5</td>\n",
       "    </tr>\n",
       "    <tr>\n",
       "      <th>2256</th>\n",
       "      <td>2021-03-12</td>\n",
       "      <td>부티크</td>\n",
       "      <td>https://www.goodchoice.kr/product/detail?ano=6...</td>\n",
       "      <td>서울 종로구 창신동 383</td>\n",
       "      <td>오마이인 동대문</td>\n",
       "      <td>여기어때</td>\n",
       "      <td>29500</td>\n",
       "      <td>36</td>\n",
       "      <td>스탠다드 싱글</td>\n",
       "      <td>9.5</td>\n",
       "    </tr>\n",
       "    <tr>\n",
       "      <th>2257</th>\n",
       "      <td>2021-03-12</td>\n",
       "      <td>부티크</td>\n",
       "      <td>https://www.goodchoice.kr/product/detail?ano=6...</td>\n",
       "      <td>서울 종로구 창신동 383</td>\n",
       "      <td>오마이인 동대문</td>\n",
       "      <td>여기어때</td>\n",
       "      <td>35400</td>\n",
       "      <td>36</td>\n",
       "      <td>스탠다드 트윈</td>\n",
       "      <td>9.5</td>\n",
       "    </tr>\n",
       "    <tr>\n",
       "      <th>2258</th>\n",
       "      <td>2021-03-12</td>\n",
       "      <td>부티크</td>\n",
       "      <td>https://www.goodchoice.kr/product/detail?ano=6...</td>\n",
       "      <td>서울 종로구 창신동 383</td>\n",
       "      <td>오마이인 동대문</td>\n",
       "      <td>여기어때</td>\n",
       "      <td>35400</td>\n",
       "      <td>36</td>\n",
       "      <td>스탠다드 더블</td>\n",
       "      <td>9.5</td>\n",
       "    </tr>\n",
       "  </tbody>\n",
       "</table>\n",
       "</div>"
      ],
      "text/plain": [
       "            date level                                               link  \\\n",
       "2254  2021-03-12   4성급  https://www.goodchoice.kr/product/detail?ano=6...   \n",
       "2255  2021-03-12   4성급  https://www.goodchoice.kr/product/detail?ano=6...   \n",
       "2256  2021-03-12   부티크  https://www.goodchoice.kr/product/detail?ano=6...   \n",
       "2257  2021-03-12   부티크  https://www.goodchoice.kr/product/detail?ano=6...   \n",
       "2258  2021-03-12   부티크  https://www.goodchoice.kr/product/detail?ano=6...   \n",
       "\n",
       "              location              name platform   price  review_count  \\\n",
       "2254  서울 종로구 관훈동 155-2  나인트리 프리미어 호텔 인사동     여기어때  148000           409   \n",
       "2255  서울 종로구 관훈동 155-2  나인트리 프리미어 호텔 인사동     여기어때  158000           409   \n",
       "2256    서울 종로구 창신동 383          오마이인 동대문     여기어때   29500            36   \n",
       "2257    서울 종로구 창신동 383          오마이인 동대문     여기어때   35400            36   \n",
       "2258    서울 종로구 창신동 383          오마이인 동대문     여기어때   35400            36   \n",
       "\n",
       "             room_type  score  \n",
       "2254  [또또 1+1] 스탠다드 트윈    9.5  \n",
       "2255  [또또 1+1] 스탠다드 더블    9.5  \n",
       "2256           스탠다드 싱글    9.5  \n",
       "2257           스탠다드 트윈    9.5  \n",
       "2258           스탠다드 더블    9.5  "
      ]
     },
     "execution_count": 9,
     "metadata": {},
     "output_type": "execute_result"
    }
   ],
   "source": [
    "import pandas as pd\n",
    "data = pd.read_csv('goodchoice/goodchoice.csv', encoding='utf-8-sig')\n",
    "print(data.shape)\n",
    "data.tail()"
   ]
  },
  {
   "cell_type": "code",
   "execution_count": null,
   "metadata": {},
   "outputs": [],
   "source": [
    "# 10. crontab 실행"
   ]
  }
 ],
 "metadata": {
  "kernelspec": {
   "display_name": "Python 3",
   "language": "python",
   "name": "python3"
  },
  "language_info": {
   "codemirror_mode": {
    "name": "ipython",
    "version": 3
   },
   "file_extension": ".py",
   "mimetype": "text/x-python",
   "name": "python",
   "nbconvert_exporter": "python",
   "pygments_lexer": "ipython3",
   "version": "3.6.9"
  }
 },
 "nbformat": 4,
 "nbformat_minor": 5
}
