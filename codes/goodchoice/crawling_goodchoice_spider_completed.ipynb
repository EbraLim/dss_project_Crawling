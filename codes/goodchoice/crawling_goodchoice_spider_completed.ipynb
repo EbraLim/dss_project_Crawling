{
 "cells": [
  {
   "cell_type": "markdown",
   "metadata": {},
   "source": [
    "# 1. 프로젝트 생성"
   ]
  },
  {
   "cell_type": "code",
   "execution_count": 1,
   "metadata": {},
   "outputs": [
    {
     "name": "stdout",
     "output_type": "stream",
     "text": [
      "New Scrapy project 'goodchoice', using template directory '/home/ubuntu/.pyenv/versions/3.6.9/envs/python3/lib/python3.6/site-packages/scrapy/templates/project', created in:\r\n",
      "    /home/ubuntu/python3/project/codes/crawling/goodchoice\r\n",
      "\r\n",
      "You can start your first spider with:\r\n",
      "    cd goodchoice\r\n",
      "    scrapy genspider example example.com\r\n"
     ]
    }
   ],
   "source": [
    "!rm -rf goodchoice\n",
    "!scrapy startproject goodchoice"
   ]
  },
  {
   "cell_type": "markdown",
   "metadata": {},
   "source": [
    "# 2. xpath 찾기"
   ]
  },
  {
   "cell_type": "code",
   "execution_count": 1,
   "metadata": {},
   "outputs": [],
   "source": [
    "# 1) gu별로 페이지 받았을 때, 호텔리스트 받기 위한 xpath"
   ]
  },
  {
   "cell_type": "code",
   "execution_count": null,
   "metadata": {},
   "outputs": [],
   "source": [
    "links = response.xpath('//*[@id=\"poduct_list_area\"]/li/a/@href').extract()"
   ]
  },
  {
   "cell_type": "code",
   "execution_count": null,
   "metadata": {},
   "outputs": [],
   "source": [
    "# 2) 호텔별로 상세페이지 링크 받았을 때, 각호텔별 상세정보 받기 위한 xpath"
   ]
  },
  {
   "cell_type": "code",
   "execution_count": 6,
   "metadata": {},
   "outputs": [],
   "source": [
    "# xpath 찾기 전에 필요한 사전 import & settings\n",
    "import scrapy, requests\n",
    "from scrapy.http import TextResponse\n",
    "import datetime\n",
    "import re\n",
    "\n",
    "\n",
    "KST = datetime.timezone(datetime.timedelta(hours=9))\n",
    "today = datetime.datetime.now(tz=KST)\n",
    "start_date= today.strftime(\"%Y-%m-%d\") # 시작일 디폴트 = 오늘\n",
    "end_date = (today + datetime.timedelta(days=1)).strftime(\"%Y-%m-%d\") # 종료일 디폴트 = 내일\n",
    "staydays = (datetime.datetime.strptime(end_date,'%Y-%m-%d').date() - \\\n",
    "            datetime.datetime.strptime(start_date,'%Y-%m-%d').date()).days # 숙박일수 디폴트 = 1박start_date, end_date\n",
    "persons = 2\n",
    "gu_code = ['2012']\n",
    "\n",
    "\n",
    "# 2012 하나에 대해 링크들 가져오기\n",
    "for gu in gu_code:\n",
    "        url = f'https://www.goodchoice.kr/product/search/2/{gu}?sort=HIT\\\n",
    "&sel_date={start_date}&sel_date2={end_date}&persons={persons}'\n",
    "        req = requests.get(url)\n",
    "        response = TextResponse(req.url, body=req.text, encoding='utf-8')\n",
    "        links = response.xpath('//*[@id=\"poduct_list_area\"]/li/a/@href').extract()"
   ]
  },
  {
   "cell_type": "code",
   "execution_count": 22,
   "metadata": {
    "collapsed": true
   },
   "outputs": [
    {
     "name": "stdout",
     "output_type": "stream",
     "text": [
      "[공동구매] 인터컨티넨탈 서울 코엑스\n",
      "5성급\n",
      "9.6\n",
      "서울 강남구 삼성동 159\n",
      "['[주중! 공동구매 머선129 패키지] 수피리어 더블', '[주중! 공동구매 머선129 패키지] 수피리어 트윈', '[주중! 공동구매 머선129 패키지-2인 조식] ...', '[주중! 공동구매 머선129 패키지-2인 조식] ...', '[미니바 습격 패키지] 수피리어 더블', '[미니바 습격 패키지] 수피리어 트윈', '[봄캉스 특가! Fresh한 시작] 수피리어 더블', '[봄캉스 특가! Fresh한 시작] 수피리어 트윈', '수피리어 더블', '수피리어 트윈', '[Stay and Eat more 패키지] 수피리어 더블', '[Stay and Eat more 패키지] 수피리어 트윈', '[술기로운 생활 패키지] 수피리어 더블', '[술기로운 생활 패키지] 수피리어 트윈', '[비타 스프링 패키지] 수피리어 더블', '[비타 스프링 패키지] 수피리어 트윈', '[Lovely Bubbly 키즈 패키지] 수피리어 더블', '[Lovely Bubbly 키즈 패키지] 수피리어 트윈', '[반짝이는 연애일기 패키지] 수피리어 더블', '[반짝이는 연애일기 패키지] 수피리어 트윈']\n",
      "['119,000원', '119,000원', '159,000원', '159,000원', '185,000원', '185,000원', '202,000원', '202,000원', '211,750원', '211,750원', '212,960원', '212,960원', '220,000원', '220,000원', '230,000원', '230,000원', '250,000원', '250,000원', '260,000원', '260,000원']\n",
      "261\n",
      "https://www.goodchoice.kr/product/detail?ano=6980&adcno=2&sel_date=2021-03-11&sel_date2=2021-03-12\n"
     ]
    }
   ],
   "source": [
    "# 2012 링크들 중 3개에 대해서 테스트 진행 -> Success\n",
    "for link in links[:1]:\n",
    "    req = requests.get(link)\n",
    "    response = TextResponse(req.url, body=req.text, encoding='utf-8')\n",
    "    \n",
    "    # name\n",
    "    name = response.xpath('//*[@id=\"content\"]/div[1]/div[2]/div[1]/h2/text()')[0].extract()\n",
    "    # level\n",
    "    level = response.xpath('//*[@id=\"content\"]/div[1]/div[2]/div[1]/span/text()')[0].extract()\n",
    "    # score\n",
    "    try:\n",
    "        score = response.xpath('//*[@id=\"content\"]/div[1]/div[2]/div[1]/div[1]/span/text()')[0].extract()\n",
    "    except:\n",
    "        score = ['점수없음']\n",
    "    # location    \n",
    "    location = response.xpath('//*[@id=\"content\"]/div[1]/div[2]/div[1]/p[2]/text()')[0].extract()\n",
    "    # roomtype\n",
    "    try:\n",
    "        roomtype = response.xpath('//*[@id=\"product_filter_form\"]/article/div/strong/text()')[1:].extract()\n",
    "    except:\n",
    "        roomtype = ['예약만실']\n",
    "\n",
    "    # price\n",
    "    price = []\n",
    "    for num in range(2, 2+len(roomtype)):\n",
    "        try:\n",
    "            price.append(response.xpath(f'//*[@id=\"product_filter_form\"]/article/div[{num}]/div[3]/div/div/div/p[2]/b/text()')[0].extract())\n",
    "        except:\n",
    "            price.append('다른날짜확인')\n",
    "\n",
    "    # review (link에 직접 담겨있지 않으며 link url의 hotel_id로 request url 재구성 필요)\n",
    "    hotel_id = re.findall(\"ano\\=([0-9]+)\\&\", response.url)[0]\n",
    "    review_url = 'https://www.goodchoice.kr/product/get_review_non'\n",
    "    params = {\"page\": 0, \"ano\": hotel_id}\n",
    "    response2 = requests.post(review_url, params)\n",
    "    review = re.findall('\"count\":([0-9]+)', response2.text)[0]\n",
    "\n",
    "    # link\n",
    "    hotel_desc_url = response.url\n",
    "    \n",
    "    \n",
    "    print(name), print(level), print(score), print(location),print(roomtype), print(price), print(review), print(link) "
   ]
  },
  {
   "cell_type": "markdown",
   "metadata": {},
   "source": [
    "# 3. items.py"
   ]
  },
  {
   "cell_type": "code",
   "execution_count": 3,
   "metadata": {},
   "outputs": [
    {
     "name": "stdout",
     "output_type": "stream",
     "text": [
      "Overwriting goodchoice/goodchoice/items.py\n"
     ]
    }
   ],
   "source": [
    "%%writefile goodchoice/goodchoice/items.py\n",
    "import scrapy\n",
    "\n",
    "\n",
    "class GoodchoiceItem(scrapy.Item):\n",
    "    date = scrapy.Field()\n",
    "    platform = scrapy.Field()\n",
    "    name = scrapy.Field()\n",
    "    level = scrapy.Field()\n",
    "    score = scrapy.Field()\n",
    "    review_count = scrapy.Field()\n",
    "    location = scrapy.Field()\n",
    "    room_type = scrapy.Field()\n",
    "    price = scrapy.Field()\n",
    "    link = scrapy.Field()"
   ]
  },
  {
   "cell_type": "markdown",
   "metadata": {},
   "source": [
    "# 4. spider.py"
   ]
  },
  {
   "cell_type": "code",
   "execution_count": 1,
   "metadata": {},
   "outputs": [
    {
     "name": "stdout",
     "output_type": "stream",
     "text": [
      "Overwriting goodchoice/goodchoice/spiders/spider.py\n"
     ]
    }
   ],
   "source": [
    "%%writefile goodchoice/goodchoice/spiders/spider.py\n",
    "import scrapy, requests\n",
    "from scrapy.http import TextResponse\n",
    "import datetime\n",
    "import re\n",
    "from goodchoice.items import GoodchoiceItem\n",
    "\n",
    "\n",
    "class GoodchoiceSpider(scrapy.Spider):\n",
    "    name = \"Goodchoice\"\n",
    "    allow_domain= [\"goodchoice.kr/\"]\n",
    "    KST = datetime.timezone(datetime.timedelta(hours=9))\n",
    "    today = datetime.datetime.now(tz=KST) # 한국시간으로 설정\n",
    "    start_date= today.strftime(\"%Y-%m-%d\") # 시작일 디폴트 = 오늘\n",
    "    end_date = (today + datetime.timedelta(days=1)).strftime(\"%Y-%m-%d\") # 종료일 디폴트 = 내일\n",
    "    staydays = (datetime.datetime.strptime(end_date,'%Y-%m-%d').date() - \\\n",
    "                datetime.datetime.strptime(start_date,'%Y-%m-%d').date()).days # 숙박일수 디폴트 = 1박start_date, end_date\n",
    "    persons, staydays = 2, 1\n",
    "    start_urls= [\"https://www.dailyhotel.com/\"]\n",
    "\n",
    "    \n",
    "    def start_requests(self):\n",
    "        KST = datetime.timezone(datetime.timedelta(hours=9))\n",
    "        today = datetime.datetime.now(tz=KST) # 한국시간으로 설정\n",
    "        start_date= today.strftime(\"%Y-%m-%d\") # 시작일 디폴트 = 오늘\n",
    "        end_date = (today + datetime.timedelta(days=1)).strftime(\"%Y-%m-%d\") # 종료일 디폴트 = 내일\n",
    "        persons = 2\n",
    "        gu_code = ['2012', '2019', '2016', '2014', '2015', '2020', '2018', '2017', '2021']\n",
    "        for gu in gu_code:\n",
    "            start_url = f'https://www.goodchoice.kr/product/search/2/{gu}?sort=HIT\\\n",
    "            &sel_date={start_date}&sel_date2={end_date}&persons={persons}'\n",
    "            yield scrapy.Request(start_url, callback=self.parse)\n",
    "            \n",
    "            \n",
    "    def parse(self, response):\n",
    "        links = response.xpath('//*[@id=\"poduct_list_area\"]/li/a/@href').extract()\n",
    "        for link in links:\n",
    "            yield scrapy.Request(link, callback=self.parse_content)\n",
    "            \n",
    "            \n",
    "    def parse_content(self, response):\n",
    "        KST = datetime.timezone(datetime.timedelta(hours=9))\n",
    "        today = datetime.datetime.now(tz=KST) # 한국시간으로 설정\n",
    "        date_for_column= today.strftime(\"%Y/%m/%d %H:%M\") # 시작일 디폴트 = 오늘\n",
    "        # date\n",
    "        date = date_for_column\n",
    "        # name\n",
    "        name = response.xpath('//*[@id=\"content\"]/div[1]/div[2]/div[1]/h2/text()')[0].extract()\n",
    "        # level\n",
    "        level = response.xpath('//*[@id=\"content\"]/div[1]/div[2]/div[1]/span/text()')[0].extract()\n",
    "        # score\n",
    "        try:\n",
    "            tmp = response.xpath('//*[@id=\"content\"]/div[1]/div[2]/div[1]/div[1]/span/text()')[0].extract()\n",
    "            score = round(float(tmp)/2, 1)\n",
    "        except:\n",
    "            score = float(0)\n",
    "        # location    \n",
    "        location = response.xpath('//*[@id=\"content\"]/div[1]/div[2]/div[1]/p[2]/text()')[0].extract()\n",
    "        # roomtype\n",
    "        try:\n",
    "            roomtype = response.xpath('//*[@id=\"product_filter_form\"]/article/div/strong/text()')[1:].extract()\n",
    "        except:\n",
    "            roomtype = ['예약만실']\n",
    "        # price\n",
    "        price = []\n",
    "        for num in range(2, 2+len(roomtype)):\n",
    "            try:\n",
    "                tmp = response.xpath(f'//*[@id=\"product_filter_form\"]/article/div[{num}]/div[3]/div/div/div/p[2]/b/text()')[0].extract()\n",
    "                tmp = tmp.replace(',',\"\")\n",
    "                tmp = tmp.replace('원','')\n",
    "                price.append(int(tmp))\n",
    "            except:\n",
    "                price.append(int(0))\n",
    "        # review (link에 직접 담겨있지 않으며 link url의 hotel_id로 request url 재구성 필요)\n",
    "        hotel_id = re.findall(\"ano\\=([0-9]+)\\&\", response.url)[0]\n",
    "        review_url = 'https://www.goodchoice.kr/product/get_review_non'\n",
    "        params = {\"page\": 0, \"ano\": hotel_id}\n",
    "        response2 = requests.post(review_url, params)\n",
    "        review = float(re.findall('\"count\":([0-9]+)', response2.text)[0])\n",
    "        # link\n",
    "        hotel_desc_url = response.url\n",
    "        # platform\n",
    "        platform = \"여기어때\"\n",
    "        \n",
    "        \n",
    "        item = GoodchoiceItem()\n",
    "        for i in range(len(roomtype)):\n",
    "            item['date'] = date\n",
    "            item['platform'] = platform\n",
    "            item['name'] = name\n",
    "            item['level'] = level\n",
    "            item['score'] = score\n",
    "            item['review_count'] = review\n",
    "            item['location'] = location\n",
    "            item['room_type'] = roomtype[i]\n",
    "            item['price'] = price[i]\n",
    "            item['link'] = hotel_desc_url\n",
    "            yield item"
   ]
  },
  {
   "cell_type": "markdown",
   "metadata": {},
   "source": [
    "# 5. settings.py: robots.txt 여부 파악"
   ]
  },
  {
   "cell_type": "markdown",
   "metadata": {},
   "source": [
    "# 6. 프로젝트 실행"
   ]
  },
  {
   "cell_type": "code",
   "execution_count": 5,
   "metadata": {},
   "outputs": [
    {
     "name": "stdout",
     "output_type": "stream",
     "text": [
      "Writing rungood.sh\n"
     ]
    }
   ],
   "source": [
    "%%writefile rungood.sh\n",
    "cd goodchoice\n",
    "rm goodchoice.csv\n",
    "scrapy crawl Goodchoice -o goodchoice.csv "
   ]
  },
  {
   "cell_type": "markdown",
   "metadata": {},
   "source": [
    "# 7. pipeline.py: 크롤링데이터 mongodb에 저장"
   ]
  },
  {
   "cell_type": "code",
   "execution_count": 2,
   "metadata": {},
   "outputs": [],
   "source": [
    "# scrapy project에 pymongo module 생성"
   ]
  },
  {
   "cell_type": "code",
   "execution_count": 6,
   "metadata": {},
   "outputs": [
    {
     "name": "stdout",
     "output_type": "stream",
     "text": [
      "Writing goodchoice/goodchoice/mongodb.py\n"
     ]
    }
   ],
   "source": [
    "%%writefile goodchoice/goodchoice/mongodb.py\n",
    "import pymongo\n",
    "\n",
    "\n",
    "client = pymongo.MongoClient(\"mongodb://15.165.254.37:27017\")\n",
    "collection = client.hotel.hotel_info"
   ]
  },
  {
   "cell_type": "code",
   "execution_count": 1,
   "metadata": {},
   "outputs": [],
   "source": [
    "# pipeline.py 설정"
   ]
  },
  {
   "cell_type": "code",
   "execution_count": 7,
   "metadata": {},
   "outputs": [
    {
     "name": "stdout",
     "output_type": "stream",
     "text": [
      "Overwriting goodchoice/goodchoice/pipelines.py\n"
     ]
    }
   ],
   "source": [
    "%%writefile goodchoice/goodchoice/pipelines.py\n",
    "from itemadapter import ItemAdapter\n",
    "from .mongodb import collection\n",
    "\n",
    "\n",
    "class GoodchoicePipeline:\n",
    "    def process_item(self, item, spider):\n",
    "        data = {\"date\": item['date'], \"platform\": item['platform'], \"name\": item['name'],\n",
    "                \"level\": item['level'], \"score\": item['score'], \"review\": item['review_count'],\n",
    "                \"location\": item['location'], \"room_type\": item['room_type'],\n",
    "                \"price\": item['price'], \"link\": item['link']}\n",
    "        collection.insert(data)\n",
    "        return item"
   ]
  },
  {
   "cell_type": "markdown",
   "metadata": {},
   "source": [
    "# 8. settings.py"
   ]
  },
  {
   "cell_type": "code",
   "execution_count": 9,
   "metadata": {},
   "outputs": [],
   "source": [
    "!sed -i 's/#ITEM_PIPELINES/ITEM_PIPELINES/' goodchoice/goodchoice/settings.py\n",
    "!sed -i \"s/#    'goodchoice.pipelines.GoodchoicePipeline': 300,/    'goodchoice.pipelines.GoodchoicePipeline': 300,}/\" goodchoice/goodchoice/settings.py"
   ]
  },
  {
   "cell_type": "code",
   "execution_count": 10,
   "metadata": {},
   "outputs": [
    {
     "name": "stdout",
     "output_type": "stream",
     "text": [
      "ITEM_PIPELINES = {\r\n",
      "    'goodchoice.pipelines.GoodchoicePipeline': 300,}\r\n",
      "#}\r\n"
     ]
    }
   ],
   "source": [
    "!head -n 67 goodchoice/goodchoice/settings.py | tail -n 3"
   ]
  },
  {
   "cell_type": "markdown",
   "metadata": {},
   "source": [
    "# 9. 프로젝트 실행!"
   ]
  },
  {
   "cell_type": "code",
   "execution_count": null,
   "metadata": {},
   "outputs": [],
   "source": [
    "!source rungood.sh"
   ]
  },
  {
   "cell_type": "code",
   "execution_count": null,
   "metadata": {},
   "outputs": [],
   "source": [
    "# 결과 정상 여부 확인"
   ]
  },
  {
   "cell_type": "code",
   "execution_count": 12,
   "metadata": {
    "scrolled": true
   },
   "outputs": [
    {
     "name": "stdout",
     "output_type": "stream",
     "text": [
      "(1922, 10)\n"
     ]
    },
    {
     "data": {
      "text/html": [
       "<div>\n",
       "<style scoped>\n",
       "    .dataframe tbody tr th:only-of-type {\n",
       "        vertical-align: middle;\n",
       "    }\n",
       "\n",
       "    .dataframe tbody tr th {\n",
       "        vertical-align: top;\n",
       "    }\n",
       "\n",
       "    .dataframe thead th {\n",
       "        text-align: right;\n",
       "    }\n",
       "</style>\n",
       "<table border=\"1\" class=\"dataframe\">\n",
       "  <thead>\n",
       "    <tr style=\"text-align: right;\">\n",
       "      <th></th>\n",
       "      <th>date</th>\n",
       "      <th>level</th>\n",
       "      <th>link</th>\n",
       "      <th>location</th>\n",
       "      <th>name</th>\n",
       "      <th>platform</th>\n",
       "      <th>price</th>\n",
       "      <th>review_count</th>\n",
       "      <th>room_type</th>\n",
       "      <th>score</th>\n",
       "    </tr>\n",
       "  </thead>\n",
       "  <tbody>\n",
       "    <tr>\n",
       "      <th>1917</th>\n",
       "      <td>2021/03/18 23:30</td>\n",
       "      <td>4성급</td>\n",
       "      <td>https://www.goodchoice.kr/product/detail?ano=6...</td>\n",
       "      <td>서울 서초구 양재동 202</td>\n",
       "      <td>더케이 호텔 서울</td>\n",
       "      <td>여기어때</td>\n",
       "      <td>77900</td>\n",
       "      <td>509</td>\n",
       "      <td>디럭스 트윈</td>\n",
       "      <td>8.7</td>\n",
       "    </tr>\n",
       "    <tr>\n",
       "      <th>1918</th>\n",
       "      <td>2021/03/18 23:30</td>\n",
       "      <td>4성급</td>\n",
       "      <td>https://www.goodchoice.kr/product/detail?ano=6...</td>\n",
       "      <td>서울 서초구 양재동 202</td>\n",
       "      <td>더케이 호텔 서울</td>\n",
       "      <td>여기어때</td>\n",
       "      <td>88000</td>\n",
       "      <td>509</td>\n",
       "      <td>비즈니스 더블</td>\n",
       "      <td>8.7</td>\n",
       "    </tr>\n",
       "    <tr>\n",
       "      <th>1919</th>\n",
       "      <td>2021/03/18 23:30</td>\n",
       "      <td>4성급</td>\n",
       "      <td>https://www.goodchoice.kr/product/detail?ano=6...</td>\n",
       "      <td>서울 서초구 양재동 202</td>\n",
       "      <td>더케이 호텔 서울</td>\n",
       "      <td>여기어때</td>\n",
       "      <td>88000</td>\n",
       "      <td>509</td>\n",
       "      <td>[Coffee 패키지] 디럭스 트윈</td>\n",
       "      <td>8.7</td>\n",
       "    </tr>\n",
       "    <tr>\n",
       "      <th>1920</th>\n",
       "      <td>2021/03/18 23:30</td>\n",
       "      <td>4성급</td>\n",
       "      <td>https://www.goodchoice.kr/product/detail?ano=6...</td>\n",
       "      <td>서울 서초구 양재동 202</td>\n",
       "      <td>더케이 호텔 서울</td>\n",
       "      <td>여기어때</td>\n",
       "      <td>95000</td>\n",
       "      <td>509</td>\n",
       "      <td>[와인 패키지] 디럭스 트윈</td>\n",
       "      <td>8.7</td>\n",
       "    </tr>\n",
       "    <tr>\n",
       "      <th>1921</th>\n",
       "      <td>2021/03/18 23:30</td>\n",
       "      <td>4성급</td>\n",
       "      <td>https://www.goodchoice.kr/product/detail?ano=6...</td>\n",
       "      <td>서울 서초구 양재동 202</td>\n",
       "      <td>더케이 호텔 서울</td>\n",
       "      <td>여기어때</td>\n",
       "      <td>211500</td>\n",
       "      <td>509</td>\n",
       "      <td>양특실</td>\n",
       "      <td>8.7</td>\n",
       "    </tr>\n",
       "  </tbody>\n",
       "</table>\n",
       "</div>"
      ],
      "text/plain": [
       "                  date level  \\\n",
       "1917  2021/03/18 23:30   4성급   \n",
       "1918  2021/03/18 23:30   4성급   \n",
       "1919  2021/03/18 23:30   4성급   \n",
       "1920  2021/03/18 23:30   4성급   \n",
       "1921  2021/03/18 23:30   4성급   \n",
       "\n",
       "                                                   link        location  \\\n",
       "1917  https://www.goodchoice.kr/product/detail?ano=6...  서울 서초구 양재동 202   \n",
       "1918  https://www.goodchoice.kr/product/detail?ano=6...  서울 서초구 양재동 202   \n",
       "1919  https://www.goodchoice.kr/product/detail?ano=6...  서울 서초구 양재동 202   \n",
       "1920  https://www.goodchoice.kr/product/detail?ano=6...  서울 서초구 양재동 202   \n",
       "1921  https://www.goodchoice.kr/product/detail?ano=6...  서울 서초구 양재동 202   \n",
       "\n",
       "           name platform   price  review_count            room_type  score  \n",
       "1917  더케이 호텔 서울     여기어때   77900           509               디럭스 트윈    8.7  \n",
       "1918  더케이 호텔 서울     여기어때   88000           509              비즈니스 더블    8.7  \n",
       "1919  더케이 호텔 서울     여기어때   88000           509  [Coffee 패키지] 디럭스 트윈    8.7  \n",
       "1920  더케이 호텔 서울     여기어때   95000           509      [와인 패키지] 디럭스 트윈    8.7  \n",
       "1921  더케이 호텔 서울     여기어때  211500           509                  양특실    8.7  "
      ]
     },
     "execution_count": 12,
     "metadata": {},
     "output_type": "execute_result"
    }
   ],
   "source": [
    "import pandas as pd\n",
    "data = pd.read_csv('goodchoice/goodchoice.csv', encoding='utf-8-sig')\n",
    "print(data.shape)\n",
    "data.tail()"
   ]
  },
  {
   "cell_type": "code",
   "execution_count": null,
   "metadata": {},
   "outputs": [],
   "source": [
    "# 10. crontab 실행"
   ]
  }
 ],
 "metadata": {
  "kernelspec": {
   "display_name": "Python 3",
   "language": "python",
   "name": "python3"
  },
  "language_info": {
   "codemirror_mode": {
    "name": "ipython",
    "version": 3
   },
   "file_extension": ".py",
   "mimetype": "text/x-python",
   "name": "python",
   "nbconvert_exporter": "python",
   "pygments_lexer": "ipython3",
   "version": "3.6.9"
  }
 },
 "nbformat": 4,
 "nbformat_minor": 5
}
