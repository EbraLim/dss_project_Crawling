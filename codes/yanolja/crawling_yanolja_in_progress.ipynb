{
 "cells": [
  {
   "cell_type": "markdown",
   "metadata": {},
   "source": [
    "# < Yanolja crawling >"
   ]
  },
  {
   "cell_type": "code",
   "execution_count": 1,
   "metadata": {},
   "outputs": [],
   "source": [
    "import scrapy, requests\n",
    "import pandas as pd\n",
    "import json\n",
    "from scrapy.http import TextResponse"
   ]
  },
  {
   "cell_type": "markdown",
   "metadata": {},
   "source": [
    "# 1. 프로젝트 생성"
   ]
  },
  {
   "cell_type": "code",
   "execution_count": 44,
   "metadata": {},
   "outputs": [
    {
     "name": "stdout",
     "output_type": "stream",
     "text": [
      "New Scrapy project 'yanolja_hotel', using template directory '/home/ubuntu/.pyenv/versions/3.6.9/envs/python3/lib/python3.6/site-packages/scrapy/templates/project', created in:\r\n",
      "    /home/ubuntu/python3/notebook/project/crawling/crawling-repo-2/in_progress/yanolja_hotel\r\n",
      "\r\n",
      "You can start your first spider with:\r\n",
      "    cd yanolja_hotel\r\n",
      "    scrapy genspider example example.com\r\n"
     ]
    }
   ],
   "source": [
    "!rm -rf yanolja_hotel\n",
    "!scrapy startproject yanolja_hotel"
   ]
  },
  {
   "cell_type": "markdown",
   "metadata": {},
   "source": [
    "# 2. xpath 찾기"
   ]
  },
  {
   "cell_type": "code",
   "execution_count": null,
   "metadata": {},
   "outputs": [],
   "source": [
    "#호텔 key값 뽑아내기"
   ]
  },
  {
   "cell_type": "code",
   "execution_count": 2,
   "metadata": {},
   "outputs": [],
   "source": [
    "%%writefile yanoljah_hotel/yanolja.py #호텔 key값 얻는 모듈 생성 -> yanolja.py\n",
    "import requests\n",
    "import datetime\n",
    "\n",
    "def get_hotel_keys():    \n",
    "    headers = {\"User-Agent\": \"Mozilla/5.0 (Macintosh; Intel Mac OS X 10_15_7) AppleWebKit/537.36 (KHTML, like Gecko) Chrome/89.0.4389.82 Safari/537.36\", \n",
    "           \"X-Requested-With\": \"XMLHttpRequest\"\n",
    "              }\n",
    "    today = datetime.date.today()\n",
    "    checkin_date = today.strftime(\"%Y-%m-%d\")\n",
    "    checkout_date = (today + datetime.timedelta(days=1)).strftime(\"%Y-%m-%d\")\n",
    "    region = \"서울\"\n",
    "    num=0\n",
    "    page = 1\n",
    "    key_info = []\n",
    "    while True:\n",
    "        parent_url = f\"https://www.yanolja.com/api/v1/contents/search?advert=KEYWORD&capacityAdult=2&capacityChild=0\\\n",
    "    &checkinDate={checkin_date}&checkoutDate={checkout_date}&hotel=1&keyword=서울&lat=37.50681&lng=127.06624&page={page}&limit=20&\\\n",
    "    searchKeyword={region}&searchType=hotel&sort=100&pathDivision=keyword-hotel&themes=\"\n",
    "        req = requests.get(parent_url, headers=headers)\n",
    "        response = req.json()\n",
    "        #print('page=', str(apage))\n",
    "        page += 1\n",
    "\n",
    "        if response[\"motels\"][\"counts\"] > 0:\n",
    "            key = response[\"motels\"]\n",
    "            key_info.append(key)\n",
    "        else:\n",
    "            break\n",
    "    hotel_keys = []\n",
    "    for i in key_info:\n",
    "        for j in i['lists']:\n",
    "            hotel_keys.append(j['key'])        \n",
    "    return hotel_keys"
   ]
  },
  {
   "cell_type": "code",
   "execution_count": 3,
   "metadata": {},
   "outputs": [
    {
     "data": {
      "text/plain": [
       "416"
      ]
     },
     "execution_count": 3,
     "metadata": {},
     "output_type": "execute_result"
    }
   ],
   "source": [
    "hotel_keys = get_hotel_keys()\n",
    "len(hotel_keys)"
   ]
  },
  {
   "cell_type": "code",
   "execution_count": null,
   "metadata": {},
   "outputs": [],
   "source": [
    "# xpath 확인 & 데이터프레임 만들기"
   ]
  },
  {
   "cell_type": "code",
   "execution_count": 4,
   "metadata": {},
   "outputs": [
    {
     "data": {
      "text/plain": [
       "416"
      ]
     },
     "execution_count": 4,
     "metadata": {},
     "output_type": "execute_result"
    }
   ],
   "source": [
    "# link 확인\n",
    "links = []\n",
    "url = \"https://www.yanolja.com/hotel/\"\n",
    "for hotel_key in hotel_keys:\n",
    "    hotel_url = url + hotel_key\n",
    "    links.append(hotel_url)\n",
    "len(links)"
   ]
  },
  {
   "cell_type": "code",
   "execution_count": 5,
   "metadata": {},
   "outputs": [
    {
     "data": {
      "text/plain": [
       "<200 https://www.yanolja.com/hotel/3013410>"
      ]
     },
     "execution_count": 5,
     "metadata": {},
     "output_type": "execute_result"
    }
   ],
   "source": [
    "link = links[0]\n",
    "headers = {\"user-agent\": \"Mozilla/5.0 (Macintosh; Intel Mac OS X 10_15_7) AppleWebKit/537.36 (KHTML, like Gecko) Chrome/89.0.4389.82 Safari/537.36\"}\n",
    "req = requests.get(link, headers=headers)\n",
    "response = TextResponse(req.url, body=req.text, encoding=\"utf-8\")\n",
    "response"
   ]
  },
  {
   "cell_type": "code",
   "execution_count": 6,
   "metadata": {},
   "outputs": [
    {
     "data": {
      "text/plain": [
       "('서울특별시 영등포구 경인로 870',\n",
       " '페어필드 바이 메리어트 서울',\n",
       " '4성급',\n",
       " '4.7',\n",
       " '8,823',\n",
       " ['Superior Single',\n",
       "  'Premier Twin',\n",
       "  'Premier King',\n",
       "  'Premier Twin',\n",
       "  'Premier Twin',\n",
       "  'Premier King',\n",
       "  'Premier Twin',\n",
       "  'Premier Twin',\n",
       "  'Premier King',\n",
       "  'Premier Twin',\n",
       "  'Premier King',\n",
       "  'Premier King',\n",
       "  'Premier King',\n",
       "  'Superior Single'],\n",
       " ['룸온리',\n",
       "  '특가야놀자☆After 21pm Check-in/연박불가',\n",
       "  '특가야놀자☆After 21pm Check-in/연박불가',\n",
       "  '특가야놀자☆선착순 고층 룸UP+27시간스테이',\n",
       "  '특가야놀자☆선착순 고층 룸UP',\n",
       "  '특가야놀자☆선착순 고층 룸UP+25시간',\n",
       "  '특가야놀자☆선착순 고층 룸UP+25시간',\n",
       "  '특가야놀자☆27시간스테이',\n",
       "  '특가야놀자☆선착순 고층 룸UP',\n",
       "  'stay for Breakfast',\n",
       "  'stay for Breakfast',\n",
       "  '특가야놀자☆선착순 고층 룸UP+27시간',\n",
       "  '특가야놀자☆27시간스테이',\n",
       "  'stay for Breakfast'],\n",
       " ['68,000원',\n",
       "  '69,400원',\n",
       "  '69,400원',\n",
       "  '73,000원',\n",
       "  '73,000원',\n",
       "  '73,000원',\n",
       "  '73,000원',\n",
       "  '73,000원',\n",
       "  '73,000원',\n",
       "  '87,300원',\n",
       "  '87,300원',\n",
       "  '0원',\n",
       "  '0원',\n",
       "  '0원'])"
      ]
     },
     "execution_count": 6,
     "metadata": {},
     "output_type": "execute_result"
    }
   ],
   "source": [
    "# xpath 확인\n",
    "import json\n",
    "location = response.xpath('//*[@id=\"__NEXT_DATA__\"]/text()')[0].extract()\n",
    "location = json.loads(location)[\"props\"][\"pageProps\"][\"placeInfo\"][\"address\"]\n",
    "name = response.xpath('//*[@id=\"__next\"]/main/div[1]/section[2]/h1/text()')[0].extract()\n",
    "level = response.xpath('//*[@id=\"__next\"]/main/div[1]/section[2]/div[1]/div[1]/text()')[0].extract()\n",
    "score = response.xpath('//*[@id=\"__next\"]/main/div[1]/section[2]/a/div/span[1]/text()')[0].extract()\n",
    "review_count = response.xpath('//*[@id=\"__next\"]/main/div[1]/section[2]/a/span/b/text()')[0].extract()\n",
    "if response.xpath('//*[@id=\"__next\"]/main/div[1]/div[1]/section/div/div[2]/div[1]/h2/text()').extract() == []:\n",
    "    room_type = response.xpath('//*[@id=\"__next\"]/main/div[1]/div[1]/section/div/text()[1]').extract()\n",
    "else:    \n",
    "    room_type = response.xpath('//*[@id=\"__next\"]/main/div[1]/div[1]/section/div/div[2]/div[1]/h2/text()').extract()\n",
    "if response.xpath('//*[@id=\"__next\"]/main/div[1]/div[1]/section/div/div[2]/div[2]/text()').extract() == []:\n",
    "    room_detail = response.xpath('//*[@id=\"__next\"]/main/div[1]/div[1]/section/div/text()[1]').extract()\n",
    "else:\n",
    "    room_detail = response.xpath('//*[@id=\"__next\"]/main/div[1]/div[1]/section/div/div[2]/div[2]/text()').extract()\n",
    "price = response.xpath('//*[@id=\"__next\"]/main/div[1]/div[1]/section/div/div[2]/div[4]/div/div[5]/span/text()').extract()\n",
    "prices=[]\n",
    "for num in range(len(room_type)):\n",
    "    price = response.xpath('//*[@id=\"__NEXT_DATA__\"]/text()')[0].extract()\n",
    "    price = json.loads(price)[\"props\"][\"pageProps\"][\"placeInfo\"][\"rooms\"][num][\"prices\"][0][\"price\"][\"discount\"][\"price\"]\n",
    "    prices.append(price)\n",
    "        \n",
    "location, name, level, score, review_count, room_type, room_detail, prices"
   ]
  },
  {
   "cell_type": "code",
   "execution_count": 147,
   "metadata": {
    "scrolled": true
   },
   "outputs": [
    {
     "name": "stdout",
     "output_type": "stream",
     "text": [
      "1 페어필드 바이 메리어트 서울\n",
      "2 나인트리 프리미어 명동2\n",
      "3 영등포 GMS 호텔\n",
      "4 신라스테이 구로\n",
      "5 글래드 마포\n",
      "6 노보텔 앰배서더 서울 용산\n",
      "7 신라스테이 마포\n",
      "8 더 파크호텔 서울\n",
      "9 홀리데이인 익스프레스 서울 홍대\n",
      "10 호텔 더 디자이너스 여의도\n"
     ]
    }
   ],
   "source": [
    "# df 확인\n",
    "locations, names, levels, scores, review_counts, room_types, room_details, prices_1, loading_urls = [], [], [], [], [] ,[], [], [], []\n",
    "\n",
    "num1 = 0\n",
    "for link in links[:10]:\n",
    "    try:\n",
    "        headers = {\"User-Agent\": \"Mozilla/5.0 (Macintosh; Intel Mac OS X 10_15_7) AppleWebKit/537.36 (KHTML, like Gecko) Chrome/89.0.4389.82 Safari/537.36\"}\n",
    "        req = requests.get(link, headers=headers)\n",
    "        response = TextResponse(req.url, body=req.text, encoding=\"utf-8\")\n",
    "\n",
    "        location = response.xpath('//*[@id=\"__NEXT_DATA__\"]/text()')[0].extract()\n",
    "        location = json.loads(location)[\"props\"][\"pageProps\"][\"placeInfo\"][\"address\"]\n",
    "        name = response.xpath('//*[@id=\"__next\"]/main/div[1]/section[2]/h1/text()')[0].extract()\n",
    "        level = response.xpath('//*[@id=\"__next\"]/main/div[1]/section[2]/div[1]/div[1]/text()')[0].extract()\n",
    "        score = response.xpath('//*[@id=\"__next\"]/main/div[1]/section[2]/a/div/span[1]/text()')[0].extract()\n",
    "        review_count = response.xpath('//*[@id=\"__next\"]/main/div[1]/section[2]/a/span/b/text()')[0].extract()\n",
    "        if response.xpath('//*[@id=\"__next\"]/main/div[1]/div[1]/section/div/div[2]/div[1]/h2/text()').extract() == []:\n",
    "            room_type = response.xpath('//*[@id=\"__next\"]/main/div[1]/div[1]/section/div/text()[1]').extract()\n",
    "        else:    \n",
    "            room_type = response.xpath('//*[@id=\"__next\"]/main/div[1]/div[1]/section/div/div[2]/div[1]/h2/text()').extract()\n",
    "        if response.xpath('//*[@id=\"__next\"]/main/div[1]/div[1]/section/div/div[2]/div[2]/text()').extract() == []:\n",
    "            room_detail = response.xpath('//*[@id=\"__next\"]/main/div[1]/div[1]/section/div/text()[1]').extract()\n",
    "        else:\n",
    "            room_detail = response.xpath('//*[@id=\"__next\"]/main/div[1]/div[1]/section/div/div[2]/div[2]/text()').extract()\n",
    "        try:\n",
    "            price = response.xpath('//*[@id=\"__next\"]/main/div[1]/div[1]/section/div/div[2]/div[4]/div/div[5]/span/text()').extract()\n",
    "            prices=[]\n",
    "            for num in range(len(room_type)):\n",
    "                price = response.xpath('//*[@id=\"__NEXT_DATA__\"]/text()')[0].extract()\n",
    "                price = json.loads(price)[\"props\"][\"pageProps\"][\"placeInfo\"][\"rooms\"][num][\"prices\"][0][\"price\"][\"discount\"][\"price\"]\n",
    "                prices.append(price)\n",
    "        except:\n",
    "            prices= [\"예약마감\"]\n",
    "    except:\n",
    "        location = \"페이지 없음\"\n",
    "        location = \"페이지 없음\"\n",
    "        name = \"페이지 없음\"\n",
    "        level = \"페이지 없음\"\n",
    "        score = \"페이지 없음\"\n",
    "        review_count = \"페이지 없음\"\n",
    "        room_type = [\"페이지 없음\"]\n",
    "        room_detail = [\"페이지 없음\"]\n",
    "        price = [\"페이지 없음\"]\n",
    "        prices= [\"페이지 없음\"]\n",
    "        \n",
    "    location = [location] * len(room_type)\n",
    "    name = [name] * len(room_type)\n",
    "    level = [level] * len(room_type)\n",
    "    score = [score] * len(room_type)\n",
    "    review_count = [review_count] * len(room_type)\n",
    "    link = [link] * len(room_type)\n",
    "    \n",
    "    locations.extend(location)\n",
    "    names.extend(name)\n",
    "    levels.extend(level)\n",
    "    scores.extend(score)\n",
    "    review_counts.extend(review_count)\n",
    "    room_types.extend(room_type)\n",
    "    room_details.extend(room_detail)\n",
    "    prices_1.extend(prices)\n",
    "    loading_urls.extend(link)\n",
    "    num1+=1\n",
    "    print(str(num1) ,name[0])"
   ]
  },
  {
   "cell_type": "code",
   "execution_count": 21,
   "metadata": {},
   "outputs": [
    {
     "data": {
      "text/html": [
       "<div>\n",
       "<style scoped>\n",
       "    .dataframe tbody tr th:only-of-type {\n",
       "        vertical-align: middle;\n",
       "    }\n",
       "\n",
       "    .dataframe tbody tr th {\n",
       "        vertical-align: top;\n",
       "    }\n",
       "\n",
       "    .dataframe thead th {\n",
       "        text-align: right;\n",
       "    }\n",
       "</style>\n",
       "<table border=\"1\" class=\"dataframe\">\n",
       "  <thead>\n",
       "    <tr style=\"text-align: right;\">\n",
       "      <th></th>\n",
       "      <th>Name</th>\n",
       "      <th>Level</th>\n",
       "      <th>Score</th>\n",
       "      <th>Location</th>\n",
       "      <th>RoomType</th>\n",
       "      <th>Roomdetail</th>\n",
       "      <th>Price</th>\n",
       "      <th>Link</th>\n",
       "      <th>Review</th>\n",
       "    </tr>\n",
       "  </thead>\n",
       "  <tbody>\n",
       "    <tr>\n",
       "      <th>203</th>\n",
       "      <td>더 파크호텔 서울</td>\n",
       "      <td>4성급</td>\n",
       "      <td>4.6</td>\n",
       "      <td>서울특별시 영등포구 양평로 136</td>\n",
       "      <td>파크 홈 스위트</td>\n",
       "      <td>마스크팩 무료 증정, 대중교통 이용시 커피 무료 이용권 제공</td>\n",
       "      <td>150,000원</td>\n",
       "      <td>https://www.yanolja.com/hotel/3016365</td>\n",
       "      <td>1,478</td>\n",
       "    </tr>\n",
       "    <tr>\n",
       "      <th>204</th>\n",
       "      <td>더 파크호텔 서울</td>\n",
       "      <td>4성급</td>\n",
       "      <td>4.6</td>\n",
       "      <td>서울특별시 영등포구 양평로 136</td>\n",
       "      <td>프리미어 패밀리 스위트</td>\n",
       "      <td>마스크팩 무료 증정, 대중교통 이용시 커피 무료 이용권 제공</td>\n",
       "      <td>150,000원</td>\n",
       "      <td>https://www.yanolja.com/hotel/3016365</td>\n",
       "      <td>1,478</td>\n",
       "    </tr>\n",
       "    <tr>\n",
       "      <th>205</th>\n",
       "      <td>더 파크호텔 서울</td>\n",
       "      <td>4성급</td>\n",
       "      <td>4.6</td>\n",
       "      <td>서울특별시 영등포구 양평로 136</td>\n",
       "      <td>파크 로얄 스위트</td>\n",
       "      <td>마스크팩 무료 증정, 대중교통 이용시 커피 무료 이용권 제공</td>\n",
       "      <td>270,000원</td>\n",
       "      <td>https://www.yanolja.com/hotel/3016365</td>\n",
       "      <td>1,478</td>\n",
       "    </tr>\n",
       "    <tr>\n",
       "      <th>206</th>\n",
       "      <td>더 파크호텔 서울</td>\n",
       "      <td>4성급</td>\n",
       "      <td>4.6</td>\n",
       "      <td>서울특별시 영등포구 양평로 136</td>\n",
       "      <td>패밀리 디럭스 트리플+욕조</td>\n",
       "      <td>마스크팩 무료 증정, 대중교통 이용시 커피 무료 이용권 제공</td>\n",
       "      <td>0원</td>\n",
       "      <td>https://www.yanolja.com/hotel/3016365</td>\n",
       "      <td>1,478</td>\n",
       "    </tr>\n",
       "    <tr>\n",
       "      <th>207</th>\n",
       "      <td>더 파크호텔 서울</td>\n",
       "      <td>4성급</td>\n",
       "      <td>4.6</td>\n",
       "      <td>서울특별시 영등포구 양평로 136</td>\n",
       "      <td>파크 듀얼 스위트</td>\n",
       "      <td>마스크팩 무료 증정, 대중교통 이용시 커피 무료 이용권 제공</td>\n",
       "      <td>0원</td>\n",
       "      <td>https://www.yanolja.com/hotel/3016365</td>\n",
       "      <td>1,478</td>\n",
       "    </tr>\n",
       "  </tbody>\n",
       "</table>\n",
       "</div>"
      ],
      "text/plain": [
       "          Name Level Score            Location        RoomType  \\\n",
       "203  더 파크호텔 서울   4성급   4.6  서울특별시 영등포구 양평로 136        파크 홈 스위트   \n",
       "204  더 파크호텔 서울   4성급   4.6  서울특별시 영등포구 양평로 136    프리미어 패밀리 스위트   \n",
       "205  더 파크호텔 서울   4성급   4.6  서울특별시 영등포구 양평로 136       파크 로얄 스위트   \n",
       "206  더 파크호텔 서울   4성급   4.6  서울특별시 영등포구 양평로 136  패밀리 디럭스 트리플+욕조   \n",
       "207  더 파크호텔 서울   4성급   4.6  서울특별시 영등포구 양평로 136       파크 듀얼 스위트   \n",
       "\n",
       "                            Roomdetail     Price  \\\n",
       "203  마스크팩 무료 증정, 대중교통 이용시 커피 무료 이용권 제공  150,000원   \n",
       "204  마스크팩 무료 증정, 대중교통 이용시 커피 무료 이용권 제공  150,000원   \n",
       "205  마스크팩 무료 증정, 대중교통 이용시 커피 무료 이용권 제공  270,000원   \n",
       "206  마스크팩 무료 증정, 대중교통 이용시 커피 무료 이용권 제공        0원   \n",
       "207  마스크팩 무료 증정, 대중교통 이용시 커피 무료 이용권 제공        0원   \n",
       "\n",
       "                                      Link Review  \n",
       "203  https://www.yanolja.com/hotel/3016365  1,478  \n",
       "204  https://www.yanolja.com/hotel/3016365  1,478  \n",
       "205  https://www.yanolja.com/hotel/3016365  1,478  \n",
       "206  https://www.yanolja.com/hotel/3016365  1,478  \n",
       "207  https://www.yanolja.com/hotel/3016365  1,478  "
      ]
     },
     "execution_count": 21,
     "metadata": {},
     "output_type": "execute_result"
    }
   ],
   "source": [
    "df = pd.DataFrame({\n",
    "    'Name': names, 'Level': levels, 'Score':scores, 'Location': locations,\n",
    "    'RoomType': room_types,'Roomdetail': room_details ,'Price': prices_1, 'Link': loading_urls, 'Review' : review_counts,\n",
    "})\n",
    "df.tail()"
   ]
  },
  {
   "cell_type": "markdown",
   "metadata": {},
   "source": [
    "### --------확인 끝 spider.py로 확장---------"
   ]
  },
  {
   "cell_type": "markdown",
   "metadata": {},
   "source": [
    "# 3. items.py"
   ]
  },
  {
   "cell_type": "code",
   "execution_count": 73,
   "metadata": {},
   "outputs": [
    {
     "name": "stdout",
     "output_type": "stream",
     "text": [
      "Overwriting yanolja_hotel/yanolja_hotel/items.py\n"
     ]
    }
   ],
   "source": [
    "%%writefile yanolja_hotel/yanolja_hotel/items.py\n",
    "import scrapy\n",
    "\n",
    "class YanoljaHotelItem(scrapy.Item):\n",
    "    location = scrapy.Field()\n",
    "    name = scrapy.Field()\n",
    "    level = scrapy.Field()\n",
    "    score = scrapy.Field()\n",
    "    review_count = scrapy.Field()\n",
    "    link = scrapy.Field()\n",
    "    room_type = scrapy.Field()\n",
    "    price = scrapy.Field()\n",
    "    platform = scrapy.Field()\n",
    "    date = scrapy.Field()"
   ]
  },
  {
   "cell_type": "markdown",
   "metadata": {},
   "source": [
    "# 4. spider.py"
   ]
  },
  {
   "cell_type": "code",
   "execution_count": 3,
   "metadata": {},
   "outputs": [
    {
     "name": "stdout",
     "output_type": "stream",
     "text": [
      "Overwriting yanolja_hotel/yanolja_hotel/spiders/spider.py\n"
     ]
    }
   ],
   "source": [
    "%%writefile yanolja_hotel/yanolja_hotel/spiders/spider.py\n",
    "import scrapy\n",
    "from yanolja_hotel.items import YanoljaHotelItem\n",
    "from yanolja import get_hotel_keys\n",
    "import json\n",
    "import datetime\n",
    "\n",
    "class Spider(scrapy.Spider):\n",
    "    name = \"YanoljaHotel\"\n",
    "    allow_domain = [\"https://www.yanolja.com\"]\n",
    "    start_urls = [\"https://www.yanolja.com/hotel/\"]\n",
    "    \n",
    "    def parse(self, response):\n",
    "        hotel_keys = get_hotel_keys()\n",
    "        start_urls = \"https://www.yanolja.com/hotel/\"\n",
    "        links = []\n",
    "        headers = {\"User-Agent\": \"Mozilla/5.0 (Macintosh; Intel Mac OS X 10_15_7) AppleWebKit/537.36 (KHTML, like Gecko) Chrome/89.0.4389.82 Safari/537.36\"}\n",
    "        for hotel_key in hotel_keys:\n",
    "            hotel_url = start_urls + hotel_key\n",
    "            links.append(hotel_url)\n",
    "        for link in links:\n",
    "            yield scrapy.Request(link, headers=headers, callback=self.parse_content)\n",
    "    \n",
    "    def parse_content(self, response):\n",
    "        item = YanoljaHotelItem()\n",
    "        if response.xpath('//*[@id=\"__next\"]/main/div[1]/div[1]/section/div/div[2]/div[1]/h2/text()').extract() == []:\n",
    "            room_types = response.xpath('//*[@id=\"__next\"]/main/div[1]/div[1]/section/div/text()[1]').extract()\n",
    "        else:    \n",
    "            room_types = response.xpath('//*[@id=\"__next\"]/main/div[1]/div[1]/section/div/div[2]/div[1]/h2/text()').extract()\n",
    "        if response.xpath('//*[@id=\"__next\"]/main/div[1]/div[1]/section/div/div[2]/div[2]/text()').extract() == []:\n",
    "            room_detail = response.xpath('//*[@id=\"__next\"]/main/div[1]/div[1]/section/div/text()[1]').extract()\n",
    "        else:\n",
    "            room_detail = response.xpath('//*[@id=\"__next\"]/main/div[1]/div[1]/section/div/div[2]/div[2]/text()').extract()\n",
    "        \n",
    "        room_type_all = list(zip(room_types, room_detail))\n",
    "        roomtypes = []\n",
    "        for idx in range(len(room_type_all)):\n",
    "            room_type_all[idx] = \",\".join(room_type_all[idx])\n",
    "            roomtypes.append(room_type_all[idx])   \n",
    "\n",
    "        prices=[]\n",
    "        for num in range(len(roomtypes)):\n",
    "            price = response.xpath('//*[@id=\"__NEXT_DATA__\"]/text()')[0].extract()\n",
    "            price = json.loads(price)[\"props\"][\"pageProps\"][\"placeInfo\"][\"rooms\"][num][\"prices\"][0][\"price\"][\"discount\"][\"price\"]\n",
    "            price = int(price.strip(\"원\").replace(\",\",\"\"))\n",
    "            prices.append(price)\n",
    "\n",
    "        locations = response.xpath('//*[@id=\"__NEXT_DATA__\"]/text()')[0].extract()\n",
    "        locations = json.loads(locations)[\"props\"][\"pageProps\"][\"placeInfo\"][\"address\"]\n",
    "        names = response.xpath('//*[@id=\"__next\"]/main/div[1]/section[2]/h1/text()')[0].extract()\n",
    "        levels = response.xpath('//*[@id=\"__next\"]/main/div[1]/section[2]/div[1]/div[1]/text()')[0].extract()\n",
    "        scores = response.xpath('//*[@id=\"__next\"]/main/div[1]/section[2]/a/div/span[1]/text()')[0].extract()\n",
    "        review_counts = response.xpath('//*[@id=\"__next\"]/main/div[1]/section[2]/a/span/b/text()')[0].extract()\n",
    "        review_counts = int(review_counts.replace(\",\",\"\"))\n",
    "        links = response.url\n",
    "        platforms = \"야놀자\"\n",
    "        today = datetime.date.today()\n",
    "        today = str(today)\n",
    "        \n",
    "        for i in range(len(roomtypes)):\n",
    "            \n",
    "            item[\"platform\"] = platforms\n",
    "            item[\"location\"] = locations\n",
    "            item[\"name\"] = names\n",
    "            item[\"level\"] = levels\n",
    "            item[\"score\"] = float(scores)\n",
    "            item[\"review_count\"] = review_counts\n",
    "            item[\"link\"] = links\n",
    "            item[\"date\"] = today\n",
    "            item[\"room_type\"] = roomtypes[i]\n",
    "            item[\"price\"] = prices[i]\n",
    "            \n",
    "            yield item"
   ]
  },
  {
   "cell_type": "markdown",
   "metadata": {},
   "source": [
    "# 5. settings.py : robots.txt 여부 파악 "
   ]
  },
  {
   "cell_type": "markdown",
   "metadata": {},
   "source": [
    "# 6. 프로젝트 실행"
   ]
  },
  {
   "cell_type": "code",
   "execution_count": 1,
   "metadata": {},
   "outputs": [
    {
     "name": "stdout",
     "output_type": "stream",
     "text": [
      "Writing runyanolja.sh\n"
     ]
    }
   ],
   "source": [
    "# .sh 파일 생성\n",
    "%%writefile runyanolja.sh\n",
    "cd ~/python3/notebook/project/crawling/crawling-repo-2/in_progress/yanolja_hotel\n",
    "rm yanolja_hotel.csv\n",
    "scrapy crawl YanoljaHotel -o yanolja_hotel.csv"
   ]
  },
  {
   "cell_type": "code",
   "execution_count": null,
   "metadata": {},
   "outputs": [],
   "source": [
    "# 실행 후 프로젝트 실행여부 확인\n",
    "!/bin/bash run.sh"
   ]
  },
  {
   "cell_type": "markdown",
   "metadata": {},
   "source": [
    "# 7. pipeline.py : 크롤링한 데이터를 mongodb 저장"
   ]
  },
  {
   "cell_type": "code",
   "execution_count": null,
   "metadata": {},
   "outputs": [],
   "source": [
    "# scrapy 프로젝트에 pymongo 모듈 생성"
   ]
  },
  {
   "cell_type": "code",
   "execution_count": 12,
   "metadata": {},
   "outputs": [
    {
     "name": "stdout",
     "output_type": "stream",
     "text": [
      "Overwriting yanolja_hotel/yanolja_hotel/mongodb.py\n"
     ]
    }
   ],
   "source": [
    "%%writefile yanolja_hotel/yanolja_hotel/mongodb.py\n",
    "import pymongo\n",
    "\n",
    "client = pymongo.MongoClient(#연결할 mongdb 주소입력)\n",
    "collection = client.hotel.hotel_info"
   ]
  },
  {
   "cell_type": "code",
   "execution_count": null,
   "metadata": {},
   "outputs": [],
   "source": [
    "# pipeline.py 설정"
   ]
  },
  {
   "cell_type": "code",
   "execution_count": 13,
   "metadata": {},
   "outputs": [
    {
     "name": "stdout",
     "output_type": "stream",
     "text": [
      "Overwriting yanolja_hotel/yanolja_hotel/pipelines.py\n"
     ]
    }
   ],
   "source": [
    "%%writefile yanolja_hotel/yanolja_hotel/pipelines.py\n",
    "from itemadapter import ItemAdapter\n",
    "from .mongodb import collection\n",
    "\n",
    "class YanoljaHotelPipeline:\n",
    "    def process_item(self, item, spider):\n",
    "        data = {\"date\": item[\"date\"], \"platform\": item[\"platform\"], \"name\": item[\"name\"],\n",
    "                \"level\": item[\"level\"], \"score\": item[\"score\"], \"review\": item[\"review_count\"],\n",
    "                \"location\": item[\"location\"], \"room_type\": item[\"room_type\"],\n",
    "                \"price\": item[\"price\"],\"link\": item[\"link\"]}\n",
    "        collection.insert(data)\n",
    "        return item"
   ]
  },
  {
   "cell_type": "markdown",
   "metadata": {},
   "source": [
    "# 8. settings.py -> pipeline 설정 변경"
   ]
  },
  {
   "cell_type": "markdown",
   "metadata": {},
   "source": [
    "```\n",
    "ITEM_PIPELINES = {\n",
    "   'yanolja_hotel.pipelines.YanoljaHotelPipeline': 300,\n",
    "}\n",
    "```"
   ]
  },
  {
   "cell_type": "markdown",
   "metadata": {},
   "source": [
    "# 9. 프로젝트 실행!"
   ]
  },
  {
   "cell_type": "code",
   "execution_count": null,
   "metadata": {},
   "outputs": [],
   "source": [
    "!/bin/bash runyanolja.sh"
   ]
  },
  {
   "cell_type": "markdown",
   "metadata": {},
   "source": [
    "# 10.crontab 실행"
   ]
  }
 ],
 "metadata": {
  "kernelspec": {
   "display_name": "Python 3",
   "language": "python",
   "name": "python3"
  },
  "language_info": {
   "codemirror_mode": {
    "name": "ipython",
    "version": 3
   },
   "file_extension": ".py",
   "mimetype": "text/x-python",
   "name": "python",
   "nbconvert_exporter": "python",
   "pygments_lexer": "ipython3",
   "version": "3.6.9"
  }
 },
 "nbformat": 4,
 "nbformat_minor": 4
}
